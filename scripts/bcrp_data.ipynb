{
 "cells": [
  {
   "cell_type": "code",
   "execution_count": 9,
   "metadata": {
    "collapsed": true
   },
   "outputs": [],
   "source": [
    "# IMPORT CONFIGS\n",
    "\n",
    "import pandas as pd\n",
    "import os\n",
    "from functools import reduce\n",
    "import platform\n",
    "import requests"
   ]
  },
  {
   "cell_type": "code",
   "execution_count": 10,
   "outputs": [],
   "source": [
    "# CHANGE WORKING DIRECTORY\n",
    "\n",
    "if platform.system() == 'Windows':\n",
    "\n",
    "    os.chdir('C:/Users/pport/OneDrive/Projects/Macrofinancial-dashboard/mercados/')\n",
    "\n",
    "if platform.system() == 'Darwin':\n",
    "\n",
    "    os.chdir('/Users/pportocarrero/OneDrive/Projects/Macrofinancial-dashboard/mercados/')"
   ],
   "metadata": {
    "collapsed": false
   }
  },
  {
   "cell_type": "code",
   "execution_count": 11,
   "outputs": [
    {
     "name": "stderr",
     "output_type": "stream",
     "text": [
      "C:\\Users\\pport\\AppData\\Local\\Temp\\ipykernel_19364\\718561565.py:11: FutureWarning: The default value of regex will change from True to False in a future version.\n",
      "  embig_peru_df = embig_peru_df.apply(lambda x: x.str.replace('n.d.', ''))\n"
     ]
    }
   ],
   "source": [
    "# GET INFO ON EMBIG PERÚ\n",
    "\n",
    "embig_peru_url='https://estadisticas.bcrp.gob.pe/estadisticas/series/diarias/resultados/PD04709XD/html/2010-01-01/2100-12-31'\n",
    "\n",
    "embig_peru_html=pd.read_html(embig_peru_url)\n",
    "\n",
    "embig_peru_df = embig_peru_html[1]\n",
    "\n",
    "# WORK WITH THE DATA AND EXPORT\n",
    "\n",
    "embig_peru_df = embig_peru_df.apply(lambda x: x.str.replace('n.d.', ''))\n",
    "\n",
    "embig_peru_df['EMBIG Perú'] = pd.to_numeric(embig_peru_df['Tasas de interés: EMBIG (variación en pbs) - Spread - EMBIG Perú (pbs)'], errors='coerce')\n",
    "\n",
    "embig_peru_df = embig_peru_df.drop('Tasas de interés: EMBIG (variación en pbs) - Spread - EMBIG Perú (pbs)', axis=1)\n",
    "\n",
    "# WORK WITH THE DATE COLUMN\n",
    "\n",
    "embig_peru_df['dia'] = embig_peru_df['Fecha'].str[:2]\n",
    "embig_peru_df['año'] = '20' + embig_peru_df['Fecha'].str[-2:]\n",
    "embig_peru_df['mes'] = embig_peru_df['Fecha'].str[2:5]\n",
    "\n",
    "embig_peru_df['mes'] = embig_peru_df['mes'].replace({'Ene': '01', 'Feb': '02', 'Mar': '03', 'Abr': '04', 'May': '05', 'Jun': '06', 'Jul': '07', 'Ago': '08', 'Set': '09', 'Oct': '10', 'Nov': '11', 'Dic': '12'})\n",
    "\n",
    "embig_peru_df['date'] = embig_peru_df['dia'] + '/' + embig_peru_df['mes'] + '/' + embig_peru_df['año']\n",
    "\n",
    "embig_peru_df['date'] = pd.to_datetime(embig_peru_df['date'], format='%d/%m/%Y')\n",
    "\n",
    "embig_peru_df = embig_peru_df.drop(['Fecha', 'dia', 'año', 'mes'], axis=1)\n",
    "\n",
    "# EXPORT THE DATA\n",
    "\n",
    "embig_peru_df.to_feather('embig_peru')\n",
    "\n",
    "embig_peru_df.to_excel('embig_peru.xlsx')"
   ],
   "metadata": {
    "collapsed": false
   }
  },
  {
   "cell_type": "code",
   "execution_count": 12,
   "outputs": [
    {
     "name": "stderr",
     "output_type": "stream",
     "text": [
      "C:\\Users\\pport\\AppData\\Local\\Temp\\ipykernel_19364\\116077437.py:11: FutureWarning: The default value of regex will change from True to False in a future version.\n",
      "  embig_brasil_df = embig_brasil_df.apply(lambda x: x.str.replace('n.d.', ''))\n"
     ]
    }
   ],
   "source": [
    "# GET INFO ON EMBIG BRASIL\n",
    "\n",
    "embig_brasil_url='https://estadisticas.bcrp.gob.pe/estadisticas/series/diarias/resultados/PD04711XD/html/2010-01-01/2100-12-31'\n",
    "\n",
    "embig_brasil_html=pd.read_html(embig_brasil_url)\n",
    "\n",
    "embig_brasil_df = embig_brasil_html[1]\n",
    "\n",
    "# WORK WITH THE DATA AND EXPORT\n",
    "\n",
    "embig_brasil_df = embig_brasil_df.apply(lambda x: x.str.replace('n.d.', ''))\n",
    "\n",
    "embig_brasil_df['EMBIG Brasil'] = pd.to_numeric(embig_brasil_df['Tasas de interés: EMBIG (variación en pbs) - Spread - EMBIG Brasil (pbs)'], errors='coerce')\n",
    "\n",
    "embig_brasil_df = embig_brasil_df.drop('Tasas de interés: EMBIG (variación en pbs) - Spread - EMBIG Brasil (pbs)', axis=1)\n",
    "\n",
    "# WORK WITH THE DATE COLUMN\n",
    "\n",
    "embig_brasil_df['dia'] = embig_brasil_df['Fecha'].str[:2]\n",
    "embig_brasil_df['año'] = '20' + embig_brasil_df['Fecha'].str[-2:]\n",
    "embig_brasil_df['mes'] = embig_brasil_df['Fecha'].str[2:5]\n",
    "\n",
    "embig_brasil_df['mes'] = embig_brasil_df['mes'].replace({'Ene': '01', 'Feb': '02', 'Mar': '03', 'Abr': '04', 'May': '05', 'Jun': '06', 'Jul': '07', 'Ago': '08', 'Set': '09', 'Oct': '10', 'Nov': '11', 'Dic': '12'})\n",
    "\n",
    "embig_brasil_df['date'] = embig_brasil_df['dia'] + '/' + embig_brasil_df['mes'] + '/' + embig_brasil_df['año']\n",
    "\n",
    "embig_brasil_df['date'] = pd.to_datetime(embig_brasil_df['date'], format='%d/%m/%Y')\n",
    "\n",
    "embig_brasil_df = embig_brasil_df.drop(['Fecha', 'dia', 'año', 'mes'], axis=1)\n",
    "\n",
    "# EXPORT THE DATA\n",
    "\n",
    "embig_brasil_df.to_feather('embig_brasil')\n",
    "\n",
    "embig_brasil_df.to_excel('embig_brasil.xlsx')"
   ],
   "metadata": {
    "collapsed": false
   }
  },
  {
   "cell_type": "code",
   "execution_count": 13,
   "outputs": [
    {
     "name": "stderr",
     "output_type": "stream",
     "text": [
      "C:\\Users\\pport\\AppData\\Local\\Temp\\ipykernel_19364\\2842178600.py:11: FutureWarning: The default value of regex will change from True to False in a future version.\n",
      "  embig_chile_df = embig_chile_df.apply(lambda x: x.str.replace('n.d.', ''))\n"
     ]
    }
   ],
   "source": [
    "# GET INFO ON EMBIG CHILE\n",
    "\n",
    "embig_chile_url='https://estadisticas.bcrp.gob.pe/estadisticas/series/diarias/resultados/PD38581XD/html/2010-01-01/2100-12-31'\n",
    "\n",
    "embig_chile_html=pd.read_html(embig_chile_url)\n",
    "\n",
    "embig_chile_df = embig_chile_html[1]\n",
    "\n",
    "# WORK WITH THE DATA AND EXPORT\n",
    "\n",
    "embig_chile_df = embig_chile_df.apply(lambda x: x.str.replace('n.d.', ''))\n",
    "\n",
    "embig_chile_df['EMBIG Chile'] = pd.to_numeric(embig_chile_df['Tasas de interés: EMBIG (variación en pbs) - Spread - EMBIG Chile (pbs)'], errors='coerce')\n",
    "\n",
    "embig_chile_df = embig_chile_df.drop('Tasas de interés: EMBIG (variación en pbs) - Spread - EMBIG Chile (pbs)', axis=1)\n",
    "\n",
    "# WORK WITH THE DATE COLUMN\n",
    "\n",
    "embig_chile_df['dia'] = embig_chile_df['Fecha'].str[:2]\n",
    "embig_chile_df['año'] = '20' + embig_chile_df['Fecha'].str[-2:]\n",
    "embig_chile_df['mes'] = embig_chile_df['Fecha'].str[2:5]\n",
    "\n",
    "embig_chile_df['mes'] = embig_chile_df['mes'].replace({'Ene': '01', 'Feb': '02', 'Mar': '03', 'Abr': '04', 'May': '05', 'Jun': '06', 'Jul': '07', 'Ago': '08', 'Set': '09', 'Oct': '10', 'Nov': '11', 'Dic': '12'})\n",
    "\n",
    "embig_chile_df['date'] = embig_chile_df['dia'] + '/' + embig_chile_df['mes'] + '/' + embig_chile_df['año']\n",
    "\n",
    "embig_chile_df['date'] = pd.to_datetime(embig_chile_df['date'], format='%d/%m/%Y')\n",
    "\n",
    "embig_chile_df = embig_chile_df.drop(['Fecha', 'dia', 'año', 'mes'], axis=1)\n",
    "\n",
    "# EXPORT THE DATA\n",
    "\n",
    "embig_chile_df.to_feather('embig_chile')\n",
    "\n",
    "embig_chile_df.to_excel('embig_chile.xlsx')"
   ],
   "metadata": {
    "collapsed": false
   }
  },
  {
   "cell_type": "code",
   "execution_count": 14,
   "outputs": [
    {
     "name": "stderr",
     "output_type": "stream",
     "text": [
      "C:\\Users\\pport\\AppData\\Local\\Temp\\ipykernel_19364\\3198618654.py:11: FutureWarning: The default value of regex will change from True to False in a future version.\n",
      "  embig_colombia_df = embig_colombia_df.apply(lambda x: x.str.replace('n.d.', ''))\n"
     ]
    }
   ],
   "source": [
    "# GET INFO ON EMBIG COLOMBIA\n",
    "\n",
    "embig_colombia_url='https://estadisticas.bcrp.gob.pe/estadisticas/series/diarias/resultados/PD04715XD/html/2010-01-01/2100-12-31'\n",
    "\n",
    "embig_colombia_html=pd.read_html(embig_colombia_url)\n",
    "\n",
    "embig_colombia_df = embig_colombia_html[1]\n",
    "\n",
    "# WORK WITH THE DATA AND EXPORT\n",
    "\n",
    "embig_colombia_df = embig_colombia_df.apply(lambda x: x.str.replace('n.d.', ''))\n",
    "\n",
    "embig_colombia_df['EMBIG Colombia'] = pd.to_numeric(embig_colombia_df['Tasas de interés: EMBIG (variación en pbs) - Spread - EMBIG Colombia (pbs)'], errors='coerce')\n",
    "\n",
    "embig_colombia_df = embig_colombia_df.drop('Tasas de interés: EMBIG (variación en pbs) - Spread - EMBIG Colombia (pbs)', axis=1)\n",
    "\n",
    "# WORK WITH THE DATE COLUMN\n",
    "\n",
    "embig_colombia_df['dia'] = embig_colombia_df['Fecha'].str[:2]\n",
    "embig_colombia_df['año'] = '20' + embig_colombia_df['Fecha'].str[-2:]\n",
    "embig_colombia_df['mes'] = embig_colombia_df['Fecha'].str[2:5]\n",
    "\n",
    "embig_colombia_df['mes'] = embig_colombia_df['mes'].replace({'Ene': '01', 'Feb': '02', 'Mar': '03', 'Abr': '04', 'May': '05', 'Jun': '06', 'Jul': '07', 'Ago': '08', 'Set': '09', 'Oct': '10', 'Nov': '11', 'Dic': '12'})\n",
    "\n",
    "embig_colombia_df['date'] = embig_colombia_df['dia'] + '/' + embig_colombia_df['mes'] + '/' + embig_colombia_df['año']\n",
    "\n",
    "embig_colombia_df['date'] = pd.to_datetime(embig_colombia_df['date'], format='%d/%m/%Y')\n",
    "\n",
    "embig_colombia_df = embig_colombia_df.drop(['Fecha', 'dia', 'año', 'mes'], axis=1)\n",
    "\n",
    "# EXPORT THE DATA\n",
    "\n",
    "embig_colombia_df.to_feather('embig_colombia')\n",
    "\n",
    "embig_colombia_df.to_excel('embig_colombia.xlsx')"
   ],
   "metadata": {
    "collapsed": false
   }
  },
  {
   "cell_type": "code",
   "execution_count": 15,
   "outputs": [
    {
     "name": "stderr",
     "output_type": "stream",
     "text": [
      "C:\\Users\\pport\\AppData\\Local\\Temp\\ipykernel_19364\\579167521.py:11: FutureWarning: The default value of regex will change from True to False in a future version.\n",
      "  embig_mexico_df = embig_mexico_df.apply(lambda x: x.str.replace('n.d.', ''))\n"
     ]
    }
   ],
   "source": [
    "# GET INFO ON EMBIG MÉXICO\n",
    "\n",
    "embig_mexico_url='https://estadisticas.bcrp.gob.pe/estadisticas/series/diarias/resultados/PD04713XD/html/2010-01-01/2100-12-31'\n",
    "\n",
    "embig_mexico_html=pd.read_html(embig_mexico_url)\n",
    "\n",
    "embig_mexico_df = embig_mexico_html[1]\n",
    "\n",
    "# WORK WITH THE DATA AND EXPORT\n",
    "\n",
    "embig_mexico_df = embig_mexico_df.apply(lambda x: x.str.replace('n.d.', ''))\n",
    "\n",
    "embig_mexico_df['EMBIG México'] = pd.to_numeric(embig_mexico_df['Tasas de interés: EMBIG (variación en pbs) - Spread - EMBIG México (pbs)'], errors='coerce')\n",
    "\n",
    "embig_mexico_df = embig_mexico_df.drop('Tasas de interés: EMBIG (variación en pbs) - Spread - EMBIG México (pbs)', axis=1)\n",
    "\n",
    "# WORK WITH THE DATE COLUMN\n",
    "\n",
    "embig_mexico_df['dia'] = embig_mexico_df['Fecha'].str[:2]\n",
    "embig_mexico_df['año'] = '20' + embig_mexico_df['Fecha'].str[-2:]\n",
    "embig_mexico_df['mes'] = embig_mexico_df['Fecha'].str[2:5]\n",
    "\n",
    "embig_mexico_df['mes'] = embig_mexico_df['mes'].replace({'Ene': '01', 'Feb': '02', 'Mar': '03', 'Abr': '04', 'May': '05', 'Jun': '06', 'Jul': '07', 'Ago': '08', 'Set': '09', 'Oct': '10', 'Nov': '11', 'Dic': '12'})\n",
    "\n",
    "embig_mexico_df['date'] = embig_mexico_df['dia'] + '/' + embig_mexico_df['mes'] + '/' + embig_mexico_df['año']\n",
    "\n",
    "embig_mexico_df['date'] = pd.to_datetime(embig_mexico_df['date'], format='%d/%m/%Y')\n",
    "\n",
    "embig_mexico_df = embig_mexico_df.drop(['Fecha', 'dia', 'año', 'mes'], axis=1)\n",
    "\n",
    "# EXPORT THE DATA\n",
    "\n",
    "embig_mexico_df.to_feather('embig_mexico')\n",
    "\n",
    "embig_mexico_df.to_excel('embig_mexico.xlsx')"
   ],
   "metadata": {
    "collapsed": false
   }
  },
  {
   "cell_type": "code",
   "execution_count": 16,
   "outputs": [
    {
     "name": "stderr",
     "output_type": "stream",
     "text": [
      "C:\\Users\\pport\\AppData\\Local\\Temp\\ipykernel_19364\\2339815816.py:11: FutureWarning: The default value of regex will change from True to False in a future version.\n",
      "  embig_em_df = embig_em_df.apply(lambda x: x.str.replace('n.d.', ''))\n"
     ]
    }
   ],
   "source": [
    "# GET INFO ON EMBIG ECONOMÍAS EMERGENTES\n",
    "\n",
    "embig_em_url='https://estadisticas.bcrp.gob.pe/estadisticas/series/diarias/resultados/PD38580XD/html/2010-01-01/2100-12-31'\n",
    "\n",
    "embig_em_html=pd.read_html(embig_em_url)\n",
    "\n",
    "embig_em_df = embig_em_html[1]\n",
    "\n",
    "# WORK WITH THE DATA AND EXPORT\n",
    "\n",
    "embig_em_df = embig_em_df.apply(lambda x: x.str.replace('n.d.', ''))\n",
    "\n",
    "embig_em_df['EMBIG Economías Emergentes'] = pd.to_numeric(embig_em_df['Tasas de interés: EMBIG (variación en pbs) - Spread - EMBIG Economías emergentes (pbs)'], errors='coerce')\n",
    "\n",
    "embig_em_df = embig_em_df.drop('Tasas de interés: EMBIG (variación en pbs) - Spread - EMBIG Economías emergentes (pbs)', axis=1)\n",
    "\n",
    "# WORK WITH THE DATE COLUMN\n",
    "\n",
    "embig_em_df['dia'] = embig_em_df['Fecha'].str[:2]\n",
    "embig_em_df['año'] = '20' + embig_em_df['Fecha'].str[-2:]\n",
    "embig_em_df['mes'] = embig_em_df['Fecha'].str[2:5]\n",
    "\n",
    "embig_em_df['mes'] = embig_em_df['mes'].replace({'Ene': '01', 'Feb': '02', 'Mar': '03', 'Abr': '04', 'May': '05', 'Jun': '06', 'Jul': '07', 'Ago': '08', 'Set': '09', 'Oct': '10', 'Nov': '11', 'Dic': '12'})\n",
    "\n",
    "embig_em_df['date'] = embig_em_df['dia'] + '/' + embig_em_df['mes'] + '/' + embig_em_df['año']\n",
    "\n",
    "embig_em_df['date'] = pd.to_datetime(embig_em_df['date'], format='%d/%m/%Y')\n",
    "\n",
    "embig_em_df = embig_em_df.drop(['Fecha', 'dia', 'año', 'mes'], axis=1)\n",
    "\n",
    "# EXPORT THE DATA\n",
    "\n",
    "embig_em_df.to_feather('embig_em')\n",
    "\n",
    "embig_em_df.to_excel('embig_em.xlsx')"
   ],
   "metadata": {
    "collapsed": false
   }
  },
  {
   "cell_type": "code",
   "execution_count": 17,
   "outputs": [
    {
     "name": "stderr",
     "output_type": "stream",
     "text": [
      "C:\\Users\\pport\\AppData\\Local\\Temp\\ipykernel_19364\\3772998430.py:11: FutureWarning: The default value of regex will change from True to False in a future version.\n",
      "  embig_latam_df = embig_latam_df.apply(lambda x: x.str.replace('n.d.', ''))\n"
     ]
    }
   ],
   "source": [
    "# GET INFO ON EMBIG LATAM\n",
    "\n",
    "embig_latam_url='https://estadisticas.bcrp.gob.pe/estadisticas/series/diarias/resultados/PD04708XD/html/2010-01-01/2100-12-31'\n",
    "\n",
    "embig_latam_html=pd.read_html(embig_latam_url)\n",
    "\n",
    "embig_latam_df = embig_latam_html[1]\n",
    "\n",
    "# WORK WITH THE DATA AND EXPORT\n",
    "\n",
    "embig_latam_df = embig_latam_df.apply(lambda x: x.str.replace('n.d.', ''))\n",
    "\n",
    "embig_latam_df['EMBIG Latam'] = pd.to_numeric(embig_latam_df['Tasas de interés: EMBIG (variación en pbs) - Spread - EMBIG America Latina (pbs)'], errors='coerce')\n",
    "\n",
    "embig_latam_df = embig_latam_df.drop('Tasas de interés: EMBIG (variación en pbs) - Spread - EMBIG America Latina (pbs)', axis=1)\n",
    "\n",
    "# WORK WITH THE DATE COLUMN\n",
    "\n",
    "embig_latam_df['dia'] = embig_latam_df['Fecha'].str[:2]\n",
    "embig_latam_df['año'] = '20' + embig_latam_df['Fecha'].str[-2:]\n",
    "embig_latam_df['mes'] = embig_latam_df['Fecha'].str[2:5]\n",
    "\n",
    "embig_latam_df['mes'] = embig_latam_df['mes'].replace({'Ene': '01', 'Feb': '02', 'Mar': '03', 'Abr': '04', 'May': '05', 'Jun': '06', 'Jul': '07', 'Ago': '08', 'Set': '09', 'Oct': '10', 'Nov': '11', 'Dic': '12'})\n",
    "\n",
    "embig_latam_df['date'] = embig_latam_df['dia'] + '/' + embig_latam_df['mes'] + '/' + embig_latam_df['año']\n",
    "\n",
    "embig_latam_df['date'] = pd.to_datetime(embig_latam_df['date'], format='%d/%m/%Y')\n",
    "\n",
    "embig_latam_df = embig_latam_df.drop(['Fecha', 'dia', 'año', 'mes'], axis=1)\n",
    "\n",
    "# EXPORT THE DATA\n",
    "\n",
    "embig_latam_df.to_feather('embig_latam')\n",
    "\n",
    "embig_latam_df.to_excel('embig_latam.xlsx')"
   ],
   "metadata": {
    "collapsed": false
   }
  },
  {
   "cell_type": "code",
   "execution_count": 18,
   "outputs": [],
   "source": [
    "# MERGE EVERYTHING\n",
    "\n",
    "embig_df = [embig_brasil_df, embig_chile_df, embig_colombia_df, embig_mexico_df, embig_peru_df, embig_latam_df, embig_em_df]\n",
    "\n",
    "embig_df = reduce(lambda left, right: pd.merge(left, right, on=['date'], how='outer'), embig_df).fillna('')\n",
    "\n",
    "# EXPORT\n",
    "\n",
    "embig_df.to_excel('embig.xlsx')"
   ],
   "metadata": {
    "collapsed": false
   }
  },
  {
   "cell_type": "code",
   "execution_count": 19,
   "outputs": [],
   "source": [
    "# OBTENER OPERACIONES DE BONOS SOBERANOS POR NO RESIDENTES\n",
    "\n",
    "no_residentes_url='https://estadisticas.bcrp.gob.pe/estadisticas/series/trimestrales/resultados/PN02913FQ/html/2005-01-01/2100-12-31'\n",
    "\n",
    "no_residentes_html=pd.read_html(no_residentes_url)\n",
    "\n",
    "no_residentes_df = no_residentes_html[1]\n",
    "\n",
    "# WORK WITH THE DATA AND EXPORT\n",
    "\n",
    "no_residentes_df['Compraventa de bonos soberanos por no residentes'] = pd.to_numeric(no_residentes_df['Cuenta financiera del sector público (millones US$) - Otras Operaciones con Títulos de Deuda Bonos Soberanos Adquiridos por no Residentes'], errors='coerce')\n",
    "\n",
    "no_residentes_df = no_residentes_df.drop('Cuenta financiera del sector público (millones US$) - Otras Operaciones con Títulos de Deuda Bonos Soberanos Adquiridos por no Residentes', axis=1)"
   ],
   "metadata": {
    "collapsed": false
   }
  },
  {
   "cell_type": "code",
   "execution_count": 20,
   "outputs": [],
   "source": [
    "# WORK WITH THE DATE COLUMN\n",
    "\n",
    "no_residentes_df['trimestre'] = no_residentes_df['Fecha'].str[:2]\n",
    "no_residentes_df['año'] = '20' + no_residentes_df['Fecha'].str[-2:]\n",
    "\n",
    "no_residentes_df['trimestre'] = no_residentes_df['trimestre'].replace({'T1': '31/03', 'T2': '30/06', 'T3': '30/09', 'T4': '31/12'})\n",
    "\n",
    "no_residentes_df['date'] = no_residentes_df['trimestre'] + '/' + no_residentes_df['año']\n",
    "\n",
    "no_residentes_df['date'] = pd.to_datetime(no_residentes_df['date'], format='%d/%m/%Y')\n",
    "\n",
    "# EXPORT THE DATA\n",
    "\n",
    "no_residentes_df.to_feather('flujos_nr')\n",
    "\n",
    "no_residentes_df.to_excel('flujos_nr.xlsx')"
   ],
   "metadata": {
    "collapsed": false
   }
  },
  {
   "cell_type": "code",
   "execution_count": 21,
   "outputs": [],
   "source": [
    "# PBI PERUANO\n",
    "\n",
    "pbi_peru_url='https://estadisticas.bcrp.gob.pe/estadisticas/series/mensuales/resultados/PN01728AM/html/2005-01/2100-12'\n",
    "\n",
    "pbi_peru_html=pd.read_html(pbi_peru_url)\n",
    "\n",
    "pbi_peru_df = pbi_peru_html[1]\n",
    "\n",
    "# WORK WITH THE DATA AND EXPORT\n",
    "\n",
    "pbi_peru_df['Var. % a/a'] = pd.to_numeric(pbi_peru_df['Producto bruto interno y demanda interna (variaciones porcentuales anualizadas) - PBI'], errors='coerce')\n",
    "\n",
    "pbi_peru_df = pbi_peru_df.drop('Producto bruto interno y demanda interna (variaciones porcentuales anualizadas) - PBI', axis=1)\n",
    "\n",
    "# WORK WITH THE DATE COLUMN\n",
    "\n",
    "pbi_peru_df['año'] = '20' + pbi_peru_df['Fecha'].str[-2:]\n",
    "\n",
    "pbi_peru_df['mes'] = pbi_peru_df['Fecha'].str[:3]\n",
    "\n",
    "pbi_peru_df['mes'] = pbi_peru_df['mes'].replace({'Ene': '01/01', 'Feb': '01/02', 'Mar': '01/03', 'Abr': '01/04', 'May': '01/05', 'Jun': '01/06', 'Jul': '01/07', 'Ago': '01/08', 'Sep': '01/09', 'Oct': '01/10', 'Nov': '01/11', 'Dic': '01/12'})\n",
    "\n",
    "pbi_peru_df['date'] = pbi_peru_df['mes'] + '/' + pbi_peru_df['año']\n",
    "\n",
    "pbi_peru_df['date'] = pd.to_datetime(pbi_peru_df['date'], format='%d/%m/%Y')\n",
    "\n",
    "pbi_peru_df = pbi_peru_df.drop(['Fecha', 'año', 'mes'], axis=1)\n",
    "\n",
    "# EXPORT THE DATA\n",
    "\n",
    "pbi_peru_df.to_feather('pbi_peru')\n",
    "\n",
    "pbi_peru_df.to_excel('pbi_peru.xlsx')"
   ],
   "metadata": {
    "collapsed": false
   }
  },
  {
   "cell_type": "code",
   "execution_count": 22,
   "outputs": [],
   "source": [
    "# EXPECTATIVAS DE PBI PERUANO\n",
    "\n",
    "exp_pbi_url='https://estadisticas.bcrp.gob.pe/estadisticas/series/mensuales/resultados/PD38048AM/html/2005-01/2100-12'\n",
    "\n",
    "exp_pbi_html=pd.read_html(exp_pbi_url)\n",
    "\n",
    "exp_pbi_df = exp_pbi_html[1]\n",
    "\n",
    "# WORK WITH THE DATA AND EXPORT\n",
    "\n",
    "exp_pbi_df['Expectativas PBI (%)'] = pd.to_numeric(exp_pbi_df['Expectativas Macroeconómicas - Expectativa de PBI a 12 meses'], errors='coerce')\n",
    "\n",
    "exp_pbi_df = exp_pbi_df.drop('Expectativas Macroeconómicas - Expectativa de PBI a 12 meses', axis=1)\n",
    "\n",
    "# WORK WITH THE DATE COLUMN\n",
    "\n",
    "exp_pbi_df['año'] = '20' + exp_pbi_df['Fecha'].str[-2:]\n",
    "\n",
    "exp_pbi_df['mes'] = exp_pbi_df['Fecha'].str[:3]\n",
    "\n",
    "exp_pbi_df['mes'] = exp_pbi_df['mes'].replace({'Ene': '01/01', 'Feb': '01/02', 'Mar': '01/03', 'Abr': '01/04', 'May': '01/05', 'Jun': '01/06', 'Jul': '01/07', 'Ago': '01/08', 'Sep': '01/09', 'Oct': '01/10', 'Nov': '01/11', 'Dic': '01/12'})\n",
    "\n",
    "exp_pbi_df['date'] = exp_pbi_df['mes'] + '/' + exp_pbi_df['año']\n",
    "\n",
    "exp_pbi_df['date'] = pd.to_datetime(exp_pbi_df['date'], format='%d/%m/%Y')\n",
    "\n",
    "exp_pbi_df = exp_pbi_df.drop(['Fecha', 'año', 'mes'], axis=1)\n",
    "\n",
    "# EXPORT THE DATA\n",
    "\n",
    "exp_pbi_df.to_feather('expectativas_pbi_peru')\n",
    "\n",
    "exp_pbi_df.to_excel('expectativas_pbi_peru.xlsx')"
   ],
   "metadata": {
    "collapsed": false
   }
  },
  {
   "cell_type": "code",
   "execution_count": 23,
   "outputs": [],
   "source": [
    "# PBI PERUANO DESESTACIONALIZADO\n",
    "\n",
    "pbi_perd_url='https://estadisticas.bcrp.gob.pe/estadisticas/series/mensuales/resultados/PN01731AM/html/2005-01/2100-12'\n",
    "\n",
    "pbi_perd_html=pd.read_html(pbi_perd_url)\n",
    "\n",
    "pbi_perd_df = pbi_perd_html[1]\n",
    "\n",
    "# WORK WITH THE DATA AND EXPORT\n",
    "\n",
    "pbi_perd_df['Var. % m/m'] = pd.to_numeric(pbi_perd_df['Producto bruto interno y demanda interna (variaciones porcentuales anualizadas) - PBI Desestacionalizado - Var% mensual'], errors='coerce')\n",
    "\n",
    "pbi_perd_df = pbi_perd_df.drop('Producto bruto interno y demanda interna (variaciones porcentuales anualizadas) - PBI Desestacionalizado - Var% mensual', axis=1)\n",
    "\n",
    "# WORK WITH THE DATE COLUMN\n",
    "\n",
    "pbi_perd_df['año'] = '20' + pbi_perd_df['Fecha'].str[-2:]\n",
    "\n",
    "pbi_perd_df['mes'] = pbi_perd_df['Fecha'].str[:3]\n",
    "\n",
    "pbi_perd_df['mes'] = pbi_perd_df['mes'].replace({'Ene': '01/01', 'Feb': '01/02', 'Mar': '01/03', 'Abr': '01/04', 'May': '01/05', 'Jun': '01/06', 'Jul': '01/07', 'Ago': '01/08', 'Sep': '01/09', 'Oct': '01/10', 'Nov': '01/11', 'Dic': '01/12'})\n",
    "\n",
    "pbi_perd_df['date'] = pbi_perd_df['mes'] + '/' + pbi_perd_df['año']\n",
    "\n",
    "pbi_perd_df['date'] = pd.to_datetime(pbi_perd_df['date'], format='%d/%m/%Y')\n",
    "\n",
    "pbi_perd_df = pbi_perd_df.drop(['Fecha', 'año', 'mes'], axis=1)\n",
    "\n",
    "# EXPORT THE DATA\n",
    "\n",
    "pbi_perd_df.to_feather('pbi_peru_des')\n",
    "\n",
    "pbi_perd_df.to_excel('pbi_peru_des.xlsx')"
   ],
   "metadata": {
    "collapsed": false
   }
  },
  {
   "cell_type": "code",
   "execution_count": 24,
   "outputs": [],
   "source": [
    "# PBI PERUANO DESESTACIONALIZADO MEDIA MÓVIL\n",
    "\n",
    "pbi_perd_prom_url='https://estadisticas.bcrp.gob.pe/estadisticas/series/mensuales/resultados/PN38082AM/html/2005-01/2100-12'\n",
    "\n",
    "pbi_perd_prom_html=pd.read_html(pbi_perd_prom_url)\n",
    "\n",
    "pbi_perd_prom_df = pbi_perd_prom_html[1]\n",
    "\n",
    "# WORK WITH THE DATA AND EXPORT\n",
    "\n",
    "pbi_perd_prom_df['Var. % promedio móvil 3m'] = pd.to_numeric(pbi_perd_prom_df['Producto bruto interno y demanda interna (variaciones porcentuales anualizadas) - PBI Desestacionalizado - Var% promedio móvil 3 meses'], errors='coerce')\n",
    "\n",
    "pbi_perd_prom_df = pbi_perd_prom_df.drop('Producto bruto interno y demanda interna (variaciones porcentuales anualizadas) - PBI Desestacionalizado - Var% promedio móvil 3 meses', axis=1)\n",
    "\n",
    "# WORK WITH THE DATE COLUMN\n",
    "\n",
    "pbi_perd_prom_df['año'] = '20' + pbi_perd_prom_df['Fecha'].str[-2:]\n",
    "\n",
    "pbi_perd_prom_df['mes'] = pbi_perd_prom_df['Fecha'].str[:3]\n",
    "\n",
    "pbi_perd_prom_df['mes'] = pbi_perd_prom_df['mes'].replace({'Ene': '01/01', 'Feb': '01/02', 'Mar': '01/03', 'Abr': '01/04', 'May': '01/05', 'Jun': '01/06', 'Jul': '01/07', 'Ago': '01/08', 'Sep': '01/09', 'Oct': '01/10', 'Nov': '01/11', 'Dic': '01/12'})\n",
    "\n",
    "pbi_perd_prom_df['date'] = pbi_perd_prom_df['mes'] + '/' + pbi_perd_prom_df['año']\n",
    "\n",
    "pbi_perd_prom_df['date'] = pd.to_datetime(pbi_perd_prom_df['date'], format='%d/%m/%Y')\n",
    "\n",
    "pbi_perd_prom_df = pbi_perd_prom_df.drop(['Fecha', 'año', 'mes'], axis=1)\n",
    "\n",
    "# EXPORT THE DATA\n",
    "\n",
    "pbi_perd_prom_df.to_feather('pbi_peru_des_prom')\n",
    "\n",
    "pbi_perd_prom_df.to_excel('pbi_peru_des_prom.xlsx')"
   ],
   "metadata": {
    "collapsed": false
   }
  },
  {
   "cell_type": "code",
   "execution_count": 25,
   "outputs": [],
   "source": [
    "# INFLACIÓN PERÚ\n",
    "\n",
    "inflacion_peru_url='https://estadisticas.bcrp.gob.pe/estadisticas/series/mensuales/resultados/PN01273PM/html/2005-01/2100-12'\n",
    "\n",
    "inflacion_peru_html=pd.read_html(inflacion_peru_url)\n",
    "\n",
    "inflacion_peru_df = inflacion_peru_html[1]\n",
    "\n",
    "# WORK WITH THE DATA AND EXPORT\n",
    "\n",
    "inflacion_peru_df['Var. % a/a'] = pd.to_numeric(inflacion_peru_df['Índice de precios Lima Metropolitana (var% 12 meses) - IPC'], errors='coerce')\n",
    "\n",
    "inflacion_peru_df = inflacion_peru_df.drop('Índice de precios Lima Metropolitana (var% 12 meses) - IPC', axis=1)\n",
    "\n",
    "# WORK WITH THE DATE COLUMN\n",
    "\n",
    "inflacion_peru_df['año'] = '20' + inflacion_peru_df['Fecha'].str[-2:]\n",
    "\n",
    "inflacion_peru_df['mes'] = inflacion_peru_df['Fecha'].str[:3]\n",
    "\n",
    "inflacion_peru_df['mes'] = inflacion_peru_df['mes'].replace({'Ene': '01/01', 'Feb': '01/02', 'Mar': '01/03', 'Abr': '01/04', 'May': '01/05', 'Jun': '01/06', 'Jul': '01/07', 'Ago': '01/08', 'Sep': '01/09', 'Oct': '01/10', 'Nov': '01/11', 'Dic': '01/12'})\n",
    "\n",
    "inflacion_peru_df['date'] = inflacion_peru_df['mes'] + '/' + inflacion_peru_df['año']\n",
    "\n",
    "inflacion_peru_df['date'] = pd.to_datetime(inflacion_peru_df['date'], format='%d/%m/%Y')\n",
    "\n",
    "inflacion_peru_df = inflacion_peru_df.drop(['Fecha', 'año', 'mes'], axis=1)\n",
    "\n",
    "# EXPORT THE DATA\n",
    "\n",
    "inflacion_peru_df.to_feather('inflacion_peru')\n",
    "\n",
    "inflacion_peru_df.to_excel('inflacion_peru.xlsx')"
   ],
   "metadata": {
    "collapsed": false
   }
  },
  {
   "cell_type": "code",
   "execution_count": 26,
   "outputs": [],
   "source": [
    "# INFLACIÓN PERÚ SIN ALIMENTOS Y ENERGÍA\n",
    "\n",
    "inflacion_peru_sub_url='https://estadisticas.bcrp.gob.pe/estadisticas/series/mensuales/resultados/PN01277PM/html/2005-01/2100-12'\n",
    "\n",
    "inflacion_peru_sub_html=pd.read_html(inflacion_peru_sub_url)\n",
    "\n",
    "inflacion_peru_sub_df = inflacion_peru_sub_html[1]\n",
    "\n",
    "# WORK WITH THE DATA AND EXPORT\n",
    "\n",
    "inflacion_peru_sub_df['Var. % a/a'] = pd.to_numeric(inflacion_peru_sub_df['Índice de precios Lima Metropolitana (var% 12 meses) - IPC Sin Alimentos y Energía'], errors='coerce')\n",
    "\n",
    "inflacion_peru_sub_df = inflacion_peru_sub_df.drop('Índice de precios Lima Metropolitana (var% 12 meses) - IPC Sin Alimentos y Energía', axis=1)\n",
    "\n",
    "# WORK WITH THE DATE COLUMN\n",
    "\n",
    "inflacion_peru_sub_df['año'] = '20' + inflacion_peru_sub_df['Fecha'].str[-2:]\n",
    "\n",
    "inflacion_peru_sub_df['mes'] = inflacion_peru_sub_df['Fecha'].str[:3]\n",
    "\n",
    "inflacion_peru_sub_df['mes'] = inflacion_peru_sub_df['mes'].replace({'Ene': '01/01', 'Feb': '01/02', 'Mar': '01/03', 'Abr': '01/04', 'May': '01/05', 'Jun': '01/06', 'Jul': '01/07', 'Ago': '01/08', 'Sep': '01/09', 'Oct': '01/10', 'Nov': '01/11', 'Dic': '01/12'})\n",
    "\n",
    "inflacion_peru_sub_df['date'] = inflacion_peru_sub_df['mes'] + '/' + inflacion_peru_sub_df['año']\n",
    "\n",
    "inflacion_peru_sub_df['date'] = pd.to_datetime(inflacion_peru_sub_df['date'], format='%d/%m/%Y')\n",
    "\n",
    "inflacion_peru_sub_df = inflacion_peru_sub_df.drop(['Fecha', 'año', 'mes'], axis=1)\n",
    "\n",
    "# EXPORT THE DATA\n",
    "\n",
    "inflacion_peru_sub_df.to_feather('inflacion_peru_sub')\n",
    "\n",
    "inflacion_peru_sub_df.to_excel('inflacion_peru_sub.xlsx')"
   ],
   "metadata": {
    "collapsed": false
   }
  },
  {
   "cell_type": "code",
   "execution_count": 27,
   "outputs": [],
   "source": [
    "# EXPECTATIVAS DE INFLACIÓN\n",
    "\n",
    "inflacion_peru_exp_url='https://estadisticas.bcrp.gob.pe/estadisticas/series/mensuales/resultados/PD12912AM/html/2005-01/2100-12'\n",
    "\n",
    "inflacion_peru_exp_html=pd.read_html(inflacion_peru_exp_url)\n",
    "\n",
    "inflacion_peru_exp_df = inflacion_peru_exp_html[1]\n",
    "\n",
    "# WORK WITH THE DATA AND EXPORT\n",
    "\n",
    "inflacion_peru_exp_df['Expectativas'] = pd.to_numeric(inflacion_peru_exp_df['Expectativas Macroeconómicas - Expectativa de Inflación a 12 meses'], errors='coerce')\n",
    "\n",
    "inflacion_peru_exp_df = inflacion_peru_exp_df.drop('Expectativas Macroeconómicas - Expectativa de Inflación a 12 meses', axis=1)\n",
    "\n",
    "# WORK WITH THE DATE COLUMN\n",
    "\n",
    "inflacion_peru_exp_df['año'] = '20' + inflacion_peru_exp_df['Fecha'].str[-2:]\n",
    "\n",
    "inflacion_peru_exp_df['mes'] = inflacion_peru_exp_df['Fecha'].str[:3]\n",
    "\n",
    "inflacion_peru_exp_df['mes'] = inflacion_peru_exp_df['mes'].replace({'Ene': '01/01', 'Feb': '01/02', 'Mar': '01/03', 'Abr': '01/04', 'May': '01/05', 'Jun': '01/06', 'Jul': '01/07', 'Ago': '01/08', 'Sep': '01/09', 'Oct': '01/10', 'Nov': '01/11', 'Dic': '01/12'})\n",
    "\n",
    "inflacion_peru_exp_df['date'] = inflacion_peru_exp_df['mes'] + '/' + inflacion_peru_exp_df['año']\n",
    "\n",
    "inflacion_peru_exp_df['date'] = pd.to_datetime(inflacion_peru_exp_df['date'], format='%d/%m/%Y')\n",
    "\n",
    "inflacion_peru_exp_df = inflacion_peru_exp_df.drop(['Fecha', 'año', 'mes'], axis=1)\n",
    "\n",
    "# EXPORT THE DATA\n",
    "\n",
    "inflacion_peru_exp_df.to_feather('inflacion_peru_exp')\n",
    "\n",
    "inflacion_peru_exp_df.to_excel('inflacion_peru_exp.xlsx')"
   ],
   "metadata": {
    "collapsed": false
   }
  },
  {
   "cell_type": "code",
   "execution_count": 28,
   "outputs": [],
   "source": [
    "# TASA DE REFERENCIA DEL BCRP\n",
    "\n",
    "tasa_bcrp_url='https://estadisticas.bcrp.gob.pe/estadisticas/series/mensuales/resultados/PD04722MM/html/2005-01/2100-12'\n",
    "\n",
    "tasa_bcrp_html=pd.read_html(tasa_bcrp_url)\n",
    "\n",
    "tasa_bcrp_df = tasa_bcrp_html[1]\n",
    "\n",
    "# WORK WITH THE DATA AND EXPORT\n",
    "\n",
    "tasa_bcrp_df['Tasa %'] = pd.to_numeric(tasa_bcrp_df['Tasas de interés del Banco Central de Reserva - Tasa de Referencia de la Política Monetaria'], errors='coerce')\n",
    "\n",
    "tasa_bcrp_df = tasa_bcrp_df.drop('Tasas de interés del Banco Central de Reserva - Tasa de Referencia de la Política Monetaria', axis=1)\n",
    "\n",
    "# WORK WITH THE DATE COLUMN\n",
    "\n",
    "tasa_bcrp_df['año'] = '20' + tasa_bcrp_df['Fecha'].str[-2:]\n",
    "\n",
    "tasa_bcrp_df['mes'] = tasa_bcrp_df['Fecha'].str[:3]\n",
    "\n",
    "tasa_bcrp_df['mes'] = tasa_bcrp_df['mes'].replace({'Ene': '01/01', 'Feb': '01/02', 'Mar': '01/03', 'Abr': '01/04', 'May': '01/05', 'Jun': '01/06', 'Jul': '01/07', 'Ago': '01/08', 'Sep': '01/09', 'Oct': '01/10', 'Nov': '01/11', 'Dic': '01/12'})\n",
    "\n",
    "tasa_bcrp_df['date'] = tasa_bcrp_df['mes'] + '/' + tasa_bcrp_df['año']\n",
    "\n",
    "tasa_bcrp_df['date'] = pd.to_datetime(tasa_bcrp_df['date'], format='%d/%m/%Y')\n",
    "\n",
    "tasa_bcrp_df = tasa_bcrp_df.drop(['Fecha', 'año', 'mes'], axis=1)\n",
    "\n",
    "# EXPORT THE DATA\n",
    "\n",
    "tasa_bcrp_df.to_feather('tasa_bcrp')\n",
    "\n",
    "tasa_bcrp_df.to_excel('tasa_bcrp.xlsx')"
   ],
   "metadata": {
    "collapsed": false
   }
  },
  {
   "cell_type": "code",
   "execution_count": 29,
   "outputs": [],
   "source": [
    "# TASA DE REFERENCIA REAL (CON EXPECTATIVAS)\n",
    "\n",
    "tasa_bcrp_real_exp = {'date': tasa_bcrp_df['date'], 'Tasa de referencia real': tasa_bcrp_df['Tasa %'] - inflacion_peru_exp_df['Expectativas']}\n",
    "\n",
    "tasa_bcrp_real_exp_df = pd.DataFrame(tasa_bcrp_real_exp)\n",
    "\n",
    "# EXPORT DATA\n",
    "\n",
    "tasa_bcrp_real_exp_df.to_feather('tasa_bcrp_real_exp')\n",
    "\n",
    "tasa_bcrp_real_exp_df.to_excel('tasa_bcrp_real_exp.xlsx')"
   ],
   "metadata": {
    "collapsed": false
   }
  },
  {
   "cell_type": "code",
   "execution_count": 30,
   "outputs": [],
   "source": [
    "# EXPECTATIVAS DE LA ECONOMÍA A 3 MESES\n",
    "\n",
    "exp_eco_3m_url='https://estadisticas.bcrp.gob.pe/estadisticas/series/mensuales/resultados/PD38045AM/html/2005-01/2100-12'\n",
    "\n",
    "exp_eco_3m_html=pd.read_html(exp_eco_3m_url)\n",
    "\n",
    "exp_eco_3m_df = exp_eco_3m_html[1]\n",
    "\n",
    "# WORK WITH THE DATA AND EXPORT\n",
    "\n",
    "exp_eco_3m_df['Expectativas a 3 meses'] = pd.to_numeric(exp_eco_3m_df['Expectativas Empresariales - Índice de expectativas de la economía a 3 meses'], errors='coerce')\n",
    "\n",
    "exp_eco_3m_df = exp_eco_3m_df.drop('Expectativas Empresariales - Índice de expectativas de la economía a 3 meses', axis=1)\n",
    "\n",
    "# WORK WITH THE DATE COLUMN\n",
    "\n",
    "exp_eco_3m_df['año'] = '20' + exp_eco_3m_df['Fecha'].str[-2:]\n",
    "\n",
    "exp_eco_3m_df['mes'] = exp_eco_3m_df['Fecha'].str[:3]\n",
    "\n",
    "exp_eco_3m_df['mes'] = exp_eco_3m_df['mes'].replace({'Ene': '01/01', 'Feb': '01/02', 'Mar': '01/03', 'Abr': '01/04', 'May': '01/05', 'Jun': '01/06', 'Jul': '01/07', 'Ago': '01/08', 'Sep': '01/09', 'Oct': '01/10', 'Nov': '01/11', 'Dic': '01/12'})\n",
    "\n",
    "exp_eco_3m_df['date'] = exp_eco_3m_df['mes'] + '/' + exp_eco_3m_df['año']\n",
    "\n",
    "exp_eco_3m_df['date'] = pd.to_datetime(exp_eco_3m_df['date'], format='%d/%m/%Y')\n",
    "\n",
    "exp_eco_3m_df = exp_eco_3m_df.drop(['Fecha', 'año', 'mes'], axis=1)\n",
    "\n",
    "# EXPORT THE DATA\n",
    "\n",
    "exp_eco_3m_df.to_feather('expectativas_eco_3m')\n",
    "\n",
    "exp_eco_3m_df.to_excel('expectativas_eco_3m.xlsx')"
   ],
   "metadata": {
    "collapsed": false
   }
  },
  {
   "cell_type": "code",
   "execution_count": 31,
   "outputs": [],
   "source": [
    "# EXPECTATIVAS DE LA ECONOMÍA A 12 MESES\n",
    "\n",
    "exp_eco_12m_url='https://estadisticas.bcrp.gob.pe/estadisticas/series/mensuales/resultados/PD37981AM/html/2005-01/2100-12'\n",
    "\n",
    "exp_eco_12m_html=pd.read_html(exp_eco_12m_url)\n",
    "\n",
    "exp_eco_12m_df = exp_eco_12m_html[1]\n",
    "\n",
    "# WORK WITH THE DATA AND EXPORT\n",
    "\n",
    "exp_eco_12m_df['Expectativas a 12 meses'] = pd.to_numeric(exp_eco_12m_df['Expectativas Empresariales - Índice de expectativas de la economía a 12 meses'], errors='coerce')\n",
    "\n",
    "exp_eco_12m_df = exp_eco_12m_df.drop('Expectativas Empresariales - Índice de expectativas de la economía a 12 meses', axis=1)\n",
    "\n",
    "# WORK WITH THE DATE COLUMN\n",
    "\n",
    "exp_eco_12m_df['año'] = '20' + exp_eco_12m_df['Fecha'].str[-2:]\n",
    "\n",
    "exp_eco_12m_df['mes'] = exp_eco_12m_df['Fecha'].str[:3]\n",
    "\n",
    "exp_eco_12m_df['mes'] = exp_eco_12m_df['mes'].replace({'Ene': '01/01', 'Feb': '01/02', 'Mar': '01/03', 'Abr': '01/04', 'May': '01/05', 'Jun': '01/06', 'Jul': '01/07', 'Ago': '01/08', 'Sep': '01/09', 'Oct': '01/10', 'Nov': '01/11', 'Dic': '01/12'})\n",
    "\n",
    "exp_eco_12m_df['date'] = exp_eco_12m_df['mes'] + '/' + exp_eco_12m_df['año']\n",
    "\n",
    "exp_eco_12m_df['date'] = pd.to_datetime(exp_eco_12m_df['date'], format='%d/%m/%Y')\n",
    "\n",
    "exp_eco_12m_df = exp_eco_12m_df.drop(['Fecha', 'año', 'mes'], axis=1)\n",
    "\n",
    "# EXPORT THE DATA\n",
    "\n",
    "exp_eco_12m_df.to_feather('expectativas_eco_12m')\n",
    "\n",
    "exp_eco_12m_df.to_excel('expectativas_eco_12m.xlsx')"
   ],
   "metadata": {
    "collapsed": false
   }
  },
  {
   "cell_type": "code",
   "execution_count": 32,
   "outputs": [
    {
     "name": "stderr",
     "output_type": "stream",
     "text": [
      "C:\\Users\\pport\\AppData\\Local\\Temp\\ipykernel_19364\\123988287.py:11: FutureWarning: The default value of regex will change from True to False in a future version.\n",
      "  pen_10y_df = pen_10y_df.apply(lambda x: x.str.replace('n.d.', ''))\n"
     ]
    }
   ],
   "source": [
    "# GET INFO ON 10 YEAR PERUVIAN PEN BOND\n",
    "\n",
    "pen_10y_url='https://estadisticas.bcrp.gob.pe/estadisticas/series/diarias/resultados/PD31893DD/html'\n",
    "\n",
    "pen_10y_html=pd.read_html(pen_10y_url)\n",
    "\n",
    "pen_10y_df = pen_10y_html[1]\n",
    "\n",
    "# WORK WITH THE DATA AND EXPORT\n",
    "\n",
    "pen_10y_df = pen_10y_df.apply(lambda x: x.str.replace('n.d.', ''))\n",
    "\n",
    "pen_10y_df['Rendimiento'] = pd.to_numeric(pen_10y_df['Tasas de interés - Rendimiento del Bono del gobierno peruano a 10 años (en S/)'], errors='coerce')\n",
    "\n",
    "pen_10y_df = pen_10y_df.drop('Tasas de interés - Rendimiento del Bono del gobierno peruano a 10 años (en S/)', axis=1)\n",
    "\n",
    "# WORK WITH THE DATE COLUMN\n",
    "\n",
    "pen_10y_df['dia'] = pen_10y_df['Fecha'].str[:2]\n",
    "pen_10y_df['año'] = '20' + pen_10y_df['Fecha'].str[-2:]\n",
    "pen_10y_df['mes'] = pen_10y_df['Fecha'].str[2:5]\n",
    "\n",
    "pen_10y_df['mes'] = pen_10y_df['mes'].replace({'Ene': '01', 'Feb': '02', 'Mar': '03', 'Abr': '04', 'May': '05', 'Jun': '06', 'Jul': '07', 'Ago': '08', 'Set': '09', 'Oct': '10', 'Nov': '11', 'Dic': '12'})\n",
    "\n",
    "pen_10y_df['date'] = pen_10y_df['dia'] + '/' + pen_10y_df['mes'] + '/' + pen_10y_df['año']\n",
    "\n",
    "pen_10y_df['date'] = pd.to_datetime(pen_10y_df['date'], format='%d/%m/%Y')\n",
    "\n",
    "pen_10y_df = pen_10y_df.drop(['Fecha', 'dia', 'año', 'mes'], axis=1)\n",
    "\n",
    "pen_10y_df.dropna(subset=['Rendimiento'], inplace=True)\n",
    "\n",
    "pen_10y_df.reset_index(level=0, inplace=True)\n",
    "\n",
    "# EXPORT THE DATA\n",
    "\n",
    "pen_10y_df.to_feather('pen_10y_bond')\n",
    "\n",
    "pen_10y_df.to_excel('pen_10y_bond.xlsx')"
   ],
   "metadata": {
    "collapsed": false
   }
  },
  {
   "cell_type": "code",
   "execution_count": 33,
   "outputs": [
    {
     "name": "stderr",
     "output_type": "stream",
     "text": [
      "C:\\Users\\pport\\AppData\\Local\\Temp\\ipykernel_19364\\4270582050.py:11: FutureWarning: The default value of regex will change from True to False in a future version.\n",
      "  pen_10y_usd_df = pen_10y_usd_df.apply(lambda x: x.str.replace('n.d.', ''))\n"
     ]
    }
   ],
   "source": [
    "# GET INFO ON 10 YEAR PERUVIAN USD BOND\n",
    "\n",
    "pen_10y_usd_url='https://estadisticas.bcrp.gob.pe/estadisticas/series/diarias/resultados/PD31894DD/html'\n",
    "\n",
    "pen_10y_usd_html=pd.read_html(pen_10y_usd_url)\n",
    "\n",
    "pen_10y_usd_df = pen_10y_usd_html[1]\n",
    "\n",
    "# WORK WITH THE DATA AND EXPORT\n",
    "\n",
    "pen_10y_usd_df = pen_10y_usd_df.apply(lambda x: x.str.replace('n.d.', ''))\n",
    "\n",
    "pen_10y_usd_df['Rendimiento'] = pd.to_numeric(pen_10y_usd_df['Tasas de interés - Rendimiento del Bono del gobierno peruano a 10 años (en US$)'], errors='coerce')\n",
    "\n",
    "pen_10y_usd_df = pen_10y_usd_df.drop('Tasas de interés - Rendimiento del Bono del gobierno peruano a 10 años (en US$)', axis=1)\n",
    "\n",
    "# WORK WITH THE DATE COLUMN\n",
    "\n",
    "pen_10y_usd_df['dia'] = pen_10y_usd_df['Fecha'].str[:2]\n",
    "pen_10y_usd_df['año'] = '20' + pen_10y_usd_df['Fecha'].str[-2:]\n",
    "pen_10y_usd_df['mes'] = pen_10y_usd_df['Fecha'].str[2:5]\n",
    "\n",
    "pen_10y_usd_df['mes'] = pen_10y_usd_df['mes'].replace({'Ene': '01', 'Feb': '02', 'Mar': '03', 'Abr': '04', 'May': '05', 'Jun': '06', 'Jul': '07', 'Ago': '08', 'Set': '09', 'Oct': '10', 'Nov': '11', 'Dic': '12'})\n",
    "\n",
    "pen_10y_usd_df['date'] = pen_10y_usd_df['dia'] + '/' + pen_10y_usd_df['mes'] + '/' + pen_10y_usd_df['año']\n",
    "\n",
    "pen_10y_usd_df['date'] = pd.to_datetime(pen_10y_usd_df['date'], format='%d/%m/%Y')\n",
    "\n",
    "pen_10y_usd_df = pen_10y_usd_df.drop(['Fecha', 'dia', 'año', 'mes'], axis=1)\n",
    "\n",
    "pen_10y_usd_df.dropna(subset=['Rendimiento'], inplace=True)\n",
    "\n",
    "pen_10y_usd_df.reset_index(level=0, inplace=True)\n",
    "\n",
    "# EXPORT THE DATA\n",
    "\n",
    "pen_10y_usd_df.to_feather('pen_10y_usd_bond')\n",
    "\n",
    "pen_10y_usd_df.to_excel('pen_10y_usd_bond.xlsx')"
   ],
   "metadata": {
    "collapsed": false
   }
  },
  {
   "cell_type": "code",
   "execution_count": 34,
   "outputs": [],
   "source": [
    "# GLOBAL SUPPLY CHAIN PRESSURE INDEX (NEW YORK FED)\n",
    "\n",
    "gscpi_url='https://www.newyorkfed.org/medialibrary/research/interactives/gscpi/downloads/gscpi_data.xlsx'\n",
    "\n",
    "gscpi_req = requests.get(gscpi_url)\n",
    "\n",
    "gscpi_content = gscpi_req.content\n",
    "\n",
    "excel_gscpi = open('gscpi_data.xlsx', 'wb')\n",
    "\n",
    "excel_gscpi.write(gscpi_content)\n",
    "\n",
    "excel_gscpi.close()\n",
    "\n",
    "gscpi_df = pd.read_excel('gscpi_data.xlsx', 'GSCPI Monthly Data', skiprows=4)\n",
    "\n",
    "gscpi_df = gscpi_df.drop(gscpi_df.columns[[2, 3]], axis=1)\n",
    "\n",
    "gscpi_df.columns = ['Date', 'GSCPI']\n",
    "\n",
    "gscpi_df['Date'] = pd.to_datetime(gscpi_df['Date'])\n",
    "\n",
    "gscpi_df = gscpi_df.rename(columns={'GSCPI': 'Close'})\n",
    "\n",
    "# EXPORT TO EXCEL AND FEATHER\n",
    "\n",
    "gscpi_df.to_excel('gscpi_data.xlsx')\n",
    "\n",
    "gscpi_df.to_feather('gscpi_data')"
   ],
   "metadata": {
    "collapsed": false
   }
  }
 ],
 "metadata": {
  "kernelspec": {
   "display_name": "Python 3",
   "language": "python",
   "name": "python3"
  },
  "language_info": {
   "codemirror_mode": {
    "name": "ipython",
    "version": 2
   },
   "file_extension": ".py",
   "mimetype": "text/x-python",
   "name": "python",
   "nbconvert_exporter": "python",
   "pygments_lexer": "ipython2",
   "version": "2.7.6"
  }
 },
 "nbformat": 4,
 "nbformat_minor": 0
}
