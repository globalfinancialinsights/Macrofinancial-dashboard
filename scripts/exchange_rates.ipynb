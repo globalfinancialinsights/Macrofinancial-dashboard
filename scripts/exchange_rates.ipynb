{
 "cells": [
  {
   "cell_type": "code",
   "execution_count": 6,
   "metadata": {
    "collapsed": true
   },
   "outputs": [
    {
     "name": "stderr",
     "output_type": "stream",
     "text": [
      "[autoreload of botocore.vendored.six failed: Traceback (most recent call last):\n",
      "  File \"C:\\Users\\pport\\anaconda3\\lib\\site-packages\\IPython\\extensions\\autoreload.py\", line 257, in check\n",
      "    superreload(m, reload, self.old_objects)\n",
      "  File \"C:\\Users\\pport\\anaconda3\\lib\\site-packages\\IPython\\extensions\\autoreload.py\", line 480, in superreload\n",
      "    update_generic(old_obj, new_obj)\n",
      "  File \"C:\\Users\\pport\\anaconda3\\lib\\site-packages\\IPython\\extensions\\autoreload.py\", line 377, in update_generic\n",
      "    update(a, b)\n",
      "  File \"C:\\Users\\pport\\anaconda3\\lib\\site-packages\\IPython\\extensions\\autoreload.py\", line 310, in update_class\n",
      "    old_obj = getattr(old, key)\n",
      "  File \"C:\\Users\\pport\\anaconda3\\lib\\site-packages\\botocore\\vendored\\six.py\", line 98, in __get__\n",
      "    setattr(obj, self.name, result)  # Invokes __set__.\n",
      "AttributeError: 'NoneType' object has no attribute 'cStringIO'\n",
      "]\n",
      "[autoreload of botocore.exceptions failed: Traceback (most recent call last):\n",
      "  File \"C:\\Users\\pport\\anaconda3\\lib\\site-packages\\IPython\\extensions\\autoreload.py\", line 257, in check\n",
      "    superreload(m, reload, self.old_objects)\n",
      "  File \"C:\\Users\\pport\\anaconda3\\lib\\site-packages\\IPython\\extensions\\autoreload.py\", line 455, in superreload\n",
      "    module = reload(module)\n",
      "  File \"C:\\Users\\pport\\anaconda3\\lib\\importlib\\__init__.py\", line 169, in reload\n",
      "    _bootstrap._exec(spec, module)\n",
      "  File \"<frozen importlib._bootstrap>\", line 613, in _exec\n",
      "  File \"<frozen importlib._bootstrap_external>\", line 850, in exec_module\n",
      "  File \"<frozen importlib._bootstrap>\", line 228, in _call_with_frames_removed\n",
      "  File \"C:\\Users\\pport\\anaconda3\\lib\\site-packages\\botocore\\exceptions.py\", line 129, in <module>\n",
      "    class SSLError(ConnectionError, requests.exceptions.SSLError):\n",
      "AttributeError: module 'botocore.vendored.requests' has no attribute 'exceptions'\n",
      "]\n",
      "[autoreload of botocore.docs.utils failed: Traceback (most recent call last):\n",
      "  File \"C:\\Users\\pport\\anaconda3\\lib\\site-packages\\IPython\\extensions\\autoreload.py\", line 257, in check\n",
      "    superreload(m, reload, self.old_objects)\n",
      "  File \"C:\\Users\\pport\\anaconda3\\lib\\site-packages\\IPython\\extensions\\autoreload.py\", line 480, in superreload\n",
      "    update_generic(old_obj, new_obj)\n",
      "  File \"C:\\Users\\pport\\anaconda3\\lib\\site-packages\\IPython\\extensions\\autoreload.py\", line 377, in update_generic\n",
      "    update(a, b)\n",
      "  File \"C:\\Users\\pport\\anaconda3\\lib\\site-packages\\IPython\\extensions\\autoreload.py\", line 345, in update_class\n",
      "    update_instances(old, new)\n",
      "  File \"C:\\Users\\pport\\anaconda3\\lib\\site-packages\\IPython\\extensions\\autoreload.py\", line 303, in update_instances\n",
      "    ref.__class__ = new\n",
      "TypeError: __class__ assignment: 'DocumentedShape' object layout differs from 'DocumentedShape'\n",
      "]\n"
     ]
    },
    {
     "name": "stdout",
     "output_type": "stream",
     "text": [
      "The autoreload extension is already loaded. To reload it, use:\n",
      "  %reload_ext autoreload\n"
     ]
    }
   ],
   "source": [
    "# SOME CONFIGS\n",
    "\n",
    "import pandas as pd\n",
    "import info_modules as im\n",
    "%load_ext autoreload\n",
    "%reload_ext autoreload\n",
    "%autoreload 2"
   ]
  },
  {
   "cell_type": "code",
   "execution_count": 7,
   "outputs": [],
   "source": [
    "# WORKING DIRECTORY\n",
    "\n",
    "im.working_folder('mercados')"
   ],
   "metadata": {
    "collapsed": false
   }
  },
  {
   "cell_type": "code",
   "execution_count": 8,
   "outputs": [],
   "source": [
    "# USD/PEN\n",
    "\n",
    "im.fx_info('USD', 'PEN', 'usd_pen')"
   ],
   "metadata": {
    "collapsed": false
   }
  },
  {
   "cell_type": "code",
   "execution_count": 9,
   "outputs": [],
   "source": [
    "# GBP/USD\n",
    "\n",
    "im.fx_info('GBP', 'USD', 'gbp_usd')"
   ],
   "metadata": {
    "collapsed": false
   }
  },
  {
   "cell_type": "code",
   "execution_count": 10,
   "outputs": [],
   "source": [
    "# EUR/USD\n",
    "\n",
    "im.fx_info('EUR', 'USD', 'eur_usd')"
   ],
   "metadata": {
    "collapsed": false
   }
  }
 ],
 "metadata": {
  "kernelspec": {
   "display_name": "Python 3",
   "language": "python",
   "name": "python3"
  },
  "language_info": {
   "codemirror_mode": {
    "name": "ipython",
    "version": 2
   },
   "file_extension": ".py",
   "mimetype": "text/x-python",
   "name": "python",
   "nbconvert_exporter": "python",
   "pygments_lexer": "ipython2",
   "version": "2.7.6"
  }
 },
 "nbformat": 4,
 "nbformat_minor": 0
}
