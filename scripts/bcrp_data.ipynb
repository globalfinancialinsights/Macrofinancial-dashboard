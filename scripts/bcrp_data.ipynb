{
 "cells": [
  {
   "cell_type": "code",
   "execution_count": 1,
   "metadata": {
    "collapsed": true,
    "pycharm": {
     "name": "#%%\n"
    }
   },
   "outputs": [],
   "source": [
    "# IMPORT CONFIGS\n",
    "\n",
    "import pandas as pd\n",
    "import os\n",
    "from functools import reduce\n",
    "import platform\n",
    "import requests"
   ]
  },
  {
   "cell_type": "code",
   "execution_count": 2,
   "outputs": [],
   "source": [
    "# CHANGE WORKING DIRECTORY\n",
    "\n",
    "if platform.system() == 'Windows':\n",
    "\n",
    "    os.chdir('C:/Users/pport/OneDrive/Projects/Macrofinancial-dashboard/mercados/')\n",
    "\n",
    "if platform.system() == 'Darwin':\n",
    "\n",
    "    os.chdir('/Users/pportocarrero/OneDrive/Projects/Macrofinancial-dashboard/mercados/')"
   ],
   "metadata": {
    "collapsed": false,
    "pycharm": {
     "name": "#%%\n"
    }
   }
  },
  {
   "cell_type": "code",
   "execution_count": 3,
   "outputs": [
    {
     "name": "stderr",
     "output_type": "stream",
     "text": [
      "C:\\Users\\pport\\AppData\\Local\\Temp\\ipykernel_33452\\718561565.py:11: FutureWarning: The default value of regex will change from True to False in a future version.\n",
      "  embig_peru_df = embig_peru_df.apply(lambda x: x.str.replace('n.d.', ''))\n"
     ]
    }
   ],
   "source": [
    "# GET INFO ON EMBIG PERÚ\n",
    "\n",
    "embig_peru_url='https://estadisticas.bcrp.gob.pe/estadisticas/series/diarias/resultados/PD04709XD/html/2010-01-01/2100-12-31'\n",
    "\n",
    "embig_peru_html=pd.read_html(embig_peru_url)\n",
    "\n",
    "embig_peru_df = embig_peru_html[1]\n",
    "\n",
    "# WORK WITH THE DATA AND EXPORT\n",
    "\n",
    "embig_peru_df = embig_peru_df.apply(lambda x: x.str.replace('n.d.', ''))\n",
    "\n",
    "embig_peru_df['EMBIG Perú'] = pd.to_numeric(embig_peru_df['Tasas de interés: EMBIG (variación en pbs) - Spread - EMBIG Perú (pbs)'], errors='coerce')\n",
    "\n",
    "embig_peru_df = embig_peru_df.drop('Tasas de interés: EMBIG (variación en pbs) - Spread - EMBIG Perú (pbs)', axis=1)\n",
    "\n",
    "# WORK WITH THE DATE COLUMN\n",
    "\n",
    "embig_peru_df['dia'] = embig_peru_df['Fecha'].str[:2]\n",
    "embig_peru_df['año'] = '20' + embig_peru_df['Fecha'].str[-2:]\n",
    "embig_peru_df['mes'] = embig_peru_df['Fecha'].str[2:5]\n",
    "\n",
    "embig_peru_df['mes'] = embig_peru_df['mes'].replace({'Ene': '01', 'Feb': '02', 'Mar': '03', 'Abr': '04', 'May': '05', 'Jun': '06', 'Jul': '07', 'Ago': '08', 'Set': '09', 'Oct': '10', 'Nov': '11', 'Dic': '12'})\n",
    "\n",
    "embig_peru_df['date'] = embig_peru_df['dia'] + '/' + embig_peru_df['mes'] + '/' + embig_peru_df['año']\n",
    "\n",
    "embig_peru_df['date'] = pd.to_datetime(embig_peru_df['date'], format='%d/%m/%Y')\n",
    "\n",
    "embig_peru_df = embig_peru_df.drop(['Fecha', 'dia', 'año', 'mes'], axis=1)\n",
    "\n",
    "# EXPORT THE DATA\n",
    "\n",
    "embig_peru_df.to_feather('embig_peru')\n",
    "\n",
    "embig_peru_df.to_excel('embig_peru.xlsx')"
   ],
   "metadata": {
    "collapsed": false,
    "pycharm": {
     "name": "#%%\n"
    }
   }
  },
  {
   "cell_type": "code",
   "execution_count": 4,
   "outputs": [
    {
     "name": "stderr",
     "output_type": "stream",
     "text": [
      "C:\\Users\\pport\\AppData\\Local\\Temp\\ipykernel_33452\\1750779856.py:11: FutureWarning: The default value of regex will change from True to False in a future version.\n",
      "  embig_brasil_df = embig_brasil_df.apply(lambda x: x.str.replace('n.d.', ''))\n"
     ]
    }
   ],
   "source": [
    "# GET INFO ON EMBIG BRASIL\n",
    "\n",
    "embig_brasil_url='https://estadisticas.bcrp.gob.pe/estadisticas/series/diarias/resultados/PD04711XD/html/2010-01-01/2100-12-31'\n",
    "\n",
    "embig_brasil_html=pd.read_html(embig_brasil_url)\n",
    "\n",
    "embig_brasil_df = embig_brasil_html[1]\n",
    "\n",
    "# WORK WITH THE DATA AND EXPORT\n",
    "\n",
    "embig_brasil_df = embig_brasil_df.apply(lambda x: x.str.replace('n.d.', ''))\n",
    "\n",
    "embig_peru_df['EMBIG Brasil'] = pd.to_numeric(embig_brasil_df['Tasas de interés: EMBIG (variación en pbs) - Spread - EMBIG Brasil (pbs)'], errors='coerce')\n",
    "\n",
    "embig_brasil_df = embig_brasil_df.drop('Tasas de interés: EMBIG (variación en pbs) - Spread - EMBIG Brasil (pbs)', axis=1)\n",
    "\n",
    "# WORK WITH THE DATE COLUMN\n",
    "\n",
    "embig_brasil_df['dia'] = embig_brasil_df['Fecha'].str[:2]\n",
    "embig_brasil_df['año'] = '20' + embig_brasil_df['Fecha'].str[-2:]\n",
    "embig_brasil_df['mes'] = embig_brasil_df['Fecha'].str[2:5]\n",
    "\n",
    "embig_brasil_df['mes'] = embig_brasil_df['mes'].replace({'Ene': '01', 'Feb': '02', 'Mar': '03', 'Abr': '04', 'May': '05', 'Jun': '06', 'Jul': '07', 'Ago': '08', 'Set': '09', 'Oct': '10', 'Nov': '11', 'Dic': '12'})\n",
    "\n",
    "embig_brasil_df['date'] = embig_brasil_df['dia'] + '/' + embig_brasil_df['mes'] + '/' + embig_brasil_df['año']\n",
    "\n",
    "embig_brasil_df['date'] = pd.to_datetime(embig_brasil_df['date'], format='%d/%m/%Y')\n",
    "\n",
    "embig_brasil_df = embig_brasil_df.drop(['Fecha', 'dia', 'año', 'mes'], axis=1)\n",
    "\n",
    "# EXPORT THE DATA\n",
    "\n",
    "embig_brasil_df.to_feather('embig_brasil')\n",
    "\n",
    "embig_brasil_df.to_excel('embig_brasil.xlsx')"
   ],
   "metadata": {
    "collapsed": false,
    "pycharm": {
     "name": "#%%\n"
    }
   }
  },
  {
   "cell_type": "code",
   "execution_count": 5,
   "outputs": [
    {
     "name": "stderr",
     "output_type": "stream",
     "text": [
      "C:\\Users\\pport\\AppData\\Local\\Temp\\ipykernel_33452\\2842178600.py:11: FutureWarning: The default value of regex will change from True to False in a future version.\n",
      "  embig_chile_df = embig_chile_df.apply(lambda x: x.str.replace('n.d.', ''))\n"
     ]
    }
   ],
   "source": [
    "# GET INFO ON EMBIG CHILE\n",
    "\n",
    "embig_chile_url='https://estadisticas.bcrp.gob.pe/estadisticas/series/diarias/resultados/PD38581XD/html/2010-01-01/2100-12-31'\n",
    "\n",
    "embig_chile_html=pd.read_html(embig_chile_url)\n",
    "\n",
    "embig_chile_df = embig_chile_html[1]\n",
    "\n",
    "# WORK WITH THE DATA AND EXPORT\n",
    "\n",
    "embig_chile_df = embig_chile_df.apply(lambda x: x.str.replace('n.d.', ''))\n",
    "\n",
    "embig_chile_df['EMBIG Chile'] = pd.to_numeric(embig_chile_df['Tasas de interés: EMBIG (variación en pbs) - Spread - EMBIG Chile (pbs)'], errors='coerce')\n",
    "\n",
    "embig_chile_df = embig_chile_df.drop('Tasas de interés: EMBIG (variación en pbs) - Spread - EMBIG Chile (pbs)', axis=1)\n",
    "\n",
    "# WORK WITH THE DATE COLUMN\n",
    "\n",
    "embig_chile_df['dia'] = embig_chile_df['Fecha'].str[:2]\n",
    "embig_chile_df['año'] = '20' + embig_chile_df['Fecha'].str[-2:]\n",
    "embig_chile_df['mes'] = embig_chile_df['Fecha'].str[2:5]\n",
    "\n",
    "embig_chile_df['mes'] = embig_chile_df['mes'].replace({'Ene': '01', 'Feb': '02', 'Mar': '03', 'Abr': '04', 'May': '05', 'Jun': '06', 'Jul': '07', 'Ago': '08', 'Set': '09', 'Oct': '10', 'Nov': '11', 'Dic': '12'})\n",
    "\n",
    "embig_chile_df['date'] = embig_chile_df['dia'] + '/' + embig_chile_df['mes'] + '/' + embig_chile_df['año']\n",
    "\n",
    "embig_chile_df['date'] = pd.to_datetime(embig_chile_df['date'], format='%d/%m/%Y')\n",
    "\n",
    "embig_chile_df = embig_chile_df.drop(['Fecha', 'dia', 'año', 'mes'], axis=1)\n",
    "\n",
    "# EXPORT THE DATA\n",
    "\n",
    "embig_chile_df.to_feather('embig_chile')\n",
    "\n",
    "embig_chile_df.to_excel('embig_chile.xlsx')"
   ],
   "metadata": {
    "collapsed": false,
    "pycharm": {
     "name": "#%%\n"
    }
   }
  },
  {
   "cell_type": "code",
   "execution_count": 6,
   "outputs": [
    {
     "name": "stderr",
     "output_type": "stream",
     "text": [
      "C:\\Users\\pport\\AppData\\Local\\Temp\\ipykernel_33452\\3198618654.py:11: FutureWarning: The default value of regex will change from True to False in a future version.\n",
      "  embig_colombia_df = embig_colombia_df.apply(lambda x: x.str.replace('n.d.', ''))\n"
     ]
    }
   ],
   "source": [
    "# GET INFO ON EMBIG COLOMBIA\n",
    "\n",
    "embig_colombia_url='https://estadisticas.bcrp.gob.pe/estadisticas/series/diarias/resultados/PD04715XD/html/2010-01-01/2100-12-31'\n",
    "\n",
    "embig_colombia_html=pd.read_html(embig_colombia_url)\n",
    "\n",
    "embig_colombia_df = embig_colombia_html[1]\n",
    "\n",
    "# WORK WITH THE DATA AND EXPORT\n",
    "\n",
    "embig_colombia_df = embig_colombia_df.apply(lambda x: x.str.replace('n.d.', ''))\n",
    "\n",
    "embig_colombia_df['EMBIG Colombia'] = pd.to_numeric(embig_colombia_df['Tasas de interés: EMBIG (variación en pbs) - Spread - EMBIG Colombia (pbs)'], errors='coerce')\n",
    "\n",
    "embig_colombia_df = embig_colombia_df.drop('Tasas de interés: EMBIG (variación en pbs) - Spread - EMBIG Colombia (pbs)', axis=1)\n",
    "\n",
    "# WORK WITH THE DATE COLUMN\n",
    "\n",
    "embig_colombia_df['dia'] = embig_colombia_df['Fecha'].str[:2]\n",
    "embig_colombia_df['año'] = '20' + embig_colombia_df['Fecha'].str[-2:]\n",
    "embig_colombia_df['mes'] = embig_colombia_df['Fecha'].str[2:5]\n",
    "\n",
    "embig_colombia_df['mes'] = embig_colombia_df['mes'].replace({'Ene': '01', 'Feb': '02', 'Mar': '03', 'Abr': '04', 'May': '05', 'Jun': '06', 'Jul': '07', 'Ago': '08', 'Set': '09', 'Oct': '10', 'Nov': '11', 'Dic': '12'})\n",
    "\n",
    "embig_colombia_df['date'] = embig_colombia_df['dia'] + '/' + embig_colombia_df['mes'] + '/' + embig_colombia_df['año']\n",
    "\n",
    "embig_colombia_df['date'] = pd.to_datetime(embig_colombia_df['date'], format='%d/%m/%Y')\n",
    "\n",
    "embig_colombia_df = embig_colombia_df.drop(['Fecha', 'dia', 'año', 'mes'], axis=1)\n",
    "\n",
    "# EXPORT THE DATA\n",
    "\n",
    "embig_colombia_df.to_feather('embig_colombia')\n",
    "\n",
    "embig_colombia_df.to_excel('embig_colombia.xlsx')"
   ],
   "metadata": {
    "collapsed": false,
    "pycharm": {
     "name": "#%%\n"
    }
   }
  },
  {
   "cell_type": "code",
   "execution_count": 7,
   "outputs": [
    {
     "name": "stderr",
     "output_type": "stream",
     "text": [
      "C:\\Users\\pport\\AppData\\Local\\Temp\\ipykernel_33452\\579167521.py:11: FutureWarning: The default value of regex will change from True to False in a future version.\n",
      "  embig_mexico_df = embig_mexico_df.apply(lambda x: x.str.replace('n.d.', ''))\n"
     ]
    }
   ],
   "source": [
    "# GET INFO ON EMBIG MÉXICO\n",
    "\n",
    "embig_mexico_url='https://estadisticas.bcrp.gob.pe/estadisticas/series/diarias/resultados/PD04713XD/html/2010-01-01/2100-12-31'\n",
    "\n",
    "embig_mexico_html=pd.read_html(embig_mexico_url)\n",
    "\n",
    "embig_mexico_df = embig_mexico_html[1]\n",
    "\n",
    "# WORK WITH THE DATA AND EXPORT\n",
    "\n",
    "embig_mexico_df = embig_mexico_df.apply(lambda x: x.str.replace('n.d.', ''))\n",
    "\n",
    "embig_mexico_df['EMBIG México'] = pd.to_numeric(embig_mexico_df['Tasas de interés: EMBIG (variación en pbs) - Spread - EMBIG México (pbs)'], errors='coerce')\n",
    "\n",
    "embig_mexico_df = embig_mexico_df.drop('Tasas de interés: EMBIG (variación en pbs) - Spread - EMBIG México (pbs)', axis=1)\n",
    "\n",
    "# WORK WITH THE DATE COLUMN\n",
    "\n",
    "embig_mexico_df['dia'] = embig_mexico_df['Fecha'].str[:2]\n",
    "embig_mexico_df['año'] = '20' + embig_mexico_df['Fecha'].str[-2:]\n",
    "embig_mexico_df['mes'] = embig_mexico_df['Fecha'].str[2:5]\n",
    "\n",
    "embig_mexico_df['mes'] = embig_mexico_df['mes'].replace({'Ene': '01', 'Feb': '02', 'Mar': '03', 'Abr': '04', 'May': '05', 'Jun': '06', 'Jul': '07', 'Ago': '08', 'Set': '09', 'Oct': '10', 'Nov': '11', 'Dic': '12'})\n",
    "\n",
    "embig_mexico_df['date'] = embig_mexico_df['dia'] + '/' + embig_mexico_df['mes'] + '/' + embig_mexico_df['año']\n",
    "\n",
    "embig_mexico_df['date'] = pd.to_datetime(embig_mexico_df['date'], format='%d/%m/%Y')\n",
    "\n",
    "embig_mexico_df = embig_mexico_df.drop(['Fecha', 'dia', 'año', 'mes'], axis=1)\n",
    "\n",
    "# EXPORT THE DATA\n",
    "\n",
    "embig_mexico_df.to_feather('embig_mexico')\n",
    "\n",
    "embig_mexico_df.to_excel('embig_mexico.xlsx')"
   ],
   "metadata": {
    "collapsed": false,
    "pycharm": {
     "name": "#%%\n"
    }
   }
  },
  {
   "cell_type": "code",
   "execution_count": 8,
   "outputs": [
    {
     "name": "stderr",
     "output_type": "stream",
     "text": [
      "C:\\Users\\pport\\AppData\\Local\\Temp\\ipykernel_33452\\2339815816.py:11: FutureWarning: The default value of regex will change from True to False in a future version.\n",
      "  embig_em_df = embig_em_df.apply(lambda x: x.str.replace('n.d.', ''))\n"
     ]
    }
   ],
   "source": [
    "# GET INFO ON EMBIG ECONOMÍAS EMERGENTES\n",
    "\n",
    "embig_em_url='https://estadisticas.bcrp.gob.pe/estadisticas/series/diarias/resultados/PD38580XD/html/2010-01-01/2100-12-31'\n",
    "\n",
    "embig_em_html=pd.read_html(embig_em_url)\n",
    "\n",
    "embig_em_df = embig_em_html[1]\n",
    "\n",
    "# WORK WITH THE DATA AND EXPORT\n",
    "\n",
    "embig_em_df = embig_em_df.apply(lambda x: x.str.replace('n.d.', ''))\n",
    "\n",
    "embig_em_df['EMBIG Economías Emergentes'] = pd.to_numeric(embig_em_df['Tasas de interés: EMBIG (variación en pbs) - Spread - EMBIG Economías emergentes (pbs)'], errors='coerce')\n",
    "\n",
    "embig_em_df = embig_em_df.drop('Tasas de interés: EMBIG (variación en pbs) - Spread - EMBIG Economías emergentes (pbs)', axis=1)\n",
    "\n",
    "# WORK WITH THE DATE COLUMN\n",
    "\n",
    "embig_em_df['dia'] = embig_em_df['Fecha'].str[:2]\n",
    "embig_em_df['año'] = '20' + embig_em_df['Fecha'].str[-2:]\n",
    "embig_em_df['mes'] = embig_em_df['Fecha'].str[2:5]\n",
    "\n",
    "embig_em_df['mes'] = embig_em_df['mes'].replace({'Ene': '01', 'Feb': '02', 'Mar': '03', 'Abr': '04', 'May': '05', 'Jun': '06', 'Jul': '07', 'Ago': '08', 'Set': '09', 'Oct': '10', 'Nov': '11', 'Dic': '12'})\n",
    "\n",
    "embig_em_df['date'] = embig_em_df['dia'] + '/' + embig_em_df['mes'] + '/' + embig_em_df['año']\n",
    "\n",
    "embig_em_df['date'] = pd.to_datetime(embig_em_df['date'], format='%d/%m/%Y')\n",
    "\n",
    "embig_em_df = embig_em_df.drop(['Fecha', 'dia', 'año', 'mes'], axis=1)\n",
    "\n",
    "# EXPORT THE DATA\n",
    "\n",
    "embig_em_df.to_feather('embig_em')\n",
    "\n",
    "embig_em_df.to_excel('embig_em.xlsx')"
   ],
   "metadata": {
    "collapsed": false,
    "pycharm": {
     "name": "#%%\n"
    }
   }
  },
  {
   "cell_type": "code",
   "execution_count": 9,
   "outputs": [
    {
     "name": "stderr",
     "output_type": "stream",
     "text": [
      "C:\\Users\\pport\\AppData\\Local\\Temp\\ipykernel_33452\\3772998430.py:11: FutureWarning: The default value of regex will change from True to False in a future version.\n",
      "  embig_latam_df = embig_latam_df.apply(lambda x: x.str.replace('n.d.', ''))\n"
     ]
    }
   ],
   "source": [
    "# GET INFO ON EMBIG LATAM\n",
    "\n",
    "embig_latam_url='https://estadisticas.bcrp.gob.pe/estadisticas/series/diarias/resultados/PD04708XD/html/2010-01-01/2100-12-31'\n",
    "\n",
    "embig_latam_html=pd.read_html(embig_latam_url)\n",
    "\n",
    "embig_latam_df = embig_latam_html[1]\n",
    "\n",
    "# WORK WITH THE DATA AND EXPORT\n",
    "\n",
    "embig_latam_df = embig_latam_df.apply(lambda x: x.str.replace('n.d.', ''))\n",
    "\n",
    "embig_latam_df['EMBIG Latam'] = pd.to_numeric(embig_latam_df['Tasas de interés: EMBIG (variación en pbs) - Spread - EMBIG America Latina (pbs)'], errors='coerce')\n",
    "\n",
    "embig_latam_df = embig_latam_df.drop('Tasas de interés: EMBIG (variación en pbs) - Spread - EMBIG America Latina (pbs)', axis=1)\n",
    "\n",
    "# WORK WITH THE DATE COLUMN\n",
    "\n",
    "embig_latam_df['dia'] = embig_latam_df['Fecha'].str[:2]\n",
    "embig_latam_df['año'] = '20' + embig_latam_df['Fecha'].str[-2:]\n",
    "embig_latam_df['mes'] = embig_latam_df['Fecha'].str[2:5]\n",
    "\n",
    "embig_latam_df['mes'] = embig_latam_df['mes'].replace({'Ene': '01', 'Feb': '02', 'Mar': '03', 'Abr': '04', 'May': '05', 'Jun': '06', 'Jul': '07', 'Ago': '08', 'Set': '09', 'Oct': '10', 'Nov': '11', 'Dic': '12'})\n",
    "\n",
    "embig_latam_df['date'] = embig_latam_df['dia'] + '/' + embig_latam_df['mes'] + '/' + embig_latam_df['año']\n",
    "\n",
    "embig_latam_df['date'] = pd.to_datetime(embig_latam_df['date'], format='%d/%m/%Y')\n",
    "\n",
    "embig_latam_df = embig_latam_df.drop(['Fecha', 'dia', 'año', 'mes'], axis=1)\n",
    "\n",
    "# EXPORT THE DATA\n",
    "\n",
    "embig_latam_df.to_feather('embig_latam')\n",
    "\n",
    "embig_latam_df.to_excel('embig_latam.xlsx')"
   ],
   "metadata": {
    "collapsed": false,
    "pycharm": {
     "name": "#%%\n"
    }
   }
  },
  {
   "cell_type": "code",
   "execution_count": 10,
   "outputs": [],
   "source": [
    "# MERGE EVERYTHING\n",
    "\n",
    "embig_df = [embig_brasil_df, embig_chile_df, embig_colombia_df, embig_mexico_df, embig_peru_df, embig_latam_df, embig_em_df]\n",
    "\n",
    "embig = reduce(lambda left, right: pd.merge(left, right, on=['date'], how='outer'), embig_df).fillna('')\n",
    "\n",
    "# EXPORT\n",
    "\n",
    "embig.to_excel('embig.xlsx')"
   ],
   "metadata": {
    "collapsed": false,
    "pycharm": {
     "name": "#%%\n"
    }
   }
  },
  {
   "cell_type": "code",
   "execution_count": 11,
   "outputs": [],
   "source": [
    "# OBTENER OPERACIONES DE BONOS SOBERANOS POR NO RESIDENTES\n",
    "\n",
    "no_residentes_url='https://estadisticas.bcrp.gob.pe/estadisticas/series/trimestrales/resultados/PN02913FQ/html/2005-01-01/2100-12-31'\n",
    "\n",
    "no_residentes_html=pd.read_html(no_residentes_url)\n",
    "\n",
    "no_residentes_df = no_residentes_html[1]\n",
    "\n",
    "# WORK WITH THE DATA AND EXPORT\n",
    "\n",
    "no_residentes_df['Compraventa de bonos soberanos por no residentes'] = pd.to_numeric(no_residentes_df['Cuenta financiera del sector público (millones US$) - Otras Operaciones con Títulos de Deuda Bonos Soberanos Adquiridos por no Residentes'], errors='coerce')\n",
    "\n",
    "no_residentes_df = no_residentes_df.drop('Cuenta financiera del sector público (millones US$) - Otras Operaciones con Títulos de Deuda Bonos Soberanos Adquiridos por no Residentes', axis=1)"
   ],
   "metadata": {
    "collapsed": false,
    "pycharm": {
     "name": "#%%\n"
    }
   }
  },
  {
   "cell_type": "code",
   "execution_count": 12,
   "outputs": [],
   "source": [
    "# WORK WITH THE DATE COLUMN\n",
    "\n",
    "no_residentes_df['trimestre'] = no_residentes_df['Fecha'].str[:2]\n",
    "no_residentes_df['año'] = '20' + no_residentes_df['Fecha'].str[-2:]\n",
    "\n",
    "no_residentes_df['trimestre'] = no_residentes_df['trimestre'].replace({'T1': '31/03', 'T2': '30/06', 'T3': '30/09', 'T4': '31/12'})\n",
    "\n",
    "no_residentes_df['date'] = no_residentes_df['trimestre'] + '/' + no_residentes_df['año']\n",
    "\n",
    "no_residentes_df['date'] = pd.to_datetime(no_residentes_df['date'], format='%d/%m/%Y')\n",
    "\n",
    "# EXPORT THE DATA\n",
    "\n",
    "no_residentes_df.to_feather('flujos_nr')\n",
    "\n",
    "no_residentes_df.to_excel('flujos_nr.xlsx')"
   ],
   "metadata": {
    "collapsed": false,
    "pycharm": {
     "name": "#%%\n"
    }
   }
  },
  {
   "cell_type": "code",
   "execution_count": 13,
   "outputs": [],
   "source": [
    "# PBI PERUANO\n",
    "\n",
    "pbi_peru_url='https://estadisticas.bcrp.gob.pe/estadisticas/series/mensuales/resultados/PN01728AM/html/2005-01/2100-12'\n",
    "\n",
    "pbi_peru_html=pd.read_html(pbi_peru_url)\n",
    "\n",
    "pbi_peru_df = pbi_peru_html[1]\n",
    "\n",
    "# WORK WITH THE DATA AND EXPORT\n",
    "\n",
    "pbi_peru_df['Var. % a/a'] = pd.to_numeric(pbi_peru_df['Producto bruto interno y demanda interna (variaciones porcentuales anualizadas) - PBI'], errors='coerce')\n",
    "\n",
    "pbi_peru_df = pbi_peru_df.drop('Producto bruto interno y demanda interna (variaciones porcentuales anualizadas) - PBI', axis=1)\n",
    "\n",
    "# WORK WITH THE DATE COLUMN\n",
    "\n",
    "pbi_peru_df['año'] = '20' + pbi_peru_df['Fecha'].str[-2:]\n",
    "\n",
    "pbi_peru_df['mes'] = pbi_peru_df['Fecha'].str[:3]\n",
    "\n",
    "pbi_peru_df['mes'] = pbi_peru_df['mes'].replace({'Ene': '01/01', 'Feb': '01/02', 'Mar': '01/03', 'Abr': '01/04', 'May': '01/05', 'Jun': '01/06', 'Jul': '01/07', 'Ago': '01/08', 'Sep': '01/09', 'Oct': '01/10', 'Nov': '01/11', 'Dic': '01/12'})\n",
    "\n",
    "pbi_peru_df['date'] = pbi_peru_df['mes'] + '/' + pbi_peru_df['año']\n",
    "\n",
    "pbi_peru_df['date'] = pd.to_datetime(pbi_peru_df['date'], format='%d/%m/%Y')\n",
    "\n",
    "pbi_peru_df = pbi_peru_df.drop(['Fecha', 'año', 'mes'], axis=1)\n",
    "\n",
    "# EXPORT THE DATA\n",
    "\n",
    "pbi_peru_df.to_feather('pbi_peru')\n",
    "\n",
    "pbi_peru_df.to_excel('pbi_peru.xlsx')"
   ],
   "metadata": {
    "collapsed": false,
    "pycharm": {
     "name": "#%%\n"
    }
   }
  },
  {
   "cell_type": "code",
   "execution_count": 14,
   "outputs": [],
   "source": [
    "# EXPECTATIVAS DE PBI PERUANO\n",
    "\n",
    "exp_pbi_url='https://estadisticas.bcrp.gob.pe/estadisticas/series/mensuales/resultados/PD38048AM/html/2005-01/2100-12'\n",
    "\n",
    "exp_pbi_html=pd.read_html(exp_pbi_url)\n",
    "\n",
    "exp_pbi_df = exp_pbi_html[1]\n",
    "\n",
    "# WORK WITH THE DATA AND EXPORT\n",
    "\n",
    "exp_pbi_df['Expectativas PBI (%)'] = pd.to_numeric(exp_pbi_df['Expectativas Macroeconómicas - Expectativa de PBI a 12 meses'], errors='coerce')\n",
    "\n",
    "exp_pbi_df = exp_pbi_df.drop('Expectativas Macroeconómicas - Expectativa de PBI a 12 meses', axis=1)\n",
    "\n",
    "# WORK WITH THE DATE COLUMN\n",
    "\n",
    "exp_pbi_df['año'] = '20' + exp_pbi_df['Fecha'].str[-2:]\n",
    "\n",
    "exp_pbi_df['mes'] = exp_pbi_df['Fecha'].str[:3]\n",
    "\n",
    "exp_pbi_df['mes'] = exp_pbi_df['mes'].replace({'Ene': '01/01', 'Feb': '01/02', 'Mar': '01/03', 'Abr': '01/04', 'May': '01/05', 'Jun': '01/06', 'Jul': '01/07', 'Ago': '01/08', 'Sep': '01/09', 'Oct': '01/10', 'Nov': '01/11', 'Dic': '01/12'})\n",
    "\n",
    "exp_pbi_df['date'] = exp_pbi_df['mes'] + '/' + exp_pbi_df['año']\n",
    "\n",
    "exp_pbi_df['date'] = pd.to_datetime(exp_pbi_df['date'], format='%d/%m/%Y')\n",
    "\n",
    "exp_pbi_df = exp_pbi_df.drop(['Fecha', 'año', 'mes'], axis=1)\n",
    "\n",
    "# EXPORT THE DATA\n",
    "\n",
    "exp_pbi_df.to_feather('expectativas_pbi_peru')\n",
    "\n",
    "exp_pbi_df.to_excel('expectativas_pbi_peru.xlsx')"
   ],
   "metadata": {
    "collapsed": false,
    "pycharm": {
     "name": "#%%\n"
    }
   }
  },
  {
   "cell_type": "code",
   "execution_count": 15,
   "outputs": [],
   "source": [
    "# PBI PERUANO DESESTACIONALIZADO\n",
    "\n",
    "pbi_perd_url='https://estadisticas.bcrp.gob.pe/estadisticas/series/mensuales/resultados/PN01731AM/html/2005-01/2100-12'\n",
    "\n",
    "pbi_perd_html=pd.read_html(pbi_perd_url)\n",
    "\n",
    "pbi_perd_df = pbi_perd_html[1]\n",
    "\n",
    "# WORK WITH THE DATA AND EXPORT\n",
    "\n",
    "pbi_perd_df['Var. % m/m'] = pd.to_numeric(pbi_perd_df['Producto bruto interno y demanda interna (variaciones porcentuales anualizadas) - PBI Desestacionalizado - Var% mensual'], errors='coerce')\n",
    "\n",
    "pbi_perd_df = pbi_perd_df.drop('Producto bruto interno y demanda interna (variaciones porcentuales anualizadas) - PBI Desestacionalizado - Var% mensual', axis=1)\n",
    "\n",
    "# WORK WITH THE DATE COLUMN\n",
    "\n",
    "pbi_perd_df['año'] = '20' + pbi_perd_df['Fecha'].str[-2:]\n",
    "\n",
    "pbi_perd_df['mes'] = pbi_perd_df['Fecha'].str[:3]\n",
    "\n",
    "pbi_perd_df['mes'] = pbi_perd_df['mes'].replace({'Ene': '01/01', 'Feb': '01/02', 'Mar': '01/03', 'Abr': '01/04', 'May': '01/05', 'Jun': '01/06', 'Jul': '01/07', 'Ago': '01/08', 'Sep': '01/09', 'Oct': '01/10', 'Nov': '01/11', 'Dic': '01/12'})\n",
    "\n",
    "pbi_perd_df['date'] = pbi_perd_df['mes'] + '/' + pbi_perd_df['año']\n",
    "\n",
    "pbi_perd_df['date'] = pd.to_datetime(pbi_perd_df['date'], format='%d/%m/%Y')\n",
    "\n",
    "pbi_perd_df = pbi_perd_df.drop(['Fecha', 'año', 'mes'], axis=1)\n",
    "\n",
    "# EXPORT THE DATA\n",
    "\n",
    "pbi_perd_df.to_feather('pbi_peru_des')\n",
    "\n",
    "pbi_perd_df.to_excel('pbi_peru_des.xlsx')"
   ],
   "metadata": {
    "collapsed": false,
    "pycharm": {
     "name": "#%%\n"
    }
   }
  },
  {
   "cell_type": "code",
   "execution_count": 16,
   "outputs": [],
   "source": [
    "# PBI PERUANO DESESTACIONALIZADO MEDIA MÓVIL\n",
    "\n",
    "pbi_perd_prom_url='https://estadisticas.bcrp.gob.pe/estadisticas/series/mensuales/resultados/PN38082AM/html/2005-01/2100-12'\n",
    "\n",
    "pbi_perd_prom_html=pd.read_html(pbi_perd_prom_url)\n",
    "\n",
    "pbi_perd_prom_df = pbi_perd_prom_html[1]\n",
    "\n",
    "# WORK WITH THE DATA AND EXPORT\n",
    "\n",
    "pbi_perd_prom_df['Var. % promedio móvil 3m'] = pd.to_numeric(pbi_perd_prom_df['Producto bruto interno y demanda interna (variaciones porcentuales anualizadas) - PBI Desestacionalizado - Var% promedio móvil 3 meses'], errors='coerce')\n",
    "\n",
    "pbi_perd_prom_df = pbi_perd_prom_df.drop('Producto bruto interno y demanda interna (variaciones porcentuales anualizadas) - PBI Desestacionalizado - Var% promedio móvil 3 meses', axis=1)\n",
    "\n",
    "# WORK WITH THE DATE COLUMN\n",
    "\n",
    "pbi_perd_prom_df['año'] = '20' + pbi_perd_prom_df['Fecha'].str[-2:]\n",
    "\n",
    "pbi_perd_prom_df['mes'] = pbi_perd_prom_df['Fecha'].str[:3]\n",
    "\n",
    "pbi_perd_prom_df['mes'] = pbi_perd_prom_df['mes'].replace({'Ene': '01/01', 'Feb': '01/02', 'Mar': '01/03', 'Abr': '01/04', 'May': '01/05', 'Jun': '01/06', 'Jul': '01/07', 'Ago': '01/08', 'Sep': '01/09', 'Oct': '01/10', 'Nov': '01/11', 'Dic': '01/12'})\n",
    "\n",
    "pbi_perd_prom_df['date'] = pbi_perd_prom_df['mes'] + '/' + pbi_perd_prom_df['año']\n",
    "\n",
    "pbi_perd_prom_df['date'] = pd.to_datetime(pbi_perd_prom_df['date'], format='%d/%m/%Y')\n",
    "\n",
    "pbi_perd_prom_df = pbi_perd_prom_df.drop(['Fecha', 'año', 'mes'], axis=1)\n",
    "\n",
    "# EXPORT THE DATA\n",
    "\n",
    "pbi_perd_prom_df.to_feather('pbi_peru_des_prom')\n",
    "\n",
    "pbi_perd_prom_df.to_excel('pbi_peru_des_prom.xlsx')"
   ],
   "metadata": {
    "collapsed": false,
    "pycharm": {
     "name": "#%%\n"
    }
   }
  },
  {
   "cell_type": "code",
   "execution_count": 17,
   "outputs": [],
   "source": [
    "# INFLACIÓN PERÚ\n",
    "\n",
    "inflacion_peru_url='https://estadisticas.bcrp.gob.pe/estadisticas/series/mensuales/resultados/PN01273PM/html/2005-01/2100-12'\n",
    "\n",
    "inflacion_peru_html=pd.read_html(inflacion_peru_url)\n",
    "\n",
    "inflacion_peru_df = inflacion_peru_html[1]\n",
    "\n",
    "# WORK WITH THE DATA AND EXPORT\n",
    "\n",
    "inflacion_peru_df['Var. % a/a'] = pd.to_numeric(inflacion_peru_df['Índice de precios Lima Metropolitana (var% 12 meses) - IPC'], errors='coerce')\n",
    "\n",
    "inflacion_peru_df = inflacion_peru_df.drop('Índice de precios Lima Metropolitana (var% 12 meses) - IPC', axis=1)\n",
    "\n",
    "# WORK WITH THE DATE COLUMN\n",
    "\n",
    "inflacion_peru_df['año'] = '20' + inflacion_peru_df['Fecha'].str[-2:]\n",
    "\n",
    "inflacion_peru_df['mes'] = inflacion_peru_df['Fecha'].str[:3]\n",
    "\n",
    "inflacion_peru_df['mes'] = inflacion_peru_df['mes'].replace({'Ene': '01/01', 'Feb': '01/02', 'Mar': '01/03', 'Abr': '01/04', 'May': '01/05', 'Jun': '01/06', 'Jul': '01/07', 'Ago': '01/08', 'Sep': '01/09', 'Oct': '01/10', 'Nov': '01/11', 'Dic': '01/12'})\n",
    "\n",
    "inflacion_peru_df['date'] = inflacion_peru_df['mes'] + '/' + inflacion_peru_df['año']\n",
    "\n",
    "inflacion_peru_df['date'] = pd.to_datetime(inflacion_peru_df['date'], format='%d/%m/%Y')\n",
    "\n",
    "inflacion_peru_df = inflacion_peru_df.drop(['Fecha', 'año', 'mes'], axis=1)\n",
    "\n",
    "# EXPORT THE DATA\n",
    "\n",
    "inflacion_peru_df.to_feather('inflacion_peru')\n",
    "\n",
    "inflacion_peru_df.to_excel('inflacion_peru.xlsx')"
   ],
   "metadata": {
    "collapsed": false,
    "pycharm": {
     "name": "#%%\n"
    }
   }
  },
  {
   "cell_type": "code",
   "execution_count": 18,
   "outputs": [],
   "source": [
    "# INFLACIÓN PERÚ SIN ALIMENTOS Y ENERGÍA\n",
    "\n",
    "inflacion_peru_sub_url='https://estadisticas.bcrp.gob.pe/estadisticas/series/mensuales/resultados/PN01277PM/html/2005-01/2100-12'\n",
    "\n",
    "inflacion_peru_sub_html=pd.read_html(inflacion_peru_sub_url)\n",
    "\n",
    "inflacion_peru_sub_df = inflacion_peru_sub_html[1]\n",
    "\n",
    "# WORK WITH THE DATA AND EXPORT\n",
    "\n",
    "inflacion_peru_sub_df['Var. % a/a'] = pd.to_numeric(inflacion_peru_sub_df['Índice de precios Lima Metropolitana (var% 12 meses) - IPC Sin Alimentos y Energía'], errors='coerce')\n",
    "\n",
    "inflacion_peru_sub_df = inflacion_peru_sub_df.drop('Índice de precios Lima Metropolitana (var% 12 meses) - IPC Sin Alimentos y Energía', axis=1)\n",
    "\n",
    "# WORK WITH THE DATE COLUMN\n",
    "\n",
    "inflacion_peru_sub_df['año'] = '20' + inflacion_peru_sub_df['Fecha'].str[-2:]\n",
    "\n",
    "inflacion_peru_sub_df['mes'] = inflacion_peru_sub_df['Fecha'].str[:3]\n",
    "\n",
    "inflacion_peru_sub_df['mes'] = inflacion_peru_sub_df['mes'].replace({'Ene': '01/01', 'Feb': '01/02', 'Mar': '01/03', 'Abr': '01/04', 'May': '01/05', 'Jun': '01/06', 'Jul': '01/07', 'Ago': '01/08', 'Sep': '01/09', 'Oct': '01/10', 'Nov': '01/11', 'Dic': '01/12'})\n",
    "\n",
    "inflacion_peru_sub_df['date'] = inflacion_peru_sub_df['mes'] + '/' + inflacion_peru_sub_df['año']\n",
    "\n",
    "inflacion_peru_sub_df['date'] = pd.to_datetime(inflacion_peru_sub_df['date'], format='%d/%m/%Y')\n",
    "\n",
    "inflacion_peru_sub_df = inflacion_peru_sub_df.drop(['Fecha', 'año', 'mes'], axis=1)\n",
    "\n",
    "# EXPORT THE DATA\n",
    "\n",
    "inflacion_peru_sub_df.to_feather('inflacion_peru_sub')\n",
    "\n",
    "inflacion_peru_sub_df.to_excel('inflacion_peru_sub.xlsx')"
   ],
   "metadata": {
    "collapsed": false,
    "pycharm": {
     "name": "#%%\n"
    }
   }
  },
  {
   "cell_type": "code",
   "execution_count": 19,
   "outputs": [],
   "source": [
    "# EXPECTATIVAS DE INFLACIÓN\n",
    "\n",
    "inflacion_peru_exp_url='https://estadisticas.bcrp.gob.pe/estadisticas/series/mensuales/resultados/PD12912AM/html/2005-01/2100-12'\n",
    "\n",
    "inflacion_peru_exp_html=pd.read_html(inflacion_peru_exp_url)\n",
    "\n",
    "inflacion_peru_exp_df = inflacion_peru_exp_html[1]\n",
    "\n",
    "# WORK WITH THE DATA AND EXPORT\n",
    "\n",
    "inflacion_peru_exp_df['Expectativas'] = pd.to_numeric(inflacion_peru_exp_df['Expectativas Macroeconómicas - Expectativa de Inflación a 12 meses'], errors='coerce')\n",
    "\n",
    "inflacion_peru_exp_df = inflacion_peru_exp_df.drop('Expectativas Macroeconómicas - Expectativa de Inflación a 12 meses', axis=1)\n",
    "\n",
    "# WORK WITH THE DATE COLUMN\n",
    "\n",
    "inflacion_peru_exp_df['año'] = '20' + inflacion_peru_exp_df['Fecha'].str[-2:]\n",
    "\n",
    "inflacion_peru_exp_df['mes'] = inflacion_peru_exp_df['Fecha'].str[:3]\n",
    "\n",
    "inflacion_peru_exp_df['mes'] = inflacion_peru_exp_df['mes'].replace({'Ene': '01/01', 'Feb': '01/02', 'Mar': '01/03', 'Abr': '01/04', 'May': '01/05', 'Jun': '01/06', 'Jul': '01/07', 'Ago': '01/08', 'Sep': '01/09', 'Oct': '01/10', 'Nov': '01/11', 'Dic': '01/12'})\n",
    "\n",
    "inflacion_peru_exp_df['date'] = inflacion_peru_exp_df['mes'] + '/' + inflacion_peru_exp_df['año']\n",
    "\n",
    "inflacion_peru_exp_df['date'] = pd.to_datetime(inflacion_peru_exp_df['date'], format='%d/%m/%Y')\n",
    "\n",
    "inflacion_peru_exp_df = inflacion_peru_exp_df.drop(['Fecha', 'año', 'mes'], axis=1)\n",
    "\n",
    "# EXPORT THE DATA\n",
    "\n",
    "inflacion_peru_exp_df.to_feather('inflacion_peru_exp')\n",
    "\n",
    "inflacion_peru_exp_df.to_excel('inflacion_peru_exp.xlsx')"
   ],
   "metadata": {
    "collapsed": false,
    "pycharm": {
     "name": "#%%\n"
    }
   }
  },
  {
   "cell_type": "code",
   "execution_count": 20,
   "outputs": [
    {
     "ename": "URLError",
     "evalue": "<urlopen error [WinError 10061] No connection could be made because the target machine actively refused it>",
     "output_type": "error",
     "traceback": [
      "\u001B[1;31m---------------------------------------------------------------------------\u001B[0m",
      "\u001B[1;31mConnectionRefusedError\u001B[0m                    Traceback (most recent call last)",
      "File \u001B[1;32m~\\anaconda3\\lib\\urllib\\request.py:1346\u001B[0m, in \u001B[0;36mAbstractHTTPHandler.do_open\u001B[1;34m(self, http_class, req, **http_conn_args)\u001B[0m\n\u001B[0;32m   1345\u001B[0m \u001B[38;5;28;01mtry\u001B[39;00m:\n\u001B[1;32m-> 1346\u001B[0m     \u001B[43mh\u001B[49m\u001B[38;5;241;43m.\u001B[39;49m\u001B[43mrequest\u001B[49m\u001B[43m(\u001B[49m\u001B[43mreq\u001B[49m\u001B[38;5;241;43m.\u001B[39;49m\u001B[43mget_method\u001B[49m\u001B[43m(\u001B[49m\u001B[43m)\u001B[49m\u001B[43m,\u001B[49m\u001B[43m \u001B[49m\u001B[43mreq\u001B[49m\u001B[38;5;241;43m.\u001B[39;49m\u001B[43mselector\u001B[49m\u001B[43m,\u001B[49m\u001B[43m \u001B[49m\u001B[43mreq\u001B[49m\u001B[38;5;241;43m.\u001B[39;49m\u001B[43mdata\u001B[49m\u001B[43m,\u001B[49m\u001B[43m \u001B[49m\u001B[43mheaders\u001B[49m\u001B[43m,\u001B[49m\n\u001B[0;32m   1347\u001B[0m \u001B[43m              \u001B[49m\u001B[43mencode_chunked\u001B[49m\u001B[38;5;241;43m=\u001B[39;49m\u001B[43mreq\u001B[49m\u001B[38;5;241;43m.\u001B[39;49m\u001B[43mhas_header\u001B[49m\u001B[43m(\u001B[49m\u001B[38;5;124;43m'\u001B[39;49m\u001B[38;5;124;43mTransfer-encoding\u001B[39;49m\u001B[38;5;124;43m'\u001B[39;49m\u001B[43m)\u001B[49m\u001B[43m)\u001B[49m\n\u001B[0;32m   1348\u001B[0m \u001B[38;5;28;01mexcept\u001B[39;00m \u001B[38;5;167;01mOSError\u001B[39;00m \u001B[38;5;28;01mas\u001B[39;00m err: \u001B[38;5;66;03m# timeout error\u001B[39;00m\n",
      "File \u001B[1;32m~\\anaconda3\\lib\\http\\client.py:1285\u001B[0m, in \u001B[0;36mHTTPConnection.request\u001B[1;34m(self, method, url, body, headers, encode_chunked)\u001B[0m\n\u001B[0;32m   1284\u001B[0m \u001B[38;5;124;03m\"\"\"Send a complete request to the server.\"\"\"\u001B[39;00m\n\u001B[1;32m-> 1285\u001B[0m \u001B[38;5;28;43mself\u001B[39;49m\u001B[38;5;241;43m.\u001B[39;49m\u001B[43m_send_request\u001B[49m\u001B[43m(\u001B[49m\u001B[43mmethod\u001B[49m\u001B[43m,\u001B[49m\u001B[43m \u001B[49m\u001B[43murl\u001B[49m\u001B[43m,\u001B[49m\u001B[43m \u001B[49m\u001B[43mbody\u001B[49m\u001B[43m,\u001B[49m\u001B[43m \u001B[49m\u001B[43mheaders\u001B[49m\u001B[43m,\u001B[49m\u001B[43m \u001B[49m\u001B[43mencode_chunked\u001B[49m\u001B[43m)\u001B[49m\n",
      "File \u001B[1;32m~\\anaconda3\\lib\\http\\client.py:1331\u001B[0m, in \u001B[0;36mHTTPConnection._send_request\u001B[1;34m(self, method, url, body, headers, encode_chunked)\u001B[0m\n\u001B[0;32m   1330\u001B[0m     body \u001B[38;5;241m=\u001B[39m _encode(body, \u001B[38;5;124m'\u001B[39m\u001B[38;5;124mbody\u001B[39m\u001B[38;5;124m'\u001B[39m)\n\u001B[1;32m-> 1331\u001B[0m \u001B[38;5;28;43mself\u001B[39;49m\u001B[38;5;241;43m.\u001B[39;49m\u001B[43mendheaders\u001B[49m\u001B[43m(\u001B[49m\u001B[43mbody\u001B[49m\u001B[43m,\u001B[49m\u001B[43m \u001B[49m\u001B[43mencode_chunked\u001B[49m\u001B[38;5;241;43m=\u001B[39;49m\u001B[43mencode_chunked\u001B[49m\u001B[43m)\u001B[49m\n",
      "File \u001B[1;32m~\\anaconda3\\lib\\http\\client.py:1280\u001B[0m, in \u001B[0;36mHTTPConnection.endheaders\u001B[1;34m(self, message_body, encode_chunked)\u001B[0m\n\u001B[0;32m   1279\u001B[0m     \u001B[38;5;28;01mraise\u001B[39;00m CannotSendHeader()\n\u001B[1;32m-> 1280\u001B[0m \u001B[38;5;28;43mself\u001B[39;49m\u001B[38;5;241;43m.\u001B[39;49m\u001B[43m_send_output\u001B[49m\u001B[43m(\u001B[49m\u001B[43mmessage_body\u001B[49m\u001B[43m,\u001B[49m\u001B[43m \u001B[49m\u001B[43mencode_chunked\u001B[49m\u001B[38;5;241;43m=\u001B[39;49m\u001B[43mencode_chunked\u001B[49m\u001B[43m)\u001B[49m\n",
      "File \u001B[1;32m~\\anaconda3\\lib\\http\\client.py:1040\u001B[0m, in \u001B[0;36mHTTPConnection._send_output\u001B[1;34m(self, message_body, encode_chunked)\u001B[0m\n\u001B[0;32m   1039\u001B[0m \u001B[38;5;28;01mdel\u001B[39;00m \u001B[38;5;28mself\u001B[39m\u001B[38;5;241m.\u001B[39m_buffer[:]\n\u001B[1;32m-> 1040\u001B[0m \u001B[38;5;28;43mself\u001B[39;49m\u001B[38;5;241;43m.\u001B[39;49m\u001B[43msend\u001B[49m\u001B[43m(\u001B[49m\u001B[43mmsg\u001B[49m\u001B[43m)\u001B[49m\n\u001B[0;32m   1042\u001B[0m \u001B[38;5;28;01mif\u001B[39;00m message_body \u001B[38;5;129;01mis\u001B[39;00m \u001B[38;5;129;01mnot\u001B[39;00m \u001B[38;5;28;01mNone\u001B[39;00m:\n\u001B[0;32m   1043\u001B[0m \n\u001B[0;32m   1044\u001B[0m     \u001B[38;5;66;03m# create a consistent interface to message_body\u001B[39;00m\n",
      "File \u001B[1;32m~\\anaconda3\\lib\\http\\client.py:980\u001B[0m, in \u001B[0;36mHTTPConnection.send\u001B[1;34m(self, data)\u001B[0m\n\u001B[0;32m    979\u001B[0m \u001B[38;5;28;01mif\u001B[39;00m \u001B[38;5;28mself\u001B[39m\u001B[38;5;241m.\u001B[39mauto_open:\n\u001B[1;32m--> 980\u001B[0m     \u001B[38;5;28;43mself\u001B[39;49m\u001B[38;5;241;43m.\u001B[39;49m\u001B[43mconnect\u001B[49m\u001B[43m(\u001B[49m\u001B[43m)\u001B[49m\n\u001B[0;32m    981\u001B[0m \u001B[38;5;28;01melse\u001B[39;00m:\n",
      "File \u001B[1;32m~\\anaconda3\\lib\\http\\client.py:1447\u001B[0m, in \u001B[0;36mHTTPSConnection.connect\u001B[1;34m(self)\u001B[0m\n\u001B[0;32m   1445\u001B[0m \u001B[38;5;124m\"\u001B[39m\u001B[38;5;124mConnect to a host on a given (SSL) port.\u001B[39m\u001B[38;5;124m\"\u001B[39m\n\u001B[1;32m-> 1447\u001B[0m \u001B[38;5;28;43msuper\u001B[39;49m\u001B[43m(\u001B[49m\u001B[43m)\u001B[49m\u001B[38;5;241;43m.\u001B[39;49m\u001B[43mconnect\u001B[49m\u001B[43m(\u001B[49m\u001B[43m)\u001B[49m\n\u001B[0;32m   1449\u001B[0m \u001B[38;5;28;01mif\u001B[39;00m \u001B[38;5;28mself\u001B[39m\u001B[38;5;241m.\u001B[39m_tunnel_host:\n",
      "File \u001B[1;32m~\\anaconda3\\lib\\http\\client.py:946\u001B[0m, in \u001B[0;36mHTTPConnection.connect\u001B[1;34m(self)\u001B[0m\n\u001B[0;32m    945\u001B[0m \u001B[38;5;124;03m\"\"\"Connect to the host and port specified in __init__.\"\"\"\u001B[39;00m\n\u001B[1;32m--> 946\u001B[0m \u001B[38;5;28mself\u001B[39m\u001B[38;5;241m.\u001B[39msock \u001B[38;5;241m=\u001B[39m \u001B[38;5;28;43mself\u001B[39;49m\u001B[38;5;241;43m.\u001B[39;49m\u001B[43m_create_connection\u001B[49m\u001B[43m(\u001B[49m\n\u001B[0;32m    947\u001B[0m \u001B[43m    \u001B[49m\u001B[43m(\u001B[49m\u001B[38;5;28;43mself\u001B[39;49m\u001B[38;5;241;43m.\u001B[39;49m\u001B[43mhost\u001B[49m\u001B[43m,\u001B[49m\u001B[38;5;28;43mself\u001B[39;49m\u001B[38;5;241;43m.\u001B[39;49m\u001B[43mport\u001B[49m\u001B[43m)\u001B[49m\u001B[43m,\u001B[49m\u001B[43m \u001B[49m\u001B[38;5;28;43mself\u001B[39;49m\u001B[38;5;241;43m.\u001B[39;49m\u001B[43mtimeout\u001B[49m\u001B[43m,\u001B[49m\u001B[43m \u001B[49m\u001B[38;5;28;43mself\u001B[39;49m\u001B[38;5;241;43m.\u001B[39;49m\u001B[43msource_address\u001B[49m\u001B[43m)\u001B[49m\n\u001B[0;32m    948\u001B[0m \u001B[38;5;66;03m# Might fail in OSs that don't implement TCP_NODELAY\u001B[39;00m\n",
      "File \u001B[1;32m~\\anaconda3\\lib\\socket.py:844\u001B[0m, in \u001B[0;36mcreate_connection\u001B[1;34m(address, timeout, source_address)\u001B[0m\n\u001B[0;32m    843\u001B[0m \u001B[38;5;28;01mtry\u001B[39;00m:\n\u001B[1;32m--> 844\u001B[0m     \u001B[38;5;28;01mraise\u001B[39;00m err\n\u001B[0;32m    845\u001B[0m \u001B[38;5;28;01mfinally\u001B[39;00m:\n\u001B[0;32m    846\u001B[0m     \u001B[38;5;66;03m# Break explicitly a reference cycle\u001B[39;00m\n",
      "File \u001B[1;32m~\\anaconda3\\lib\\socket.py:832\u001B[0m, in \u001B[0;36mcreate_connection\u001B[1;34m(address, timeout, source_address)\u001B[0m\n\u001B[0;32m    831\u001B[0m     sock\u001B[38;5;241m.\u001B[39mbind(source_address)\n\u001B[1;32m--> 832\u001B[0m \u001B[43msock\u001B[49m\u001B[38;5;241;43m.\u001B[39;49m\u001B[43mconnect\u001B[49m\u001B[43m(\u001B[49m\u001B[43msa\u001B[49m\u001B[43m)\u001B[49m\n\u001B[0;32m    833\u001B[0m \u001B[38;5;66;03m# Break explicitly a reference cycle\u001B[39;00m\n",
      "\u001B[1;31mConnectionRefusedError\u001B[0m: [WinError 10061] No connection could be made because the target machine actively refused it",
      "\nDuring handling of the above exception, another exception occurred:\n",
      "\u001B[1;31mURLError\u001B[0m                                  Traceback (most recent call last)",
      "Input \u001B[1;32mIn [20]\u001B[0m, in \u001B[0;36m<cell line: 5>\u001B[1;34m()\u001B[0m\n\u001B[0;32m      1\u001B[0m \u001B[38;5;66;03m# TASA DE REFERENCIA DEL BCRP\u001B[39;00m\n\u001B[0;32m      3\u001B[0m tasa_bcrp_url\u001B[38;5;241m=\u001B[39m\u001B[38;5;124m'\u001B[39m\u001B[38;5;124mhttps://estadisticas.bcrp.gob.pe/estadisticas/series/mensuales/resultados/PD04722MM/html/2005-01/2100-12\u001B[39m\u001B[38;5;124m'\u001B[39m\n\u001B[1;32m----> 5\u001B[0m tasa_bcrp_html\u001B[38;5;241m=\u001B[39m\u001B[43mpd\u001B[49m\u001B[38;5;241;43m.\u001B[39;49m\u001B[43mread_html\u001B[49m\u001B[43m(\u001B[49m\u001B[43mtasa_bcrp_url\u001B[49m\u001B[43m)\u001B[49m\n\u001B[0;32m      7\u001B[0m tasa_bcrp_df \u001B[38;5;241m=\u001B[39m tasa_bcrp_html[\u001B[38;5;241m1\u001B[39m]\n\u001B[0;32m      9\u001B[0m \u001B[38;5;66;03m# WORK WITH THE DATA AND EXPORT\u001B[39;00m\n",
      "File \u001B[1;32m~\\anaconda3\\lib\\site-packages\\pandas\\util\\_decorators.py:311\u001B[0m, in \u001B[0;36mdeprecate_nonkeyword_arguments.<locals>.decorate.<locals>.wrapper\u001B[1;34m(*args, **kwargs)\u001B[0m\n\u001B[0;32m    305\u001B[0m \u001B[38;5;28;01mif\u001B[39;00m \u001B[38;5;28mlen\u001B[39m(args) \u001B[38;5;241m>\u001B[39m num_allow_args:\n\u001B[0;32m    306\u001B[0m     warnings\u001B[38;5;241m.\u001B[39mwarn(\n\u001B[0;32m    307\u001B[0m         msg\u001B[38;5;241m.\u001B[39mformat(arguments\u001B[38;5;241m=\u001B[39marguments),\n\u001B[0;32m    308\u001B[0m         \u001B[38;5;167;01mFutureWarning\u001B[39;00m,\n\u001B[0;32m    309\u001B[0m         stacklevel\u001B[38;5;241m=\u001B[39mstacklevel,\n\u001B[0;32m    310\u001B[0m     )\n\u001B[1;32m--> 311\u001B[0m \u001B[38;5;28;01mreturn\u001B[39;00m func(\u001B[38;5;241m*\u001B[39margs, \u001B[38;5;241m*\u001B[39m\u001B[38;5;241m*\u001B[39mkwargs)\n",
      "File \u001B[1;32m~\\anaconda3\\lib\\site-packages\\pandas\\io\\html.py:1113\u001B[0m, in \u001B[0;36mread_html\u001B[1;34m(io, match, flavor, header, index_col, skiprows, attrs, parse_dates, thousands, encoding, decimal, converters, na_values, keep_default_na, displayed_only)\u001B[0m\n\u001B[0;32m   1109\u001B[0m validate_header_arg(header)\n\u001B[0;32m   1111\u001B[0m io \u001B[38;5;241m=\u001B[39m stringify_path(io)\n\u001B[1;32m-> 1113\u001B[0m \u001B[38;5;28;01mreturn\u001B[39;00m \u001B[43m_parse\u001B[49m\u001B[43m(\u001B[49m\n\u001B[0;32m   1114\u001B[0m \u001B[43m    \u001B[49m\u001B[43mflavor\u001B[49m\u001B[38;5;241;43m=\u001B[39;49m\u001B[43mflavor\u001B[49m\u001B[43m,\u001B[49m\n\u001B[0;32m   1115\u001B[0m \u001B[43m    \u001B[49m\u001B[43mio\u001B[49m\u001B[38;5;241;43m=\u001B[39;49m\u001B[43mio\u001B[49m\u001B[43m,\u001B[49m\n\u001B[0;32m   1116\u001B[0m \u001B[43m    \u001B[49m\u001B[43mmatch\u001B[49m\u001B[38;5;241;43m=\u001B[39;49m\u001B[43mmatch\u001B[49m\u001B[43m,\u001B[49m\n\u001B[0;32m   1117\u001B[0m \u001B[43m    \u001B[49m\u001B[43mheader\u001B[49m\u001B[38;5;241;43m=\u001B[39;49m\u001B[43mheader\u001B[49m\u001B[43m,\u001B[49m\n\u001B[0;32m   1118\u001B[0m \u001B[43m    \u001B[49m\u001B[43mindex_col\u001B[49m\u001B[38;5;241;43m=\u001B[39;49m\u001B[43mindex_col\u001B[49m\u001B[43m,\u001B[49m\n\u001B[0;32m   1119\u001B[0m \u001B[43m    \u001B[49m\u001B[43mskiprows\u001B[49m\u001B[38;5;241;43m=\u001B[39;49m\u001B[43mskiprows\u001B[49m\u001B[43m,\u001B[49m\n\u001B[0;32m   1120\u001B[0m \u001B[43m    \u001B[49m\u001B[43mparse_dates\u001B[49m\u001B[38;5;241;43m=\u001B[39;49m\u001B[43mparse_dates\u001B[49m\u001B[43m,\u001B[49m\n\u001B[0;32m   1121\u001B[0m \u001B[43m    \u001B[49m\u001B[43mthousands\u001B[49m\u001B[38;5;241;43m=\u001B[39;49m\u001B[43mthousands\u001B[49m\u001B[43m,\u001B[49m\n\u001B[0;32m   1122\u001B[0m \u001B[43m    \u001B[49m\u001B[43mattrs\u001B[49m\u001B[38;5;241;43m=\u001B[39;49m\u001B[43mattrs\u001B[49m\u001B[43m,\u001B[49m\n\u001B[0;32m   1123\u001B[0m \u001B[43m    \u001B[49m\u001B[43mencoding\u001B[49m\u001B[38;5;241;43m=\u001B[39;49m\u001B[43mencoding\u001B[49m\u001B[43m,\u001B[49m\n\u001B[0;32m   1124\u001B[0m \u001B[43m    \u001B[49m\u001B[43mdecimal\u001B[49m\u001B[38;5;241;43m=\u001B[39;49m\u001B[43mdecimal\u001B[49m\u001B[43m,\u001B[49m\n\u001B[0;32m   1125\u001B[0m \u001B[43m    \u001B[49m\u001B[43mconverters\u001B[49m\u001B[38;5;241;43m=\u001B[39;49m\u001B[43mconverters\u001B[49m\u001B[43m,\u001B[49m\n\u001B[0;32m   1126\u001B[0m \u001B[43m    \u001B[49m\u001B[43mna_values\u001B[49m\u001B[38;5;241;43m=\u001B[39;49m\u001B[43mna_values\u001B[49m\u001B[43m,\u001B[49m\n\u001B[0;32m   1127\u001B[0m \u001B[43m    \u001B[49m\u001B[43mkeep_default_na\u001B[49m\u001B[38;5;241;43m=\u001B[39;49m\u001B[43mkeep_default_na\u001B[49m\u001B[43m,\u001B[49m\n\u001B[0;32m   1128\u001B[0m \u001B[43m    \u001B[49m\u001B[43mdisplayed_only\u001B[49m\u001B[38;5;241;43m=\u001B[39;49m\u001B[43mdisplayed_only\u001B[49m\u001B[43m,\u001B[49m\n\u001B[0;32m   1129\u001B[0m \u001B[43m\u001B[49m\u001B[43m)\u001B[49m\n",
      "File \u001B[1;32m~\\anaconda3\\lib\\site-packages\\pandas\\io\\html.py:919\u001B[0m, in \u001B[0;36m_parse\u001B[1;34m(flavor, io, match, attrs, encoding, displayed_only, **kwargs)\u001B[0m\n\u001B[0;32m    916\u001B[0m p \u001B[38;5;241m=\u001B[39m parser(io, compiled_match, attrs, encoding, displayed_only)\n\u001B[0;32m    918\u001B[0m \u001B[38;5;28;01mtry\u001B[39;00m:\n\u001B[1;32m--> 919\u001B[0m     tables \u001B[38;5;241m=\u001B[39m \u001B[43mp\u001B[49m\u001B[38;5;241;43m.\u001B[39;49m\u001B[43mparse_tables\u001B[49m\u001B[43m(\u001B[49m\u001B[43m)\u001B[49m\n\u001B[0;32m    920\u001B[0m \u001B[38;5;28;01mexcept\u001B[39;00m \u001B[38;5;167;01mValueError\u001B[39;00m \u001B[38;5;28;01mas\u001B[39;00m caught:\n\u001B[0;32m    921\u001B[0m     \u001B[38;5;66;03m# if `io` is an io-like object, check if it's seekable\u001B[39;00m\n\u001B[0;32m    922\u001B[0m     \u001B[38;5;66;03m# and try to rewind it before trying the next parser\u001B[39;00m\n\u001B[0;32m    923\u001B[0m     \u001B[38;5;28;01mif\u001B[39;00m \u001B[38;5;28mhasattr\u001B[39m(io, \u001B[38;5;124m\"\u001B[39m\u001B[38;5;124mseekable\u001B[39m\u001B[38;5;124m\"\u001B[39m) \u001B[38;5;129;01mand\u001B[39;00m io\u001B[38;5;241m.\u001B[39mseekable():\n",
      "File \u001B[1;32m~\\anaconda3\\lib\\site-packages\\pandas\\io\\html.py:239\u001B[0m, in \u001B[0;36m_HtmlFrameParser.parse_tables\u001B[1;34m(self)\u001B[0m\n\u001B[0;32m    231\u001B[0m \u001B[38;5;28;01mdef\u001B[39;00m \u001B[38;5;21mparse_tables\u001B[39m(\u001B[38;5;28mself\u001B[39m):\n\u001B[0;32m    232\u001B[0m     \u001B[38;5;124;03m\"\"\"\u001B[39;00m\n\u001B[0;32m    233\u001B[0m \u001B[38;5;124;03m    Parse and return all tables from the DOM.\u001B[39;00m\n\u001B[0;32m    234\u001B[0m \n\u001B[1;32m   (...)\u001B[0m\n\u001B[0;32m    237\u001B[0m \u001B[38;5;124;03m    list of parsed (header, body, footer) tuples from tables.\u001B[39;00m\n\u001B[0;32m    238\u001B[0m \u001B[38;5;124;03m    \"\"\"\u001B[39;00m\n\u001B[1;32m--> 239\u001B[0m     tables \u001B[38;5;241m=\u001B[39m \u001B[38;5;28mself\u001B[39m\u001B[38;5;241m.\u001B[39m_parse_tables(\u001B[38;5;28;43mself\u001B[39;49m\u001B[38;5;241;43m.\u001B[39;49m\u001B[43m_build_doc\u001B[49m\u001B[43m(\u001B[49m\u001B[43m)\u001B[49m, \u001B[38;5;28mself\u001B[39m\u001B[38;5;241m.\u001B[39mmatch, \u001B[38;5;28mself\u001B[39m\u001B[38;5;241m.\u001B[39mattrs)\n\u001B[0;32m    240\u001B[0m     \u001B[38;5;28;01mreturn\u001B[39;00m (\u001B[38;5;28mself\u001B[39m\u001B[38;5;241m.\u001B[39m_parse_thead_tbody_tfoot(table) \u001B[38;5;28;01mfor\u001B[39;00m table \u001B[38;5;129;01min\u001B[39;00m tables)\n",
      "File \u001B[1;32m~\\anaconda3\\lib\\site-packages\\pandas\\io\\html.py:758\u001B[0m, in \u001B[0;36m_LxmlFrameParser._build_doc\u001B[1;34m(self)\u001B[0m\n\u001B[0;32m    756\u001B[0m             \u001B[38;5;28;01mpass\u001B[39;00m\n\u001B[0;32m    757\u001B[0m     \u001B[38;5;28;01melse\u001B[39;00m:\n\u001B[1;32m--> 758\u001B[0m         \u001B[38;5;28;01mraise\u001B[39;00m e\n\u001B[0;32m    759\u001B[0m \u001B[38;5;28;01melse\u001B[39;00m:\n\u001B[0;32m    760\u001B[0m     \u001B[38;5;28;01mif\u001B[39;00m \u001B[38;5;129;01mnot\u001B[39;00m \u001B[38;5;28mhasattr\u001B[39m(r, \u001B[38;5;124m\"\u001B[39m\u001B[38;5;124mtext_content\u001B[39m\u001B[38;5;124m\"\u001B[39m):\n",
      "File \u001B[1;32m~\\anaconda3\\lib\\site-packages\\pandas\\io\\html.py:739\u001B[0m, in \u001B[0;36m_LxmlFrameParser._build_doc\u001B[1;34m(self)\u001B[0m\n\u001B[0;32m    737\u001B[0m \u001B[38;5;28;01mtry\u001B[39;00m:\n\u001B[0;32m    738\u001B[0m     \u001B[38;5;28;01mif\u001B[39;00m is_url(\u001B[38;5;28mself\u001B[39m\u001B[38;5;241m.\u001B[39mio):\n\u001B[1;32m--> 739\u001B[0m         \u001B[38;5;28;01mwith\u001B[39;00m \u001B[43murlopen\u001B[49m\u001B[43m(\u001B[49m\u001B[38;5;28;43mself\u001B[39;49m\u001B[38;5;241;43m.\u001B[39;49m\u001B[43mio\u001B[49m\u001B[43m)\u001B[49m \u001B[38;5;28;01mas\u001B[39;00m f:\n\u001B[0;32m    740\u001B[0m             r \u001B[38;5;241m=\u001B[39m parse(f, parser\u001B[38;5;241m=\u001B[39mparser)\n\u001B[0;32m    741\u001B[0m     \u001B[38;5;28;01melse\u001B[39;00m:\n\u001B[0;32m    742\u001B[0m         \u001B[38;5;66;03m# try to parse the input in the simplest way\u001B[39;00m\n",
      "File \u001B[1;32m~\\anaconda3\\lib\\site-packages\\pandas\\io\\common.py:239\u001B[0m, in \u001B[0;36murlopen\u001B[1;34m(*args, **kwargs)\u001B[0m\n\u001B[0;32m    233\u001B[0m \u001B[38;5;124;03m\"\"\"\u001B[39;00m\n\u001B[0;32m    234\u001B[0m \u001B[38;5;124;03mLazy-import wrapper for stdlib urlopen, as that imports a big chunk of\u001B[39;00m\n\u001B[0;32m    235\u001B[0m \u001B[38;5;124;03mthe stdlib.\u001B[39;00m\n\u001B[0;32m    236\u001B[0m \u001B[38;5;124;03m\"\"\"\u001B[39;00m\n\u001B[0;32m    237\u001B[0m \u001B[38;5;28;01mimport\u001B[39;00m \u001B[38;5;21;01murllib\u001B[39;00m\u001B[38;5;21;01m.\u001B[39;00m\u001B[38;5;21;01mrequest\u001B[39;00m\n\u001B[1;32m--> 239\u001B[0m \u001B[38;5;28;01mreturn\u001B[39;00m urllib\u001B[38;5;241m.\u001B[39mrequest\u001B[38;5;241m.\u001B[39murlopen(\u001B[38;5;241m*\u001B[39margs, \u001B[38;5;241m*\u001B[39m\u001B[38;5;241m*\u001B[39mkwargs)\n",
      "File \u001B[1;32m~\\anaconda3\\lib\\urllib\\request.py:214\u001B[0m, in \u001B[0;36murlopen\u001B[1;34m(url, data, timeout, cafile, capath, cadefault, context)\u001B[0m\n\u001B[0;32m    212\u001B[0m \u001B[38;5;28;01melse\u001B[39;00m:\n\u001B[0;32m    213\u001B[0m     opener \u001B[38;5;241m=\u001B[39m _opener\n\u001B[1;32m--> 214\u001B[0m \u001B[38;5;28;01mreturn\u001B[39;00m \u001B[43mopener\u001B[49m\u001B[38;5;241;43m.\u001B[39;49m\u001B[43mopen\u001B[49m\u001B[43m(\u001B[49m\u001B[43murl\u001B[49m\u001B[43m,\u001B[49m\u001B[43m \u001B[49m\u001B[43mdata\u001B[49m\u001B[43m,\u001B[49m\u001B[43m \u001B[49m\u001B[43mtimeout\u001B[49m\u001B[43m)\u001B[49m\n",
      "File \u001B[1;32m~\\anaconda3\\lib\\urllib\\request.py:517\u001B[0m, in \u001B[0;36mOpenerDirector.open\u001B[1;34m(self, fullurl, data, timeout)\u001B[0m\n\u001B[0;32m    514\u001B[0m     req \u001B[38;5;241m=\u001B[39m meth(req)\n\u001B[0;32m    516\u001B[0m sys\u001B[38;5;241m.\u001B[39maudit(\u001B[38;5;124m'\u001B[39m\u001B[38;5;124murllib.Request\u001B[39m\u001B[38;5;124m'\u001B[39m, req\u001B[38;5;241m.\u001B[39mfull_url, req\u001B[38;5;241m.\u001B[39mdata, req\u001B[38;5;241m.\u001B[39mheaders, req\u001B[38;5;241m.\u001B[39mget_method())\n\u001B[1;32m--> 517\u001B[0m response \u001B[38;5;241m=\u001B[39m \u001B[38;5;28;43mself\u001B[39;49m\u001B[38;5;241;43m.\u001B[39;49m\u001B[43m_open\u001B[49m\u001B[43m(\u001B[49m\u001B[43mreq\u001B[49m\u001B[43m,\u001B[49m\u001B[43m \u001B[49m\u001B[43mdata\u001B[49m\u001B[43m)\u001B[49m\n\u001B[0;32m    519\u001B[0m \u001B[38;5;66;03m# post-process response\u001B[39;00m\n\u001B[0;32m    520\u001B[0m meth_name \u001B[38;5;241m=\u001B[39m protocol\u001B[38;5;241m+\u001B[39m\u001B[38;5;124m\"\u001B[39m\u001B[38;5;124m_response\u001B[39m\u001B[38;5;124m\"\u001B[39m\n",
      "File \u001B[1;32m~\\anaconda3\\lib\\urllib\\request.py:534\u001B[0m, in \u001B[0;36mOpenerDirector._open\u001B[1;34m(self, req, data)\u001B[0m\n\u001B[0;32m    531\u001B[0m     \u001B[38;5;28;01mreturn\u001B[39;00m result\n\u001B[0;32m    533\u001B[0m protocol \u001B[38;5;241m=\u001B[39m req\u001B[38;5;241m.\u001B[39mtype\n\u001B[1;32m--> 534\u001B[0m result \u001B[38;5;241m=\u001B[39m \u001B[38;5;28;43mself\u001B[39;49m\u001B[38;5;241;43m.\u001B[39;49m\u001B[43m_call_chain\u001B[49m\u001B[43m(\u001B[49m\u001B[38;5;28;43mself\u001B[39;49m\u001B[38;5;241;43m.\u001B[39;49m\u001B[43mhandle_open\u001B[49m\u001B[43m,\u001B[49m\u001B[43m \u001B[49m\u001B[43mprotocol\u001B[49m\u001B[43m,\u001B[49m\u001B[43m \u001B[49m\u001B[43mprotocol\u001B[49m\u001B[43m \u001B[49m\u001B[38;5;241;43m+\u001B[39;49m\n\u001B[0;32m    535\u001B[0m \u001B[43m                          \u001B[49m\u001B[38;5;124;43m'\u001B[39;49m\u001B[38;5;124;43m_open\u001B[39;49m\u001B[38;5;124;43m'\u001B[39;49m\u001B[43m,\u001B[49m\u001B[43m \u001B[49m\u001B[43mreq\u001B[49m\u001B[43m)\u001B[49m\n\u001B[0;32m    536\u001B[0m \u001B[38;5;28;01mif\u001B[39;00m result:\n\u001B[0;32m    537\u001B[0m     \u001B[38;5;28;01mreturn\u001B[39;00m result\n",
      "File \u001B[1;32m~\\anaconda3\\lib\\urllib\\request.py:494\u001B[0m, in \u001B[0;36mOpenerDirector._call_chain\u001B[1;34m(self, chain, kind, meth_name, *args)\u001B[0m\n\u001B[0;32m    492\u001B[0m \u001B[38;5;28;01mfor\u001B[39;00m handler \u001B[38;5;129;01min\u001B[39;00m handlers:\n\u001B[0;32m    493\u001B[0m     func \u001B[38;5;241m=\u001B[39m \u001B[38;5;28mgetattr\u001B[39m(handler, meth_name)\n\u001B[1;32m--> 494\u001B[0m     result \u001B[38;5;241m=\u001B[39m \u001B[43mfunc\u001B[49m\u001B[43m(\u001B[49m\u001B[38;5;241;43m*\u001B[39;49m\u001B[43margs\u001B[49m\u001B[43m)\u001B[49m\n\u001B[0;32m    495\u001B[0m     \u001B[38;5;28;01mif\u001B[39;00m result \u001B[38;5;129;01mis\u001B[39;00m \u001B[38;5;129;01mnot\u001B[39;00m \u001B[38;5;28;01mNone\u001B[39;00m:\n\u001B[0;32m    496\u001B[0m         \u001B[38;5;28;01mreturn\u001B[39;00m result\n",
      "File \u001B[1;32m~\\anaconda3\\lib\\urllib\\request.py:1389\u001B[0m, in \u001B[0;36mHTTPSHandler.https_open\u001B[1;34m(self, req)\u001B[0m\n\u001B[0;32m   1388\u001B[0m \u001B[38;5;28;01mdef\u001B[39;00m \u001B[38;5;21mhttps_open\u001B[39m(\u001B[38;5;28mself\u001B[39m, req):\n\u001B[1;32m-> 1389\u001B[0m     \u001B[38;5;28;01mreturn\u001B[39;00m \u001B[38;5;28;43mself\u001B[39;49m\u001B[38;5;241;43m.\u001B[39;49m\u001B[43mdo_open\u001B[49m\u001B[43m(\u001B[49m\u001B[43mhttp\u001B[49m\u001B[38;5;241;43m.\u001B[39;49m\u001B[43mclient\u001B[49m\u001B[38;5;241;43m.\u001B[39;49m\u001B[43mHTTPSConnection\u001B[49m\u001B[43m,\u001B[49m\u001B[43m \u001B[49m\u001B[43mreq\u001B[49m\u001B[43m,\u001B[49m\n\u001B[0;32m   1390\u001B[0m \u001B[43m        \u001B[49m\u001B[43mcontext\u001B[49m\u001B[38;5;241;43m=\u001B[39;49m\u001B[38;5;28;43mself\u001B[39;49m\u001B[38;5;241;43m.\u001B[39;49m\u001B[43m_context\u001B[49m\u001B[43m,\u001B[49m\u001B[43m \u001B[49m\u001B[43mcheck_hostname\u001B[49m\u001B[38;5;241;43m=\u001B[39;49m\u001B[38;5;28;43mself\u001B[39;49m\u001B[38;5;241;43m.\u001B[39;49m\u001B[43m_check_hostname\u001B[49m\u001B[43m)\u001B[49m\n",
      "File \u001B[1;32m~\\anaconda3\\lib\\urllib\\request.py:1349\u001B[0m, in \u001B[0;36mAbstractHTTPHandler.do_open\u001B[1;34m(self, http_class, req, **http_conn_args)\u001B[0m\n\u001B[0;32m   1346\u001B[0m         h\u001B[38;5;241m.\u001B[39mrequest(req\u001B[38;5;241m.\u001B[39mget_method(), req\u001B[38;5;241m.\u001B[39mselector, req\u001B[38;5;241m.\u001B[39mdata, headers,\n\u001B[0;32m   1347\u001B[0m                   encode_chunked\u001B[38;5;241m=\u001B[39mreq\u001B[38;5;241m.\u001B[39mhas_header(\u001B[38;5;124m'\u001B[39m\u001B[38;5;124mTransfer-encoding\u001B[39m\u001B[38;5;124m'\u001B[39m))\n\u001B[0;32m   1348\u001B[0m     \u001B[38;5;28;01mexcept\u001B[39;00m \u001B[38;5;167;01mOSError\u001B[39;00m \u001B[38;5;28;01mas\u001B[39;00m err: \u001B[38;5;66;03m# timeout error\u001B[39;00m\n\u001B[1;32m-> 1349\u001B[0m         \u001B[38;5;28;01mraise\u001B[39;00m URLError(err)\n\u001B[0;32m   1350\u001B[0m     r \u001B[38;5;241m=\u001B[39m h\u001B[38;5;241m.\u001B[39mgetresponse()\n\u001B[0;32m   1351\u001B[0m \u001B[38;5;28;01mexcept\u001B[39;00m:\n",
      "\u001B[1;31mURLError\u001B[0m: <urlopen error [WinError 10061] No connection could be made because the target machine actively refused it>"
     ]
    }
   ],
   "source": [
    "# TASA DE REFERENCIA DEL BCRP\n",
    "\n",
    "tasa_bcrp_url='https://estadisticas.bcrp.gob.pe/estadisticas/series/mensuales/resultados/PD04722MM/html/2005-01/2100-12'\n",
    "\n",
    "tasa_bcrp_html=pd.read_html(tasa_bcrp_url)\n",
    "\n",
    "tasa_bcrp_df = tasa_bcrp_html[1]\n",
    "\n",
    "# WORK WITH THE DATA AND EXPORT\n",
    "\n",
    "tasa_bcrp_df['Tasa %'] = pd.to_numeric(tasa_bcrp_df['Tasas de interés del Banco Central de Reserva - Tasa de Referencia de la Política Monetaria'], errors='coerce')\n",
    "\n",
    "tasa_bcrp_df = tasa_bcrp_df.drop('Tasas de interés del Banco Central de Reserva - Tasa de Referencia de la Política Monetaria', axis=1)\n",
    "\n",
    "# WORK WITH THE DATE COLUMN\n",
    "\n",
    "tasa_bcrp_df['año'] = '20' + tasa_bcrp_df['Fecha'].str[-2:]\n",
    "\n",
    "tasa_bcrp_df['mes'] = tasa_bcrp_df['Fecha'].str[:3]\n",
    "\n",
    "tasa_bcrp_df['mes'] = tasa_bcrp_df['mes'].replace({'Ene': '01/01', 'Feb': '01/02', 'Mar': '01/03', 'Abr': '01/04', 'May': '01/05', 'Jun': '01/06', 'Jul': '01/07', 'Ago': '01/08', 'Sep': '01/09', 'Oct': '01/10', 'Nov': '01/11', 'Dic': '01/12'})\n",
    "\n",
    "tasa_bcrp_df['date'] = tasa_bcrp_df['mes'] + '/' + tasa_bcrp_df['año']\n",
    "\n",
    "tasa_bcrp_df['date'] = pd.to_datetime(tasa_bcrp_df['date'], format='%d/%m/%Y')\n",
    "\n",
    "tasa_bcrp_df = tasa_bcrp_df.drop(['Fecha', 'año', 'mes'], axis=1)\n",
    "\n",
    "# EXPORT THE DATA\n",
    "\n",
    "tasa_bcrp_df.to_feather('tasa_bcrp')\n",
    "\n",
    "tasa_bcrp_df.to_excel('tasa_bcrp.xlsx')"
   ],
   "metadata": {
    "collapsed": false,
    "pycharm": {
     "name": "#%%\n"
    }
   }
  },
  {
   "cell_type": "code",
   "execution_count": null,
   "outputs": [],
   "source": [
    "# TASA DE REFERENCIA REAL (CON EXPECTATIVAS)\n",
    "\n",
    "tasa_bcrp_real_exp = {'date': tasa_bcrp_df['date'], 'Tasa de referencia real': tasa_bcrp_df['Tasa %'] - inflacion_peru_exp_df['Expectativas']}\n",
    "\n",
    "tasa_bcrp_real_exp_df = pd.DataFrame(tasa_bcrp_real_exp)\n",
    "\n",
    "# EXPORT DATA\n",
    "\n",
    "tasa_bcrp_real_exp_df.to_feather('tasa_bcrp_real_exp')\n",
    "\n",
    "tasa_bcrp_real_exp_df.to_excel('tasa_bcrp_real_exp.xlsx')"
   ],
   "metadata": {
    "collapsed": false,
    "pycharm": {
     "name": "#%%\n"
    }
   }
  },
  {
   "cell_type": "code",
   "execution_count": null,
   "outputs": [],
   "source": [
    "# EXPECTATIVAS DE LA ECONOMÍA A 3 MESES\n",
    "\n",
    "exp_eco_3m_url='https://estadisticas.bcrp.gob.pe/estadisticas/series/mensuales/resultados/PD38045AM/html/2005-01/2100-12'\n",
    "\n",
    "exp_eco_3m_html=pd.read_html(exp_eco_3m_url)\n",
    "\n",
    "exp_eco_3m_df = exp_eco_3m_html[1]\n",
    "\n",
    "# WORK WITH THE DATA AND EXPORT\n",
    "\n",
    "exp_eco_3m_df['Expectativas a 3 meses'] = pd.to_numeric(exp_eco_3m_df['Expectativas Empresariales - Índice de expectativas de la economía a 3 meses'], errors='coerce')\n",
    "\n",
    "exp_eco_3m_df = exp_eco_3m_df.drop('Expectativas Empresariales - Índice de expectativas de la economía a 3 meses', axis=1)\n",
    "\n",
    "# WORK WITH THE DATE COLUMN\n",
    "\n",
    "exp_eco_3m_df['año'] = '20' + exp_eco_3m_df['Fecha'].str[-2:]\n",
    "\n",
    "exp_eco_3m_df['mes'] = exp_eco_3m_df['Fecha'].str[:3]\n",
    "\n",
    "exp_eco_3m_df['mes'] = exp_eco_3m_df['mes'].replace({'Ene': '01/01', 'Feb': '01/02', 'Mar': '01/03', 'Abr': '01/04', 'May': '01/05', 'Jun': '01/06', 'Jul': '01/07', 'Ago': '01/08', 'Sep': '01/09', 'Oct': '01/10', 'Nov': '01/11', 'Dic': '01/12'})\n",
    "\n",
    "exp_eco_3m_df['date'] = exp_eco_3m_df['mes'] + '/' + exp_eco_3m_df['año']\n",
    "\n",
    "exp_eco_3m_df['date'] = pd.to_datetime(exp_eco_3m_df['date'], format='%d/%m/%Y')\n",
    "\n",
    "exp_eco_3m_df = exp_eco_3m_df.drop(['Fecha', 'año', 'mes'], axis=1)\n",
    "\n",
    "# EXPORT THE DATA\n",
    "\n",
    "exp_eco_3m_df.to_feather('expectativas_eco_3m')\n",
    "\n",
    "exp_eco_3m_df.to_excel('expectativas_eco_3m.xlsx')"
   ],
   "metadata": {
    "collapsed": false,
    "pycharm": {
     "name": "#%%\n"
    }
   }
  },
  {
   "cell_type": "code",
   "execution_count": null,
   "outputs": [],
   "source": [
    "# EXPECTATIVAS DE LA ECONOMÍA A 12 MESES\n",
    "\n",
    "exp_eco_12m_url='https://estadisticas.bcrp.gob.pe/estadisticas/series/mensuales/resultados/PD37981AM/html/2005-01/2100-12'\n",
    "\n",
    "exp_eco_12m_html=pd.read_html(exp_eco_12m_url)\n",
    "\n",
    "exp_eco_12m_df = exp_eco_12m_html[1]\n",
    "\n",
    "# WORK WITH THE DATA AND EXPORT\n",
    "\n",
    "exp_eco_12m_df['Expectativas a 12 meses'] = pd.to_numeric(exp_eco_12m_df['Expectativas Empresariales - Índice de expectativas de la economía a 12 meses'], errors='coerce')\n",
    "\n",
    "exp_eco_12m_df = exp_eco_12m_df.drop('Expectativas Empresariales - Índice de expectativas de la economía a 12 meses', axis=1)\n",
    "\n",
    "# WORK WITH THE DATE COLUMN\n",
    "\n",
    "exp_eco_12m_df['año'] = '20' + exp_eco_12m_df['Fecha'].str[-2:]\n",
    "\n",
    "exp_eco_12m_df['mes'] = exp_eco_12m_df['Fecha'].str[:3]\n",
    "\n",
    "exp_eco_12m_df['mes'] = exp_eco_12m_df['mes'].replace({'Ene': '01/01', 'Feb': '01/02', 'Mar': '01/03', 'Abr': '01/04', 'May': '01/05', 'Jun': '01/06', 'Jul': '01/07', 'Ago': '01/08', 'Sep': '01/09', 'Oct': '01/10', 'Nov': '01/11', 'Dic': '01/12'})\n",
    "\n",
    "exp_eco_12m_df['date'] = exp_eco_12m_df['mes'] + '/' + exp_eco_12m_df['año']\n",
    "\n",
    "exp_eco_12m_df['date'] = pd.to_datetime(exp_eco_12m_df['date'], format='%d/%m/%Y')\n",
    "\n",
    "exp_eco_12m_df = exp_eco_12m_df.drop(['Fecha', 'año', 'mes'], axis=1)\n",
    "\n",
    "# EXPORT THE DATA\n",
    "\n",
    "exp_eco_12m_df.to_feather('expectativas_eco_12m')\n",
    "\n",
    "exp_eco_12m_df.to_excel('expectativas_eco_12m.xlsx')"
   ],
   "metadata": {
    "collapsed": false,
    "pycharm": {
     "name": "#%%\n"
    }
   }
  },
  {
   "cell_type": "code",
   "execution_count": null,
   "outputs": [],
   "source": [
    "# GET INFO ON 10 YEAR PERUVIAN PEN BOND\n",
    "\n",
    "pen_10y_url='https://estadisticas.bcrp.gob.pe/estadisticas/series/diarias/resultados/PD31893DD/html'\n",
    "\n",
    "pen_10y_html=pd.read_html(pen_10y_url)\n",
    "\n",
    "pen_10y_df = pen_10y_html[1]\n",
    "\n",
    "# WORK WITH THE DATA AND EXPORT\n",
    "\n",
    "pen_10y_df = pen_10y_df.apply(lambda x: x.str.replace('n.d.', ''))\n",
    "\n",
    "pen_10y_df['Rendimiento'] = pd.to_numeric(pen_10y_df['Tasas de interés - Rendimiento del Bono del gobierno peruano a 10 años (en S/)'], errors='coerce')\n",
    "\n",
    "pen_10y_df = pen_10y_df.drop('Tasas de interés - Rendimiento del Bono del gobierno peruano a 10 años (en S/)', axis=1)\n",
    "\n",
    "# WORK WITH THE DATE COLUMN\n",
    "\n",
    "pen_10y_df['dia'] = pen_10y_df['Fecha'].str[:2]\n",
    "pen_10y_df['año'] = '20' + pen_10y_df['Fecha'].str[-2:]\n",
    "pen_10y_df['mes'] = pen_10y_df['Fecha'].str[2:5]\n",
    "\n",
    "pen_10y_df['mes'] = pen_10y_df['mes'].replace({'Ene': '01', 'Feb': '02', 'Mar': '03', 'Abr': '04', 'May': '05', 'Jun': '06', 'Jul': '07', 'Ago': '08', 'Set': '09', 'Oct': '10', 'Nov': '11', 'Dic': '12'})\n",
    "\n",
    "pen_10y_df['date'] = pen_10y_df['dia'] + '/' + pen_10y_df['mes'] + '/' + pen_10y_df['año']\n",
    "\n",
    "pen_10y_df['date'] = pd.to_datetime(pen_10y_df['date'], format='%d/%m/%Y')\n",
    "\n",
    "pen_10y_df = pen_10y_df.drop(['Fecha', 'dia', 'año', 'mes'], axis=1)\n",
    "\n",
    "pen_10y_df.dropna(subset=['Rendimiento'], inplace=True)\n",
    "\n",
    "pen_10y_df.reset_index(level=0, inplace=True)\n",
    "\n",
    "# EXPORT THE DATA\n",
    "\n",
    "pen_10y_df.to_feather('pen_10y_bond')\n",
    "\n",
    "pen_10y_df.to_excel('pen_10y_bond.xlsx')"
   ],
   "metadata": {
    "collapsed": false,
    "pycharm": {
     "name": "#%%\n"
    }
   }
  },
  {
   "cell_type": "code",
   "execution_count": null,
   "outputs": [],
   "source": [
    "# GET INFO ON 10 YEAR PERUVIAN USD BOND\n",
    "\n",
    "pen_10y_usd_url='https://estadisticas.bcrp.gob.pe/estadisticas/series/diarias/resultados/PD31894DD/html'\n",
    "\n",
    "pen_10y_usd_html=pd.read_html(pen_10y_usd_url)\n",
    "\n",
    "pen_10y_usd_df = pen_10y_usd_html[1]\n",
    "\n",
    "# WORK WITH THE DATA AND EXPORT\n",
    "\n",
    "pen_10y_usd_df = pen_10y_usd_df.apply(lambda x: x.str.replace('n.d.', ''))\n",
    "\n",
    "pen_10y_usd_df['Rendimiento'] = pd.to_numeric(pen_10y_usd_df['Tasas de interés - Rendimiento del Bono del gobierno peruano a 10 años (en US$)'], errors='coerce')\n",
    "\n",
    "pen_10y_usd_df = pen_10y_usd_df.drop('Tasas de interés - Rendimiento del Bono del gobierno peruano a 10 años (en US$)', axis=1)\n",
    "\n",
    "# WORK WITH THE DATE COLUMN\n",
    "\n",
    "pen_10y_usd_df['dia'] = pen_10y_usd_df['Fecha'].str[:2]\n",
    "pen_10y_usd_df['año'] = '20' + pen_10y_usd_df['Fecha'].str[-2:]\n",
    "pen_10y_usd_df['mes'] = pen_10y_usd_df['Fecha'].str[2:5]\n",
    "\n",
    "pen_10y_usd_df['mes'] = pen_10y_usd_df['mes'].replace({'Ene': '01', 'Feb': '02', 'Mar': '03', 'Abr': '04', 'May': '05', 'Jun': '06', 'Jul': '07', 'Ago': '08', 'Set': '09', 'Oct': '10', 'Nov': '11', 'Dic': '12'})\n",
    "\n",
    "pen_10y_usd_df['date'] = pen_10y_usd_df['dia'] + '/' + pen_10y_usd_df['mes'] + '/' + pen_10y_usd_df['año']\n",
    "\n",
    "pen_10y_usd_df['date'] = pd.to_datetime(pen_10y_usd_df['date'], format='%d/%m/%Y')\n",
    "\n",
    "pen_10y_usd_df = pen_10y_usd_df.drop(['Fecha', 'dia', 'año', 'mes'], axis=1)\n",
    "\n",
    "pen_10y_usd_df.dropna(subset=['Rendimiento'], inplace=True)\n",
    "\n",
    "pen_10y_usd_df.reset_index(level=0, inplace=True)\n",
    "\n",
    "# EXPORT THE DATA\n",
    "\n",
    "pen_10y_usd_df.to_feather('pen_10y_usd_bond')\n",
    "\n",
    "pen_10y_usd_df.to_excel('pen_10y_usd_bond.xlsx')"
   ],
   "metadata": {
    "collapsed": false,
    "pycharm": {
     "name": "#%%\n"
    }
   }
  },
  {
   "cell_type": "code",
   "execution_count": null,
   "outputs": [],
   "source": [
    "# GLOBAL SUPPLY CHAIN PRESSURE INDEX (NEW YORK FED)\n",
    "\n",
    "gscpi_url='https://www.newyorkfed.org/medialibrary/research/interactives/gscpi/downloads/gscpi_data.xlsx'\n",
    "\n",
    "gscpi_req = requests.get(gscpi_url)\n",
    "\n",
    "gscpi_content = gscpi_req.content\n",
    "\n",
    "excel_gscpi = open('gscpi_data.xlsx', 'wb')\n",
    "\n",
    "excel_gscpi.write(gscpi_content)\n",
    "\n",
    "excel_gscpi.close()\n",
    "\n",
    "gscpi_df = pd.read_excel('gscpi_data.xlsx', 'GSCPI Monthly Data', skiprows=4)\n",
    "\n",
    "gscpi_df = gscpi_df.drop(gscpi_df.columns[[2, 3]], axis=1)\n",
    "\n",
    "gscpi_df.columns = ['Date', 'GSCPI']\n",
    "\n",
    "gscpi_df['Date'] = pd.to_datetime(gscpi_df['Date'])\n",
    "\n",
    "gscpi_df = gscpi_df.rename(columns={'GSCPI': 'Close'})\n",
    "\n",
    "# EXPORT TO EXCEL AND FEATHER\n",
    "\n",
    "gscpi_df.to_excel('gscpi_data.xlsx')\n",
    "\n",
    "gscpi_df.to_feather('gscpi_data')"
   ],
   "metadata": {
    "collapsed": false,
    "pycharm": {
     "name": "#%%\n"
    }
   }
  }
 ],
 "metadata": {
  "kernelspec": {
   "display_name": "Python 3",
   "language": "python",
   "name": "python3"
  },
  "language_info": {
   "codemirror_mode": {
    "name": "ipython",
    "version": 2
   },
   "file_extension": ".py",
   "mimetype": "text/x-python",
   "name": "python",
   "nbconvert_exporter": "python",
   "pygments_lexer": "ipython2",
   "version": "2.7.6"
  }
 },
 "nbformat": 4,
 "nbformat_minor": 0
}