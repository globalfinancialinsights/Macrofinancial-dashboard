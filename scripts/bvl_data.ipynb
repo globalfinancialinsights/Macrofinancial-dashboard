{
 "cells": [
  {
   "cell_type": "code",
   "execution_count": 14,
   "metadata": {
    "collapsed": true
   },
   "outputs": [],
   "source": [
    "# IMPORT LIBRARIES\n",
    "\n",
    "import os\n",
    "import pandas as pd\n",
    "import requests\n",
    "import platform"
   ]
  },
  {
   "cell_type": "code",
   "execution_count": 15,
   "outputs": [],
   "source": [
    "# SOME CONFIGS\n",
    "\n",
    "if platform.system() == 'Windows':\n",
    "\n",
    "    os.chdir('C:/Users/pport/OneDrive/Projects/Macrofinancial-dashboard/mercados/')\n",
    "\n",
    "if platform.system() == 'Darwin':\n",
    "\n",
    "    os.chdir('/Users/pportocarrero/OneDrive/Projects/Macrofinancial-dashboard/mercados/')"
   ],
   "metadata": {
    "collapsed": false
   }
  },
  {
   "cell_type": "code",
   "execution_count": 16,
   "outputs": [],
   "source": [
    "# VARIABLES TO WORK WITH\n",
    "\n",
    "dict_scraping = dict(\n",
    "    str_url=\"https://www.spglobal.com/spdji/en/util/redesign/index-data/get-performance-data-for-datawidget-redesign.dot\",\n",
    "    headers={\n",
    "        \"user-agent\": \"Mozilla/5.0 (Windows NT 10.0; Win64; x64) AppleWebKit/537.36 (KHTML, like Gecko) Chrome/96.0.4664.110 Safari/537.36\"\n",
    "    },\n",
    "    params={\n",
    "        \"indexId\": \"92026288\",\n",
    "        \"getchildindex\": \"true\",\n",
    "        \"returntype\": \"T-\",\n",
    "        \"currencycode\": \"PEN\",\n",
    "        \"language_id\": \"1\",\n",
    "        \"_\": \"1655698943457\",\n",
    "    },\n",
    ")"
   ],
   "metadata": {
    "collapsed": false
   }
  },
  {
   "cell_type": "code",
   "execution_count": 17,
   "outputs": [],
   "source": [
    "# REQ THE DATA\n",
    "\n",
    "req_sp = requests.get(\n",
    "    url=dict_scraping[\"str_url\"],\n",
    "    params=dict_scraping[\"params\"],\n",
    "    headers=dict_scraping[\"headers\"],\n",
    ")"
   ],
   "metadata": {
    "collapsed": false
   }
  },
  {
   "cell_type": "code",
   "execution_count": 18,
   "outputs": [],
   "source": [
    "json_sp = req_sp.json()"
   ],
   "metadata": {
    "collapsed": false
   }
  },
  {
   "cell_type": "code",
   "execution_count": 19,
   "outputs": [
    {
     "data": {
      "text/plain": "dict_keys(['status', 'serviceMessages', 'serviceConfig', 'indexDetailHolder', 'constituentHolder', 'indexCharacteristics', 'indexSectorBreakdownHolder', 'indexLevelsHolder', 'indexPerformanceHolder', 'idsIndexAdvancedRiskMetricsHolder', 'idsIndexQuickFactsHolder', 'idsIndexCountryBreakdownHolder', 'idsIndexCurrencyHolder', 'idsIndexReturnTypeHolder', 'serviceMessage'])"
     },
     "execution_count": 19,
     "metadata": {},
     "output_type": "execute_result"
    }
   ],
   "source": [
    "json_sp.keys()"
   ],
   "metadata": {
    "collapsed": false
   }
  },
  {
   "cell_type": "code",
   "execution_count": 20,
   "outputs": [
    {
     "data": {
      "text/plain": "dict_keys(['status', 'serviceMessages', 'fetchedDate', 'indexLevels', 'formattedFetchedDate', 'formattedDateForWidget', 'serviceMessage'])"
     },
     "execution_count": 20,
     "metadata": {},
     "output_type": "execute_result"
    }
   ],
   "source": [
    "json_sp[\"indexLevelsHolder\"].keys()"
   ],
   "metadata": {
    "collapsed": false
   }
  },
  {
   "cell_type": "code",
   "execution_count": 21,
   "outputs": [],
   "source": [
    "df_bvl_sp = pd.DataFrame(json_sp[\"indexLevelsHolder\"][\"indexLevels\"])"
   ],
   "metadata": {
    "collapsed": false
   }
  },
  {
   "cell_type": "code",
   "execution_count": 22,
   "outputs": [
    {
     "data": {
      "text/plain": "Index(['effectiveDate', 'indexId', 'effectiveDateInEst', 'indexValue',\n       'monthToDateFlag', 'quarterToDateFlag', 'yearToDateFlag', 'oneYearFlag',\n       'threeYearFlag', 'fiveYearFlag', 'tenYearFlag', 'allYearFlag',\n       'fetchedDate', 'formattedEffectiveDate'],\n      dtype='object')"
     },
     "execution_count": 22,
     "metadata": {},
     "output_type": "execute_result"
    }
   ],
   "source": [
    "df_bvl_sp.columns"
   ],
   "metadata": {
    "collapsed": false
   }
  },
  {
   "cell_type": "code",
   "execution_count": 23,
   "outputs": [
    {
     "data": {
      "text/plain": "effectiveDate               int64\nindexId                     int64\neffectiveDateInEst          int64\nindexValue                float64\nmonthToDateFlag            object\nquarterToDateFlag          object\nyearToDateFlag             object\noneYearFlag                object\nthreeYearFlag              object\nfiveYearFlag               object\ntenYearFlag                object\nallYearFlag                object\nfetchedDate                 int64\nformattedEffectiveDate     object\ndtype: object"
     },
     "execution_count": 23,
     "metadata": {},
     "output_type": "execute_result"
    }
   ],
   "source": [
    "df_bvl_sp.dtypes"
   ],
   "metadata": {
    "collapsed": false
   }
  },
  {
   "cell_type": "code",
   "execution_count": 24,
   "outputs": [],
   "source": [
    "df_bvl_sp = pd.DataFrame(\n",
    "    {\n",
    "        \"Date\": df_bvl_sp.formattedEffectiveDate.apply(\n",
    "            pd.to_datetime, format=\"%d-%b-%Y\"\n",
    "        ),\n",
    "        \"Close\": df_bvl_sp.indexValue,\n",
    "    }\n",
    ")"
   ],
   "metadata": {
    "collapsed": false
   }
  },
  {
   "cell_type": "code",
   "execution_count": 25,
   "outputs": [
    {
     "data": {
      "text/plain": "           Date         Close\n2512 2022-10-03  19866.283494\n2513 2022-10-04  20267.495252\n2514 2022-10-05  20268.010575\n2515 2022-10-06  20378.810851\n2516 2022-10-07  20110.632870",
      "text/html": "<div>\n<style scoped>\n    .dataframe tbody tr th:only-of-type {\n        vertical-align: middle;\n    }\n\n    .dataframe tbody tr th {\n        vertical-align: top;\n    }\n\n    .dataframe thead th {\n        text-align: right;\n    }\n</style>\n<table border=\"1\" class=\"dataframe\">\n  <thead>\n    <tr style=\"text-align: right;\">\n      <th></th>\n      <th>Date</th>\n      <th>Close</th>\n    </tr>\n  </thead>\n  <tbody>\n    <tr>\n      <th>2512</th>\n      <td>2022-10-03</td>\n      <td>19866.283494</td>\n    </tr>\n    <tr>\n      <th>2513</th>\n      <td>2022-10-04</td>\n      <td>20267.495252</td>\n    </tr>\n    <tr>\n      <th>2514</th>\n      <td>2022-10-05</td>\n      <td>20268.010575</td>\n    </tr>\n    <tr>\n      <th>2515</th>\n      <td>2022-10-06</td>\n      <td>20378.810851</td>\n    </tr>\n    <tr>\n      <th>2516</th>\n      <td>2022-10-07</td>\n      <td>20110.632870</td>\n    </tr>\n  </tbody>\n</table>\n</div>"
     },
     "execution_count": 25,
     "metadata": {},
     "output_type": "execute_result"
    }
   ],
   "source": [
    "df_bvl_sp.tail()"
   ],
   "metadata": {
    "collapsed": false
   }
  },
  {
   "cell_type": "code",
   "execution_count": 26,
   "outputs": [],
   "source": [
    "# EXPORTING THE DATA\n",
    "\n",
    "df_bvl_sp.to_feather('bvl_gen')\n",
    "\n",
    "df_bvl_sp.to_excel('bvl_gen.xlsx')"
   ],
   "metadata": {
    "collapsed": false
   }
  }
 ],
 "metadata": {
  "kernelspec": {
   "display_name": "Python 3",
   "language": "python",
   "name": "python3"
  },
  "language_info": {
   "codemirror_mode": {
    "name": "ipython",
    "version": 2
   },
   "file_extension": ".py",
   "mimetype": "text/x-python",
   "name": "python",
   "nbconvert_exporter": "python",
   "pygments_lexer": "ipython2",
   "version": "2.7.6"
  }
 },
 "nbformat": 4,
 "nbformat_minor": 0
}
