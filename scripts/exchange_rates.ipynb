{
 "cells": [
  {
   "cell_type": "code",
   "execution_count": 6,
   "metadata": {
    "collapsed": true,
    "pycharm": {
     "name": "#%%\n"
    }
   },
   "outputs": [],
   "source": [
    "# SOME CONFIGS\n",
    "\n",
    "import pandas as pd\n",
    "import requests\n",
    "import platform\n",
    "import os"
   ]
  },
  {
   "cell_type": "code",
   "execution_count": 7,
   "outputs": [],
   "source": [
    "# WORKING DIRECTORY\n",
    "\n",
    "if platform.system() == 'Windows':\n",
    "\n",
    "    os.chdir('C:/Users/pport/OneDrive/Projects/Macrofinancial-dashboard/mercados/')\n",
    "\n",
    "elif platform.system() == 'Darwin':\n",
    "\n",
    "    os.chdir('/Users/pportocarrero/OneDrive/Projects/Macrofinancial-dashboard/mercados/')"
   ],
   "metadata": {
    "collapsed": false,
    "pycharm": {
     "name": "#%%\n"
    }
   }
  },
  {
   "cell_type": "code",
   "execution_count": 8,
   "outputs": [],
   "source": [
    "\n",
    "av_key = '083SYMN97DMK35RS'\n",
    "\n",
    "url = 'https://www.alphavantage.co/query?function=FX_DAILY&from_symbol=USD&to_symbol=PEN&outputsize=full&apikey=' + av_key + '&datatype=json'\n",
    "\n",
    "r = requests.get(url)\n",
    "\n",
    "data = r.json()"
   ],
   "metadata": {
    "collapsed": false,
    "pycharm": {
     "name": "#%%\n"
    }
   }
  },
  {
   "cell_type": "code",
   "execution_count": 9,
   "outputs": [],
   "source": [
    "data_df = pd.DataFrame(data['Time Series FX (Daily)']).T\n",
    "\n",
    "data_df.index.name = 'Date'\n",
    "\n",
    "data_df = data_df.rename(columns={'4. close': 'Close'})\n",
    "\n",
    "data_df.reset_index()\n",
    "\n",
    "data_df.sort_values(by='Date', inplace=True)"
   ],
   "metadata": {
    "collapsed": false,
    "pycharm": {
     "name": "#%%\n"
    }
   }
  },
  {
   "cell_type": "code",
   "execution_count": 10,
   "outputs": [],
   "source": [
    "# EXPORT TO EXCEL AND FEATHER\n",
    "\n",
    "data_df.to_excel('usd_pen.xlsx')"
   ],
   "metadata": {
    "collapsed": false,
    "pycharm": {
     "name": "#%%\n"
    }
   }
  },
  {
   "cell_type": "code",
   "execution_count": null,
   "outputs": [],
   "source": [
    "# GBP/USD\n",
    "\n",
    "gbp_usd_url = 'https://www.alphavantage.co/query?function=FX_DAILY&from_symbol=GBP&to_symbol=USD&outputsize=full&apikey=' + av_key + '&datatype=json'\n",
    "\n",
    "gbp_usd_r = requests.get(gbp_usd_url)\n",
    "\n",
    "gbp_usd_data = gbp_usd_r.json()\n",
    "\n",
    "# WORK THE DATA\n",
    "\n",
    "gbp_usd_df = pd.DataFrame(gbp_usd_data['Time Series FX (Daily)']).T\n",
    "\n",
    "gbp_usd_df.index.name = 'Date'\n",
    "\n",
    "gbp_usd_df = gbp_usd_df.rename(columns={'4. close': 'Close'})\n",
    "\n",
    "gbp_usd_df.reset_index()\n",
    "\n",
    "gbp_usd_df.sort_values(by='Date', inplace=True)\n",
    "\n",
    "# EXPORT TO EXCEL\n",
    "\n",
    "gbp_usd_df.to_excel('gbp_usd.xlsx')"
   ],
   "metadata": {
    "collapsed": false,
    "pycharm": {
     "name": "#%%\n"
    }
   }
  },
  {
   "cell_type": "code",
   "execution_count": null,
   "outputs": [],
   "source": [
    "# EUR/USD\n",
    "\n",
    "eur_usd_url = 'https://www.alphavantage.co/query?function=FX_DAILY&from_symbol=EUR&to_symbol=USD&outputsize=full&apikey=' + av_key + '&datatype=json'\n",
    "\n",
    "eur_usd_r = requests.get(eur_usd_url)\n",
    "\n",
    "eur_usd_data = eur_usd_r.json()\n",
    "\n",
    "# WORK THE DATA\n",
    "\n",
    "eur_usd_df = pd.DataFrame(eur_usd_data['Time Series FX (Daily)']).T\n",
    "\n",
    "eur_usd_df.index.name = 'Date'\n",
    "\n",
    "eur_usd_df = eur_usd_df.rename(columns={'4. close': 'Close'})\n",
    "\n",
    "eur_usd_df.reset_index()\n",
    "\n",
    "eur_usd_df.sort_values(by='Date', inplace=True)\n",
    "\n",
    "# EXPORT TO EXCEL\n",
    "\n",
    "eur_usd_df.to_excel('eur_usd.xlsx')"
   ],
   "metadata": {
    "collapsed": false,
    "pycharm": {
     "name": "#%%\n"
    }
   }
  }
 ],
 "metadata": {
  "kernelspec": {
   "display_name": "Python 3",
   "language": "python",
   "name": "python3"
  },
  "language_info": {
   "codemirror_mode": {
    "name": "ipython",
    "version": 2
   },
   "file_extension": ".py",
   "mimetype": "text/x-python",
   "name": "python",
   "nbconvert_exporter": "python",
   "pygments_lexer": "ipython2",
   "version": "2.7.6"
  }
 },
 "nbformat": 4,
 "nbformat_minor": 0
}