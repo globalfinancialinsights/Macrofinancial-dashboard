{
 "cells": [
  {
   "cell_type": "code",
   "execution_count": 9,
   "metadata": {
    "collapsed": true,
    "pycharm": {
     "name": "#%%\n"
    }
   },
   "outputs": [],
   "source": [
    "# IMPORT CONFIGS\n",
    "\n",
    "import pandas as pd\n",
    "import os\n",
    "import platform\n",
    "import requests\n",
    "from newsapi import NewsApiClient\n",
    "import datetime"
   ]
  },
  {
   "cell_type": "code",
   "execution_count": 57,
   "outputs": [],
   "source": [
    "if platform.system() == 'Windows':\n",
    "\n",
    "    os.chdir('C:/Users/pport/OneDrive/Work/MEF/Proyectos/Seguimiento EGIAP/')\n",
    "\n",
    "elif platform.system() == 'Darwin':\n",
    "\n",
    "    os.chdir('/Users/pportocarrero/OneDrive/Work/MEF/Proyectos/Seguimiento EGIAP/')"
   ],
   "metadata": {
    "collapsed": false,
    "pycharm": {
     "name": "#%%\n"
    }
   }
  },
  {
   "cell_type": "code",
   "execution_count": 3,
   "outputs": [],
   "source": [
    "# TOP BUSINESS NEWS\n",
    "\n",
    "b_query_params = {\n",
    "    #'source': 'bbc-news,associated-press,axios,bloomberg,business-insider,cnn,fortune,google-news,reuters,the-wall-street-journal,the-washington-post',\n",
    "    'category': 'business',\n",
    "    'apiKey': '29ea9658c32447ecb673084668520ffe',\n",
    "    'country': 'us'\n",
    "}\n",
    "\n",
    "business_url = 'https://newsapi.org/v2/top-headlines?'\n",
    "\n",
    "# FETCHING\n",
    "\n",
    "business_res = requests.get(business_url, params=b_query_params)\n",
    "\n",
    "business_json = business_res.json()"
   ],
   "metadata": {
    "collapsed": false,
    "pycharm": {
     "name": "#%%\n"
    }
   }
  },
  {
   "cell_type": "code",
   "execution_count": null,
   "outputs": [],
   "source": [
    "# TOP HEADLINES DATAFRAME\n",
    "\n"
   ],
   "metadata": {
    "collapsed": false,
    "pycharm": {
     "name": "#%%\n"
    }
   }
  },
  {
   "cell_type": "code",
   "execution_count": 16,
   "outputs": [],
   "source": [
    "# TOP GENERAL NEWS\n",
    "\n",
    "gen_query_params = {\n",
    "    #'source': 'bbc-news,associated-press,axios,bloomberg,business-insider,cnn,fortune,google-news,reuters,the-wall-street-journal,the-washington-post',\n",
    "    'category': 'general',\n",
    "    'apiKey': '29ea9658c32447ecb673084668520ffe',\n",
    "    'country': 'us'\n",
    "}\n",
    "\n",
    "general_url = 'https://newsapi.org/v2/top-headlines?'\n",
    "\n",
    "# FETCHING\n",
    "\n",
    "general_res = requests.get(general_url, params=gen_query_params)\n",
    "\n",
    "general_json = general_res.json()"
   ],
   "metadata": {
    "collapsed": false,
    "pycharm": {
     "name": "#%%\n"
    }
   }
  },
  {
   "cell_type": "code",
   "execution_count": null,
   "outputs": [],
   "source": [],
   "metadata": {
    "collapsed": false,
    "pycharm": {
     "name": "#%%\n"
    }
   }
  }
 ],
 "metadata": {
  "kernelspec": {
   "display_name": "Python 3",
   "language": "python",
   "name": "python3"
  },
  "language_info": {
   "codemirror_mode": {
    "name": "ipython",
    "version": 2
   },
   "file_extension": ".py",
   "mimetype": "text/x-python",
   "name": "python",
   "nbconvert_exporter": "python",
   "pygments_lexer": "ipython2",
   "version": "2.7.6"
  }
 },
 "nbformat": 4,
 "nbformat_minor": 0
}