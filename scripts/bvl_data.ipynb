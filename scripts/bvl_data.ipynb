{
 "cells": [
  {
   "cell_type": "code",
   "execution_count": 1,
   "metadata": {
    "collapsed": true,
    "pycharm": {
     "name": "#%%\n"
    }
   },
   "outputs": [],
   "source": [
    "# IMPORT LIBRARIES\n",
    "\n",
    "import os\n",
    "import pandas as pd\n",
    "import requests\n",
    "import platform"
   ]
  },
  {
   "cell_type": "code",
   "execution_count": 2,
   "outputs": [],
   "source": [
    "# SOME CONFIGS\n",
    "\n",
    "if platform.system() == 'Windows':\n",
    "\n",
    "    os.chdir('C:/Users/pport/OneDrive/Projects/Macrofinancial-dashboard/mercados/')\n",
    "\n",
    "if platform.system() == 'Darwin':\n",
    "\n",
    "    os.chdir('/Users/pportocarrero/OneDrive/Projects/Macrofinancial-dashboard/mercados/')"
   ],
   "metadata": {
    "collapsed": false,
    "pycharm": {
     "name": "#%%\n"
    }
   }
  },
  {
   "cell_type": "code",
   "execution_count": 3,
   "outputs": [],
   "source": [
    "# VARIABLES TO WORK WITH\n",
    "\n",
    "dict_scraping = dict(\n",
    "    str_url=\"https://www.spglobal.com/spdji/en/util/redesign/index-data/get-performance-data-for-datawidget-redesign.dot\",\n",
    "    headers={\n",
    "        \"user-agent\": \"Mozilla/5.0 (Windows NT 10.0; Win64; x64) AppleWebKit/537.36 (KHTML, like Gecko) Chrome/96.0.4664.110 Safari/537.36\"\n",
    "    },\n",
    "    params={\n",
    "        \"indexId\": \"92026288\",\n",
    "        \"getchildindex\": \"true\",\n",
    "        \"returntype\": \"T-\",\n",
    "        \"currencycode\": \"PEN\",\n",
    "        \"language_id\": \"1\",\n",
    "        \"_\": \"1655698943457\",\n",
    "    },\n",
    ")"
   ],
   "metadata": {
    "collapsed": false,
    "pycharm": {
     "name": "#%%\n"
    }
   }
  },
  {
   "cell_type": "code",
   "execution_count": 4,
   "outputs": [],
   "source": [
    "# REQ THE DATA\n",
    "\n",
    "req_sp = requests.get(\n",
    "    url=dict_scraping[\"str_url\"],\n",
    "    params=dict_scraping[\"params\"],\n",
    "    headers=dict_scraping[\"headers\"],\n",
    ")"
   ],
   "metadata": {
    "collapsed": false,
    "pycharm": {
     "name": "#%%\n"
    }
   }
  },
  {
   "cell_type": "code",
   "execution_count": 5,
   "outputs": [],
   "source": [
    "json_sp = req_sp.json()"
   ],
   "metadata": {
    "collapsed": false,
    "pycharm": {
     "name": "#%%\n"
    }
   }
  },
  {
   "cell_type": "code",
   "execution_count": 6,
   "outputs": [
    {
     "data": {
      "text/plain": "dict_keys(['status', 'serviceMessages', 'serviceConfig', 'indexDetailHolder', 'constituentHolder', 'indexCharacteristics', 'indexSectorBreakdownHolder', 'indexLevelsHolder', 'indexPerformanceHolder', 'idsIndexAdvancedRiskMetricsHolder', 'idsIndexQuickFactsHolder', 'idsIndexCountryBreakdownHolder', 'idsIndexCurrencyHolder', 'idsIndexReturnTypeHolder', 'serviceMessage'])"
     },
     "execution_count": 6,
     "metadata": {},
     "output_type": "execute_result"
    }
   ],
   "source": [
    "json_sp.keys()"
   ],
   "metadata": {
    "collapsed": false,
    "pycharm": {
     "name": "#%%\n"
    }
   }
  },
  {
   "cell_type": "code",
   "execution_count": 7,
   "outputs": [
    {
     "data": {
      "text/plain": "dict_keys(['status', 'serviceMessages', 'fetchedDate', 'indexLevels', 'formattedFetchedDate', 'formattedDateForWidget', 'serviceMessage'])"
     },
     "execution_count": 7,
     "metadata": {},
     "output_type": "execute_result"
    }
   ],
   "source": [
    "json_sp[\"indexLevelsHolder\"].keys()"
   ],
   "metadata": {
    "collapsed": false,
    "pycharm": {
     "name": "#%%\n"
    }
   }
  },
  {
   "cell_type": "code",
   "execution_count": 8,
   "outputs": [],
   "source": [
    "df_bvl_sp = pd.DataFrame(json_sp[\"indexLevelsHolder\"][\"indexLevels\"])"
   ],
   "metadata": {
    "collapsed": false,
    "pycharm": {
     "name": "#%%\n"
    }
   }
  },
  {
   "cell_type": "code",
   "execution_count": 9,
   "outputs": [
    {
     "data": {
      "text/plain": "Index(['effectiveDate', 'indexId', 'effectiveDateInEst', 'indexValue',\n       'monthToDateFlag', 'quarterToDateFlag', 'yearToDateFlag', 'oneYearFlag',\n       'threeYearFlag', 'fiveYearFlag', 'tenYearFlag', 'allYearFlag',\n       'fetchedDate', 'formattedEffectiveDate'],\n      dtype='object')"
     },
     "execution_count": 9,
     "metadata": {},
     "output_type": "execute_result"
    }
   ],
   "source": [
    "df_bvl_sp.columns"
   ],
   "metadata": {
    "collapsed": false,
    "pycharm": {
     "name": "#%%\n"
    }
   }
  },
  {
   "cell_type": "code",
   "execution_count": 10,
   "outputs": [
    {
     "data": {
      "text/plain": "effectiveDate               int64\nindexId                     int64\neffectiveDateInEst          int64\nindexValue                float64\nmonthToDateFlag            object\nquarterToDateFlag          object\nyearToDateFlag             object\noneYearFlag                object\nthreeYearFlag              object\nfiveYearFlag               object\ntenYearFlag                object\nallYearFlag                object\nfetchedDate                 int64\nformattedEffectiveDate     object\ndtype: object"
     },
     "execution_count": 10,
     "metadata": {},
     "output_type": "execute_result"
    }
   ],
   "source": [
    "df_bvl_sp.dtypes"
   ],
   "metadata": {
    "collapsed": false,
    "pycharm": {
     "name": "#%%\n"
    }
   }
  },
  {
   "cell_type": "code",
   "execution_count": 11,
   "outputs": [],
   "source": [
    "df_bvl_sp = pd.DataFrame(\n",
    "    {\n",
    "        \"Date\": df_bvl_sp.formattedEffectiveDate.apply(\n",
    "            pd.to_datetime, format=\"%d-%b-%Y\"\n",
    "        ),\n",
    "        \"Close\": df_bvl_sp.indexValue,\n",
    "    }\n",
    ")"
   ],
   "metadata": {
    "collapsed": false,
    "pycharm": {
     "name": "#%%\n"
    }
   }
  },
  {
   "cell_type": "code",
   "execution_count": 12,
   "outputs": [
    {
     "data": {
      "text/plain": "           Date         Close\n2523 2022-08-19  19668.615748\n2524 2022-08-22  19407.937765\n2525 2022-08-23  19594.333313\n2526 2022-08-24  19573.065041\n2527 2022-08-25  19571.689273",
      "text/html": "<div>\n<style scoped>\n    .dataframe tbody tr th:only-of-type {\n        vertical-align: middle;\n    }\n\n    .dataframe tbody tr th {\n        vertical-align: top;\n    }\n\n    .dataframe thead th {\n        text-align: right;\n    }\n</style>\n<table border=\"1\" class=\"dataframe\">\n  <thead>\n    <tr style=\"text-align: right;\">\n      <th></th>\n      <th>Date</th>\n      <th>Close</th>\n    </tr>\n  </thead>\n  <tbody>\n    <tr>\n      <th>2523</th>\n      <td>2022-08-19</td>\n      <td>19668.615748</td>\n    </tr>\n    <tr>\n      <th>2524</th>\n      <td>2022-08-22</td>\n      <td>19407.937765</td>\n    </tr>\n    <tr>\n      <th>2525</th>\n      <td>2022-08-23</td>\n      <td>19594.333313</td>\n    </tr>\n    <tr>\n      <th>2526</th>\n      <td>2022-08-24</td>\n      <td>19573.065041</td>\n    </tr>\n    <tr>\n      <th>2527</th>\n      <td>2022-08-25</td>\n      <td>19571.689273</td>\n    </tr>\n  </tbody>\n</table>\n</div>"
     },
     "execution_count": 12,
     "metadata": {},
     "output_type": "execute_result"
    }
   ],
   "source": [
    "df_bvl_sp.tail()"
   ],
   "metadata": {
    "collapsed": false,
    "pycharm": {
     "name": "#%%\n"
    }
   }
  },
  {
   "cell_type": "code",
   "execution_count": 13,
   "outputs": [],
   "source": [
    "# EXPORTING THE DATA\n",
    "\n",
    "df_bvl_sp.to_feather('bvl_gen')\n",
    "\n",
    "df_bvl_sp.to_excel('bvl_gen.xlsx')"
   ],
   "metadata": {
    "collapsed": false,
    "pycharm": {
     "name": "#%%\n"
    }
   }
  }
 ],
 "metadata": {
  "kernelspec": {
   "display_name": "Python 3",
   "language": "python",
   "name": "python3"
  },
  "language_info": {
   "codemirror_mode": {
    "name": "ipython",
    "version": 2
   },
   "file_extension": ".py",
   "mimetype": "text/x-python",
   "name": "python",
   "nbconvert_exporter": "python",
   "pygments_lexer": "ipython2",
   "version": "2.7.6"
  }
 },
 "nbformat": 4,
 "nbformat_minor": 0
}