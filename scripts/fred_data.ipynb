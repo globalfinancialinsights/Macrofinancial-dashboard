{
 "cells": [
  {
   "cell_type": "code",
   "execution_count": 71,
   "outputs": [],
   "source": [
    "# IMPORT LIBRARIES\n",
    "\n",
    "import os\n",
    "import pandas as pd\n",
    "import platform"
   ],
   "metadata": {
    "collapsed": false
   }
  },
  {
   "cell_type": "code",
   "execution_count": 72,
   "outputs": [],
   "source": [
    "if platform.system() == 'Windows':\n",
    "\n",
    "    os.chdir('C:/Users/pport/OneDrive/Projects/Macrofinancial-dashboard/mercados/')\n",
    "\n",
    "elif platform.system() == 'Darwin':\n",
    "\n",
    "    os.chdir('/Users/pportocarrero/OneDrive/Projects/Macrofinancial-dashboard/mercados')"
   ],
   "metadata": {
    "collapsed": false
   }
  },
  {
   "cell_type": "code",
   "execution_count": 73,
   "outputs": [],
   "source": [
    "with open('fred_key.txt', 'r') as file:\n",
    "\n",
    "    fred_key_str = file.read().rstrip()"
   ],
   "metadata": {
    "collapsed": false
   }
  },
  {
   "cell_type": "code",
   "execution_count": 74,
   "outputs": [],
   "source": [
    "def fred_info(name, series_id):\n",
    "\n",
    "    import numpy as np\n",
    "    import requests\n",
    "    import pandas as pd\n",
    "    from datetime import date\n",
    "\n",
    "    url = 'https://api.stlouisfed.org/fred/series/observations?series_id=' + series_id + '&api_key=' + fred_key_str + '&file_type=json'\n",
    "\n",
    "    r = requests.get(url)\n",
    "\n",
    "    json_data = r.json()\n",
    "\n",
    "    df_data = pd.json_normalize(json_data, record_path=['observations'])\n",
    "\n",
    "    today = date.today()\n",
    "\n",
    "    today = pd.to_datetime(today)\n",
    "\n",
    "    df_data['date'] = pd.to_datetime(df_data['date'])\n",
    "\n",
    "    start = df_data['date'].searchsorted('2012-01-01')\n",
    "\n",
    "    end = df_data['date'].searchsorted(today)\n",
    "\n",
    "    df_data = df_data.iloc[start:end]\n",
    "\n",
    "    df_data = df_data.drop(columns=['realtime_start', 'realtime_end'])\n",
    "\n",
    "    df_data['value'].replace('.', np.nan, inplace=True)\n",
    "\n",
    "    df_data.dropna(subset=['value'], inplace=True)\n",
    "\n",
    "    return df_data.to_excel(name + '.xlsx')"
   ],
   "metadata": {
    "collapsed": false
   }
  },
  {
   "cell_type": "code",
   "execution_count": 75,
   "outputs": [],
   "source": [
    "# UST 1 MONTH\n",
    "\n",
    "fred_info('ust1m', 'DGS1MO')"
   ],
   "metadata": {
    "collapsed": false
   }
  },
  {
   "cell_type": "code",
   "execution_count": 76,
   "outputs": [],
   "source": [
    "# UST 3 MONTHS\n",
    "\n",
    "fred_info('ust3m', 'DGS3MO')"
   ],
   "metadata": {
    "collapsed": false
   }
  },
  {
   "cell_type": "code",
   "execution_count": 77,
   "outputs": [],
   "source": [
    "# UST 6 MONTHS\n",
    "\n",
    "fred_info('ust6m', 'DGS6MO')"
   ],
   "metadata": {
    "collapsed": false
   }
  },
  {
   "cell_type": "code",
   "execution_count": 78,
   "outputs": [],
   "source": [
    "# UST 1 YEAR\n",
    "\n",
    "fred_info('ust1y', 'DGS1')"
   ],
   "metadata": {
    "collapsed": false
   }
  },
  {
   "cell_type": "code",
   "execution_count": 79,
   "outputs": [],
   "source": [
    "# UST 2 YEARS\n",
    "\n",
    "fred_info('ust2y', 'DGS2')"
   ],
   "metadata": {
    "collapsed": false
   }
  },
  {
   "cell_type": "code",
   "execution_count": 80,
   "outputs": [],
   "source": [
    "# UST 3 YEARS\n",
    "\n",
    "fred_info('ust3y', 'DGS3')"
   ],
   "metadata": {
    "collapsed": false
   }
  },
  {
   "cell_type": "code",
   "execution_count": 81,
   "outputs": [],
   "source": [
    "# UST 5 YEARS\n",
    "\n",
    "fred_info('ust5y', 'DGS5')"
   ],
   "metadata": {
    "collapsed": false
   }
  },
  {
   "cell_type": "code",
   "execution_count": 82,
   "outputs": [],
   "source": [
    "# UST 7 YEARS\n",
    "\n",
    "fred_info('ust7y', 'DGS7')"
   ],
   "metadata": {
    "collapsed": false
   }
  },
  {
   "cell_type": "code",
   "execution_count": 83,
   "outputs": [],
   "source": [
    "# UST 10 YEARS\n",
    "\n",
    "fred_info('ust10y', 'DGS10')"
   ],
   "metadata": {
    "collapsed": false
   }
  },
  {
   "cell_type": "code",
   "execution_count": 84,
   "outputs": [],
   "source": [
    "# UST 20 YEARS\n",
    "\n",
    "fred_info('ust20y', 'DGS20')"
   ],
   "metadata": {
    "collapsed": false
   }
  },
  {
   "cell_type": "code",
   "execution_count": 85,
   "outputs": [],
   "source": [
    "# UST 30 YEARS\n",
    "\n",
    "fred_info('ust30y', 'DGS30')"
   ],
   "metadata": {
    "collapsed": false
   }
  },
  {
   "cell_type": "code",
   "execution_count": 86,
   "outputs": [],
   "source": [
    "# LOAD TREASURIES\n",
    "\n",
    "ust1m = pd.read_excel('ust1m.xlsx')  # US TREASURY 1 MONTH\n",
    "ust3m = pd.read_excel('ust3m.xlsx')  # US TREASURY 3 MONTHS\n",
    "ust6m = pd.read_excel('ust6m.xlsx')  # US TREASURY 6 MONTHS\n",
    "ust1y = pd.read_excel('ust1y.xlsx')  # US TREASURY 1 YEAR\n",
    "ust2y = pd.read_excel('ust2y.xlsx')  # US TREASURY 2 YEARS\n",
    "ust3y = pd.read_excel('ust3y.xlsx')  # US TREASURY 3 YEARS\n",
    "ust5y = pd.read_excel('ust5y.xlsx')  # US TREASURY 5 YEARS\n",
    "ust7y = pd.read_excel('ust7y.xlsx')  # US TREASURY 7 YEARS\n",
    "ust10y = pd.read_excel('ust10y.xlsx')  # US TREASURY 10 YEARS\n",
    "ust20y = pd.read_excel('ust20y.xlsx')  # US TREASURY 20 YEARS\n",
    "ust30y = pd.read_excel('ust30y.xlsx')  # US TREASURY 30 YEARS"
   ],
   "metadata": {
    "collapsed": false
   }
  },
  {
   "cell_type": "code",
   "execution_count": 87,
   "outputs": [],
   "source": [
    "# LATEST CURVE\n",
    "\n",
    "ust1m_t0 = ust1m['value'].iloc[-1]\n",
    "ust3m_t0 = ust3m['value'].iloc[-1]\n",
    "ust6m_t0 = ust6m['value'].iloc[-1]\n",
    "ust1y_t0 = ust1y['value'].iloc[-1]\n",
    "ust2y_t0 = ust2y['value'].iloc[-1]\n",
    "ust3y_t0 = ust3y['value'].iloc[-1]\n",
    "ust5y_t0 = ust5y['value'].iloc[-1]\n",
    "ust7y_t0 = ust7y['value'].iloc[-1]\n",
    "ust10y_t0 = ust10y['value'].iloc[-1]\n",
    "ust20y_t0 = ust20y['value'].iloc[-1]\n",
    "ust30y_t0 = ust30y['value'].iloc[-1]\n",
    "\n",
    "ust_t0 = ust1m['date'].iloc[-1]"
   ],
   "metadata": {
    "collapsed": false
   }
  },
  {
   "cell_type": "code",
   "execution_count": 88,
   "outputs": [],
   "source": [
    "# PREVIOUS DAY CURVE\n",
    "\n",
    "ust1m_t1 = ust1m['value'].iloc[-2]\n",
    "ust3m_t1 = ust3m['value'].iloc[-2]\n",
    "ust6m_t1 = ust6m['value'].iloc[-2]\n",
    "ust1y_t1 = ust1y['value'].iloc[-2]\n",
    "ust2y_t1 = ust2y['value'].iloc[-2]\n",
    "ust3y_t1 = ust3y['value'].iloc[-2]\n",
    "ust5y_t1 = ust5y['value'].iloc[-2]\n",
    "ust7y_t1 = ust7y['value'].iloc[-2]\n",
    "ust10y_t1 = ust10y['value'].iloc[-2]\n",
    "ust20y_t1 = ust20y['value'].iloc[-2]\n",
    "ust30y_t1 = ust30y['value'].iloc[-2]\n",
    "\n",
    "ust_t1 = ust1m['date'].iloc[-2]"
   ],
   "metadata": {
    "collapsed": false
   }
  },
  {
   "cell_type": "code",
   "execution_count": 89,
   "outputs": [],
   "source": [
    "# MONTH AGO CURVE\n",
    "\n",
    "ust1m_t1m = ust1m['value'].iloc[-22]\n",
    "ust3m_t1m = ust3m['value'].iloc[-22]\n",
    "ust6m_t1m = ust6m['value'].iloc[-22]\n",
    "ust1y_t1m = ust1y['value'].iloc[-22]\n",
    "ust2y_t1m = ust2y['value'].iloc[-22]\n",
    "ust3y_t1m = ust3y['value'].iloc[-22]\n",
    "ust5y_t1m = ust5y['value'].iloc[-22]\n",
    "ust7y_t1m = ust7y['value'].iloc[-22]\n",
    "ust10y_t1m = ust10y['value'].iloc[-22]\n",
    "ust20y_t1m = ust20y['value'].iloc[-22]\n",
    "ust30y_t1m = ust30y['value'].iloc[-22]\n",
    "\n",
    "ust_t1m = ust1m['date'].iloc[-22]"
   ],
   "metadata": {
    "collapsed": false
   }
  },
  {
   "cell_type": "code",
   "execution_count": 90,
   "outputs": [],
   "source": [
    "# UST CURVES\n",
    "\n",
    "ust_curve = {\n",
    "    ust_t0: [ust1m_t0, ust3m_t0, ust6m_t0, ust1y_t0, ust2y_t0, ust3y_t0, ust5y_t0, ust7y_t0, ust10y_t0, ust20y_t0, ust30y_t0],\n",
    "    ust_t1: [ust1m_t1, ust3m_t1, ust6m_t1, ust1y_t1, ust2y_t1, ust3y_t1, ust5y_t1, ust7y_t1, ust10y_t1, ust20y_t1, ust30y_t1],\n",
    "    ust_t1m: [ust1m_t1m, ust3m_t1m, ust6m_t1m, ust1y_t1m, ust2y_t1m, ust3y_t1m, ust5y_t1m, ust7y_t1m, ust10y_t1m, ust20y_t1m, ust30y_t1m]\n",
    "}\n",
    "\n",
    "ust_curve_df = pd.DataFrame(ust_curve)"
   ],
   "metadata": {
    "collapsed": false
   }
  },
  {
   "cell_type": "code",
   "execution_count": 91,
   "outputs": [],
   "source": [
    "ust_curve_df = ust_curve_df.rename(index={0: '1m', 1: '3m', 2: '6m', 3: '1a', 4: '2a', 5: '3a', 6: '5a', 7: '7a', 8: '10a', 9: '20a', 10: '30a'})"
   ],
   "metadata": {
    "collapsed": false
   }
  },
  {
   "cell_type": "code",
   "execution_count": 92,
   "outputs": [],
   "source": [
    "ust_curve_df.reset_index(level=0, inplace=True)"
   ],
   "metadata": {
    "collapsed": false
   }
  },
  {
   "cell_type": "code",
   "execution_count": 93,
   "outputs": [],
   "source": [
    "ust_curve_df = ust_curve_df.rename(columns={'index': 'Vencimientos'})"
   ],
   "metadata": {
    "collapsed": false
   }
  },
  {
   "cell_type": "code",
   "execution_count": 94,
   "outputs": [],
   "source": [
    "ust_curve_df.to_excel('ust_curve.xlsx')"
   ],
   "metadata": {
    "collapsed": false
   }
  },
  {
   "cell_type": "code",
   "execution_count": 95,
   "outputs": [],
   "source": [
    "# US QUATERLY GDP YOY\n",
    "\n",
    "fred_info('us_gdp', 'A191RL1Q225SBEA')"
   ],
   "metadata": {
    "collapsed": false
   }
  },
  {
   "cell_type": "code",
   "execution_count": 96,
   "outputs": [],
   "source": [
    "# US PCE\n",
    "\n",
    "fred_info('us_pce', 'PCEPI')\n",
    "\n",
    "us_pce = pd.read_excel('us_pce.xlsx')\n",
    "\n",
    "us_pce['yoy_growth'] = us_pce['value'].pct_change(12)\n",
    "\n",
    "us_pce.to_excel('us_pce.xlsx')"
   ],
   "metadata": {
    "collapsed": false
   }
  },
  {
   "cell_type": "code",
   "execution_count": 97,
   "outputs": [],
   "source": [
    "# US CORE PCE\n",
    "\n",
    "fred_info('us_core_pce', 'PCEPILFE')\n",
    "\n",
    "us_core_pce = pd.read_excel('us_core_pce.xlsx')\n",
    "\n",
    "us_core_pce['yoy_growth'] = us_core_pce['value'].pct_change(12)\n",
    "\n",
    "us_core_pce.to_excel('us_core_pce.xlsx')"
   ],
   "metadata": {
    "collapsed": false
   }
  },
  {
   "cell_type": "code",
   "execution_count": 98,
   "outputs": [],
   "source": [
    "# FEDERAL RESERVE FEDERAL FUNDS TARGET RANGE UPPER LIMIT\n",
    "\n",
    "fred_info('fed_rate_upper', 'DFEDTARU')\n",
    "\n",
    "# GROUP BY MONTH AND YEAR\n",
    "\n",
    "fed_upper = pd.read_excel('fed_rate_upper.xlsx')\n",
    "\n",
    "fed_upper['date'] = pd.to_datetime(fed_upper['date'], format='%y-%m-%d')\n",
    "\n",
    "fed_upper.index = fed_upper['date']\n",
    "\n",
    "fed_upper = fed_upper.drop(fed_upper.columns[[0, 1]], axis=1)\n",
    "\n",
    "fed_upper = fed_upper.sort_values('date').groupby(by=[fed_upper.index.month, fed_upper.index.year]).tail(1)\n",
    "\n",
    "fed_upper.to_excel('fed_rate_upper.xlsx')\n",
    "\n",
    "# FEDERAL RESERVE FEDERAL FUNDS TARGET RANGE LOWER LIMIT\n",
    "\n",
    "fred_info('fed_rate_lower', 'DFEDTARL')\n",
    "\n",
    "fed_lower = pd.read_excel('fed_rate_lower.xlsx')\n",
    "\n",
    "fed_lower['date'] = pd.to_datetime(fed_lower['date'], format='%y-%m-%d')\n",
    "\n",
    "fed_lower.index = fed_lower['date']\n",
    "\n",
    "fed_lower = fed_lower.drop(fed_lower.columns[[0, 1]], axis=1)\n",
    "\n",
    "fed_lower = fed_lower.sort_values('date').groupby(by=[fed_lower.index.month, fed_lower.index.year]).tail(1)\n",
    "\n",
    "fed_lower.to_excel('fed_rate_lower.xlsx')"
   ],
   "metadata": {
    "collapsed": false
   }
  }
 ],
 "metadata": {
  "kernelspec": {
   "display_name": "Python 3",
   "language": "python",
   "name": "python3"
  },
  "language_info": {
   "codemirror_mode": {
    "name": "ipython",
    "version": 2
   },
   "file_extension": ".py",
   "mimetype": "text/x-python",
   "name": "python",
   "nbconvert_exporter": "python",
   "pygments_lexer": "ipython2",
   "version": "2.7.6"
  }
 },
 "nbformat": 4,
 "nbformat_minor": 0
}
