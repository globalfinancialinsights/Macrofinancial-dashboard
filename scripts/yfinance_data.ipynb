{
 "cells": [
  {
   "cell_type": "code",
   "execution_count": 24,
   "outputs": [
    {
     "name": "stderr",
     "output_type": "stream",
     "text": [
      "[autoreload of botocore.vendored.six failed: Traceback (most recent call last):\n",
      "  File \"C:\\Users\\pport\\anaconda3\\lib\\site-packages\\IPython\\extensions\\autoreload.py\", line 257, in check\n",
      "    superreload(m, reload, self.old_objects)\n",
      "  File \"C:\\Users\\pport\\anaconda3\\lib\\site-packages\\IPython\\extensions\\autoreload.py\", line 480, in superreload\n",
      "    update_generic(old_obj, new_obj)\n",
      "  File \"C:\\Users\\pport\\anaconda3\\lib\\site-packages\\IPython\\extensions\\autoreload.py\", line 377, in update_generic\n",
      "    update(a, b)\n",
      "  File \"C:\\Users\\pport\\anaconda3\\lib\\site-packages\\IPython\\extensions\\autoreload.py\", line 310, in update_class\n",
      "    old_obj = getattr(old, key)\n",
      "  File \"C:\\Users\\pport\\anaconda3\\lib\\site-packages\\botocore\\vendored\\six.py\", line 98, in __get__\n",
      "    setattr(obj, self.name, result)  # Invokes __set__.\n",
      "AttributeError: 'NoneType' object has no attribute 'cStringIO'\n",
      "]\n",
      "[autoreload of botocore.exceptions failed: Traceback (most recent call last):\n",
      "  File \"C:\\Users\\pport\\anaconda3\\lib\\site-packages\\IPython\\extensions\\autoreload.py\", line 257, in check\n",
      "    superreload(m, reload, self.old_objects)\n",
      "  File \"C:\\Users\\pport\\anaconda3\\lib\\site-packages\\IPython\\extensions\\autoreload.py\", line 455, in superreload\n",
      "    module = reload(module)\n",
      "  File \"C:\\Users\\pport\\anaconda3\\lib\\importlib\\__init__.py\", line 169, in reload\n",
      "    _bootstrap._exec(spec, module)\n",
      "  File \"<frozen importlib._bootstrap>\", line 613, in _exec\n",
      "  File \"<frozen importlib._bootstrap_external>\", line 850, in exec_module\n",
      "  File \"<frozen importlib._bootstrap>\", line 228, in _call_with_frames_removed\n",
      "  File \"C:\\Users\\pport\\anaconda3\\lib\\site-packages\\botocore\\exceptions.py\", line 129, in <module>\n",
      "    class SSLError(ConnectionError, requests.exceptions.SSLError):\n",
      "AttributeError: module 'botocore.vendored.requests' has no attribute 'exceptions'\n",
      "]\n",
      "[autoreload of botocore.docs.utils failed: Traceback (most recent call last):\n",
      "  File \"C:\\Users\\pport\\anaconda3\\lib\\site-packages\\IPython\\extensions\\autoreload.py\", line 257, in check\n",
      "    superreload(m, reload, self.old_objects)\n",
      "  File \"C:\\Users\\pport\\anaconda3\\lib\\site-packages\\IPython\\extensions\\autoreload.py\", line 480, in superreload\n",
      "    update_generic(old_obj, new_obj)\n",
      "  File \"C:\\Users\\pport\\anaconda3\\lib\\site-packages\\IPython\\extensions\\autoreload.py\", line 377, in update_generic\n",
      "    update(a, b)\n",
      "  File \"C:\\Users\\pport\\anaconda3\\lib\\site-packages\\IPython\\extensions\\autoreload.py\", line 345, in update_class\n",
      "    update_instances(old, new)\n",
      "  File \"C:\\Users\\pport\\anaconda3\\lib\\site-packages\\IPython\\extensions\\autoreload.py\", line 303, in update_instances\n",
      "    ref.__class__ = new\n",
      "TypeError: __class__ assignment: 'DocumentedShape' object layout differs from 'DocumentedShape'\n",
      "]\n"
     ]
    },
    {
     "name": "stdout",
     "output_type": "stream",
     "text": [
      "The autoreload extension is already loaded. To reload it, use:\n",
      "  %reload_ext autoreload\n"
     ]
    }
   ],
   "source": [
    "# IMPORT CONFIGURATIONS\n",
    "\n",
    "from datetime import date\n",
    "import info_modules as im\n",
    "%load_ext autoreload\n",
    "%reload_ext autoreload\n",
    "%autoreload 2"
   ],
   "metadata": {
    "collapsed": false
   }
  },
  {
   "cell_type": "code",
   "execution_count": 25,
   "outputs": [],
   "source": [
    "# CHANGE WORKING DIRECTORY\n",
    "\n",
    "im.working_folder('mercados')\n",
    "\n",
    "today = date.today()"
   ],
   "metadata": {
    "collapsed": false
   }
  },
  {
   "cell_type": "code",
   "execution_count": 26,
   "outputs": [
    {
     "name": "stdout",
     "output_type": "stream",
     "text": [
      "[*********************100%***********************]  1 of 1 completed\n"
     ]
    }
   ],
   "source": [
    "# WTI CRUDE\n",
    "\n",
    "im.fin_inf('wti_crude', 'CL=F', '10y', '1d', 'ticker')"
   ],
   "metadata": {
    "collapsed": false
   }
  },
  {
   "cell_type": "code",
   "execution_count": 27,
   "outputs": [
    {
     "name": "stdout",
     "output_type": "stream",
     "text": [
      "[*********************100%***********************]  1 of 1 completed\n"
     ]
    }
   ],
   "source": [
    "# BRENT CRUDE\n",
    "\n",
    "im.fin_inf('brent_crude', 'BZ=F', '10y', '1d', 'ticker')"
   ],
   "metadata": {
    "collapsed": false
   }
  },
  {
   "cell_type": "code",
   "execution_count": 28,
   "outputs": [
    {
     "name": "stdout",
     "output_type": "stream",
     "text": [
      "[*********************100%***********************]  1 of 1 completed\n"
     ]
    }
   ],
   "source": [
    "# VIX INDEX\n",
    "\n",
    "im.fin_inf('vix_index', '^VIX', '10y', '1d', 'ticker')"
   ],
   "metadata": {
    "collapsed": false
   }
  },
  {
   "cell_type": "code",
   "execution_count": 29,
   "outputs": [
    {
     "name": "stdout",
     "output_type": "stream",
     "text": [
      "[*********************100%***********************]  1 of 1 completed\n"
     ]
    }
   ],
   "source": [
    "# MOVE INDEX\n",
    "\n",
    "im.fin_inf('move_index', '^MOVE', '10y', '1d', 'ticker')"
   ],
   "metadata": {
    "collapsed": false
   }
  },
  {
   "cell_type": "code",
   "execution_count": 30,
   "outputs": [
    {
     "name": "stdout",
     "output_type": "stream",
     "text": [
      "[*********************100%***********************]  1 of 1 completed\n"
     ]
    }
   ],
   "source": [
    "# S&P 500\n",
    "\n",
    "im.fin_inf('sp_500', '^GSPC', '10y', '1d', 'ticker')"
   ],
   "metadata": {
    "collapsed": false
   }
  },
  {
   "cell_type": "code",
   "execution_count": 31,
   "outputs": [
    {
     "name": "stdout",
     "output_type": "stream",
     "text": [
      "[*********************100%***********************]  1 of 1 completed\n"
     ]
    }
   ],
   "source": [
    "# DOW JONES\n",
    "\n",
    "im.fin_inf('dji_index', '^DJI', '10y', '1d', 'ticker')"
   ],
   "metadata": {
    "collapsed": false
   }
  },
  {
   "cell_type": "code",
   "execution_count": 32,
   "outputs": [
    {
     "name": "stdout",
     "output_type": "stream",
     "text": [
      "[*********************100%***********************]  1 of 1 completed\n"
     ]
    }
   ],
   "source": [
    "# NASDAQ 100\n",
    "\n",
    "im.fin_inf('nasdaq_100', '^IXIC', '10y', '1d', 'ticker')"
   ],
   "metadata": {
    "collapsed": false
   }
  },
  {
   "cell_type": "code",
   "execution_count": 33,
   "outputs": [
    {
     "name": "stdout",
     "output_type": "stream",
     "text": [
      "[*********************100%***********************]  1 of 1 completed\n"
     ]
    }
   ],
   "source": [
    "# RUSSELL 2000\n",
    "\n",
    "im.fin_inf('russell_2000', '^RUT', '10y', '1d', 'ticker')"
   ],
   "metadata": {
    "collapsed": false
   }
  },
  {
   "cell_type": "code",
   "execution_count": 34,
   "outputs": [
    {
     "name": "stdout",
     "output_type": "stream",
     "text": [
      "[*********************100%***********************]  1 of 1 completed\n"
     ]
    }
   ],
   "source": [
    "# RUSSELL 3000\n",
    "\n",
    "im.fin_inf('russell_3000', '^RUA', '10y', '1d', 'ticker')"
   ],
   "metadata": {
    "collapsed": false
   }
  },
  {
   "cell_type": "code",
   "execution_count": 35,
   "outputs": [
    {
     "name": "stdout",
     "output_type": "stream",
     "text": [
      "[*********************100%***********************]  1 of 1 completed\n"
     ]
    }
   ],
   "source": [
    "# FTSE 100\n",
    "\n",
    "im.fin_inf('ftse_100', '^FTSE', '10y', '1d', 'ticker')"
   ],
   "metadata": {
    "collapsed": false
   }
  },
  {
   "cell_type": "code",
   "execution_count": 36,
   "outputs": [
    {
     "name": "stdout",
     "output_type": "stream",
     "text": [
      "[*********************100%***********************]  1 of 1 completed\n"
     ]
    }
   ],
   "source": [
    "# NIKKEI 225\n",
    "\n",
    "im.fin_inf('nikkei_225', '^N225', '10y', '1d', 'ticker')"
   ],
   "metadata": {
    "collapsed": false
   }
  },
  {
   "cell_type": "code",
   "execution_count": 37,
   "outputs": [
    {
     "name": "stdout",
     "output_type": "stream",
     "text": [
      "[*********************100%***********************]  1 of 1 completed\n"
     ]
    }
   ],
   "source": [
    "# SHANGHAI COMPOSITE\n",
    "\n",
    "im.fin_inf('shanghai_comp', '000001.SS', '10y', '1d', 'ticker')"
   ],
   "metadata": {
    "collapsed": false
   }
  },
  {
   "cell_type": "code",
   "execution_count": 38,
   "outputs": [
    {
     "name": "stdout",
     "output_type": "stream",
     "text": [
      "[*********************100%***********************]  1 of 1 completed\n"
     ]
    }
   ],
   "source": [
    "# GOLD FUTURES\n",
    "\n",
    "im.fin_inf('gold_futures', 'GC=F', '10y', '1d', 'ticker')"
   ],
   "metadata": {
    "collapsed": false
   }
  },
  {
   "cell_type": "code",
   "execution_count": 39,
   "outputs": [
    {
     "name": "stdout",
     "output_type": "stream",
     "text": [
      "[*********************100%***********************]  1 of 1 completed\n"
     ]
    }
   ],
   "source": [
    "# COPPER FUTURES\n",
    "\n",
    "im.fin_inf('copper_futures', 'HG=F', '10y', '1d', 'ticker')"
   ],
   "metadata": {
    "collapsed": false
   }
  },
  {
   "cell_type": "code",
   "execution_count": 40,
   "outputs": [
    {
     "name": "stdout",
     "output_type": "stream",
     "text": [
      "[*********************100%***********************]  1 of 1 completed\n"
     ]
    }
   ],
   "source": [
    "# SILVER FUTURES\n",
    "\n",
    "im.fin_inf('silver_futures', 'SI=F', '10y', '1d', 'ticker')"
   ],
   "metadata": {
    "collapsed": false
   }
  },
  {
   "cell_type": "code",
   "execution_count": 41,
   "outputs": [
    {
     "name": "stdout",
     "output_type": "stream",
     "text": [
      "[*********************100%***********************]  1 of 1 completed\n"
     ]
    }
   ],
   "source": [
    "# WHEAT FUTURES\n",
    "\n",
    "im.fin_inf('wheat_futures', 'KE=F', '10y', '1d', 'ticker')"
   ],
   "metadata": {
    "collapsed": false
   }
  },
  {
   "cell_type": "code",
   "execution_count": 42,
   "outputs": [
    {
     "name": "stdout",
     "output_type": "stream",
     "text": [
      "[*********************100%***********************]  1 of 1 completed\n"
     ]
    }
   ],
   "source": [
    "# SOYBEAN OIL FUTURES\n",
    "\n",
    "im.fin_inf('soybean_futures', 'ZL=F', '10y', '1d', 'ticker')"
   ],
   "metadata": {
    "collapsed": false
   }
  },
  {
   "cell_type": "code",
   "execution_count": 43,
   "outputs": [
    {
     "name": "stdout",
     "output_type": "stream",
     "text": [
      "[*********************100%***********************]  1 of 1 completed\n"
     ]
    }
   ],
   "source": [
    "# CORN FUTURES\n",
    "\n",
    "im.fin_inf('corn_futures', 'ZC=F', '10y', '1d', 'ticker')"
   ],
   "metadata": {
    "collapsed": false
   }
  },
  {
   "cell_type": "code",
   "execution_count": 44,
   "outputs": [
    {
     "name": "stdout",
     "output_type": "stream",
     "text": [
      "[*********************100%***********************]  1 of 1 completed\n"
     ]
    }
   ],
   "source": [
    "# DXY DOLLAR INDEX\n",
    "\n",
    "im.fin_inf('dxy_spot', 'DX-Y.NYB', '10y', '1d', 'ticker')"
   ],
   "metadata": {
    "collapsed": false
   }
  },
  {
   "cell_type": "code",
   "execution_count": 45,
   "outputs": [
    {
     "name": "stdout",
     "output_type": "stream",
     "text": [
      "[*********************100%***********************]  1 of 1 completed\n"
     ]
    }
   ],
   "source": [
    "# iShares JP Morgan USD Emerging Markets Bond ETF\n",
    "\n",
    "im.fin_inf('jpm usd em bond etf', 'EMB', period='10y', interval='1d', group_by='ticker')"
   ],
   "metadata": {
    "collapsed": false
   }
  },
  {
   "cell_type": "code",
   "execution_count": 46,
   "outputs": [
    {
     "name": "stdout",
     "output_type": "stream",
     "text": [
      "[*********************100%***********************]  1 of 1 completed\n"
     ]
    }
   ],
   "source": [
    "# SPDR Bloomberg Emerging Markets Local Bond ETF\n",
    "\n",
    "im.fin_inf('em_lc_bond_etf', 'EBND', period='10y', interval='1d', group_by='ticker')"
   ],
   "metadata": {
    "collapsed": false
   }
  }
 ],
 "metadata": {
  "kernelspec": {
   "display_name": "Python 3",
   "language": "python",
   "name": "python3"
  },
  "language_info": {
   "codemirror_mode": {
    "name": "ipython",
    "version": 2
   },
   "file_extension": ".py",
   "mimetype": "text/x-python",
   "name": "python",
   "nbconvert_exporter": "python",
   "pygments_lexer": "ipython2",
   "version": "2.7.6"
  }
 },
 "nbformat": 4,
 "nbformat_minor": 0
}
