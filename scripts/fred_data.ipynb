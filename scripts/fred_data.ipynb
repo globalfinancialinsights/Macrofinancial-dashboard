{
 "cells": [
  {
   "cell_type": "code",
   "execution_count": 33,
   "metadata": {
    "collapsed": true,
    "pycharm": {
     "name": "#%%\n"
    }
   },
   "outputs": [],
   "source": [
    "# IMPORT LIBRARIES\n",
    "\n",
    "import fredapi as fa\n",
    "import os\n",
    "import pandas as pd"
   ]
  },
  {
   "cell_type": "code",
   "execution_count": 34,
   "outputs": [],
   "source": [
    "# SOME CONFIGS\n",
    "\n",
    "fred_key = 'a25584abe5495d3d9a227723b6776e17'\n",
    "\n",
    "fred = fa.Fred(api_key=fred_key)\n",
    "\n",
    "os.chdir('C:/Users/pport/OneDrive/Work/MEF/Proyectos/Seguimiento EGIAP/mercados/')"
   ],
   "metadata": {
    "collapsed": false,
    "pycharm": {
     "name": "#%%\n"
    }
   }
  },
  {
   "cell_type": "code",
   "execution_count": 37,
   "outputs": [
    {
     "ename": "AttributeError",
     "evalue": "'NoneType' object has no attribute 'rename'",
     "output_type": "error",
     "traceback": [
      "\u001B[1;31m---------------------------------------------------------------------------\u001B[0m",
      "\u001B[1;31mAttributeError\u001B[0m                            Traceback (most recent call last)",
      "Input \u001B[1;32mIn [37]\u001B[0m, in \u001B[0;36m<module>\u001B[1;34m\u001B[0m\n\u001B[0;32m     21\u001B[0m us_spread_df\u001B[38;5;241m.\u001B[39mto_excel(\u001B[38;5;124m'\u001B[39m\u001B[38;5;124mus_t_spreads.xlsx\u001B[39m\u001B[38;5;124m'\u001B[39m)\n\u001B[0;32m     23\u001B[0m \u001B[38;5;66;03m#us_spread_df.reset_index(level=0, inplace=True).rename(columns={us_spread_df.index.name:'Date'})\u001B[39;00m\n\u001B[1;32m---> 25\u001B[0m \u001B[43mus_spread_df\u001B[49m\u001B[38;5;241;43m.\u001B[39;49m\u001B[43mreset_index\u001B[49m\u001B[43m(\u001B[49m\u001B[43mlevel\u001B[49m\u001B[38;5;241;43m=\u001B[39;49m\u001B[38;5;241;43m0\u001B[39;49m\u001B[43m,\u001B[49m\u001B[43m \u001B[49m\u001B[43minplace\u001B[49m\u001B[38;5;241;43m=\u001B[39;49m\u001B[38;5;28;43;01mTrue\u001B[39;49;00m\u001B[43m)\u001B[49m\u001B[38;5;241;43m.\u001B[39;49m\u001B[43mrename\u001B[49m(columns\u001B[38;5;241m=\u001B[39m{us_spread_df\u001B[38;5;241m.\u001B[39mindex\u001B[38;5;241m.\u001B[39mname:\u001B[38;5;124m'\u001B[39m\u001B[38;5;124mDate\u001B[39m\u001B[38;5;124m'\u001B[39m})\n\u001B[0;32m     27\u001B[0m us_spread_df\u001B[38;5;241m.\u001B[39mto_feather(\u001B[38;5;124m'\u001B[39m\u001B[38;5;124mus_t_spreads\u001B[39m\u001B[38;5;124m'\u001B[39m)\n",
      "\u001B[1;31mAttributeError\u001B[0m: 'NoneType' object has no attribute 'rename'"
     ]
    }
   ],
   "source": [
    "# SPREAD 10-2Y US TREASURIES\n",
    "\n",
    "t10_2_spread = fred.get_series('T10Y2Y')\n",
    "\n",
    "t10_2_spread.name = 'Spread del rendimiento entre los bonos U.S. de 10 y 2 años a vencimiento constante'\n",
    "\n",
    "#t10_2_spread_df = pd.Series(t10_2_spread, name='10-2y spread')\n",
    "\n",
    "# SPREAD 10-2Y US TREASURIES\n",
    "\n",
    "t10_3m_spread = fred.get_series('T10Y3M')\n",
    "\n",
    "t10_3m_spread.name = 'Spread del rendimiento entre los bonos U.S. de 10 años y 3 meses a vencimiento constante'\n",
    "\n",
    "# UNIR BASES\n",
    "\n",
    "us_spread_df = pd.merge(t10_2_spread, t10_3m_spread, left_index=True, right_index=True)\n",
    "\n",
    "# EXPORTAR\n",
    "\n",
    "us_spread_df.to_excel('us_t_spreads.xlsx')\n",
    "\n",
    "#us_spread_df.reset_index(level=0, inplace=True).rename(columns={us_spread_df.index.name:'Date'})\n",
    "\n",
    "us_spread_df.reset_index(level=0, inplace=True).rename(columns={us_spread_df.index.name:'Date'}) ### PROBLEMA AQUÍ\n",
    "\n",
    "us_spread_df.to_feather('us_t_spreads')"
   ],
   "metadata": {
    "collapsed": false,
    "pycharm": {
     "name": "#%%\n"
    }
   }
  },
  {
   "cell_type": "code",
   "execution_count": null,
   "outputs": [],
   "source": [],
   "metadata": {
    "collapsed": false,
    "pycharm": {
     "name": "#%%\n"
    }
   }
  }
 ],
 "metadata": {
  "kernelspec": {
   "display_name": "Python 3",
   "language": "python",
   "name": "python3"
  },
  "language_info": {
   "codemirror_mode": {
    "name": "ipython",
    "version": 2
   },
   "file_extension": ".py",
   "mimetype": "text/x-python",
   "name": "python",
   "nbconvert_exporter": "python",
   "pygments_lexer": "ipython2",
   "version": "2.7.6"
  }
 },
 "nbformat": 4,
 "nbformat_minor": 0
}